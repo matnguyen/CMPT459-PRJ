{
 "cells": [
  {
   "cell_type": "code",
   "execution_count": 1,
   "metadata": {},
   "outputs": [],
   "source": [
    "import numpy as np\n",
    "import pandas as pd\n",
    "import os\n",
    "from matplotlib import pyplot as plt"
   ]
  },
  {
   "cell_type": "code",
   "execution_count": 2,
   "metadata": {},
   "outputs": [],
   "source": [
    "BASE_PATH = os.path.join(os.getcwd(), os.pardir)\n",
    "DATA_PATH = os.path.join(BASE_PATH, 'data')"
   ]
  },
  {
   "cell_type": "code",
   "execution_count": 3,
   "metadata": {},
   "outputs": [],
   "source": [
    "missing_vals = {}\n",
    "outlier_count = {}"
   ]
  },
  {
   "cell_type": "code",
   "execution_count": 4,
   "metadata": {},
   "outputs": [],
   "source": [
    "train_df = pd.read_json(os.path.join(DATA_PATH, 'train.json.zip'))"
   ]
  },
  {
   "cell_type": "code",
   "execution_count": 5,
   "metadata": {},
   "outputs": [
    {
     "data": {
      "text/html": [
       "<div>\n",
       "<style scoped>\n",
       "    .dataframe tbody tr th:only-of-type {\n",
       "        vertical-align: middle;\n",
       "    }\n",
       "\n",
       "    .dataframe tbody tr th {\n",
       "        vertical-align: top;\n",
       "    }\n",
       "\n",
       "    .dataframe thead th {\n",
       "        text-align: right;\n",
       "    }\n",
       "</style>\n",
       "<table border=\"1\" class=\"dataframe\">\n",
       "  <thead>\n",
       "    <tr style=\"text-align: right;\">\n",
       "      <th></th>\n",
       "      <th>bathrooms</th>\n",
       "      <th>bedrooms</th>\n",
       "      <th>building_id</th>\n",
       "      <th>created</th>\n",
       "      <th>description</th>\n",
       "      <th>display_address</th>\n",
       "      <th>features</th>\n",
       "      <th>latitude</th>\n",
       "      <th>listing_id</th>\n",
       "      <th>longitude</th>\n",
       "      <th>manager_id</th>\n",
       "      <th>photos</th>\n",
       "      <th>price</th>\n",
       "      <th>street_address</th>\n",
       "      <th>interest_level</th>\n",
       "    </tr>\n",
       "  </thead>\n",
       "  <tbody>\n",
       "    <tr>\n",
       "      <th>4</th>\n",
       "      <td>1.0</td>\n",
       "      <td>1</td>\n",
       "      <td>8579a0b0d54db803821a35a4a615e97a</td>\n",
       "      <td>2016-06-16 05:55:27</td>\n",
       "      <td>Spacious 1 Bedroom 1 Bathroom in Williamsburg!...</td>\n",
       "      <td>145 Borinquen Place</td>\n",
       "      <td>[Dining Room, Pre-War, Laundry in Building, Di...</td>\n",
       "      <td>40.7108</td>\n",
       "      <td>7170325</td>\n",
       "      <td>-73.9539</td>\n",
       "      <td>a10db4590843d78c784171a107bdacb4</td>\n",
       "      <td>[https://photos.renthop.com/2/7170325_3bb5ac84...</td>\n",
       "      <td>2400</td>\n",
       "      <td>145 Borinquen Place</td>\n",
       "      <td>medium</td>\n",
       "    </tr>\n",
       "    <tr>\n",
       "      <th>6</th>\n",
       "      <td>1.0</td>\n",
       "      <td>2</td>\n",
       "      <td>b8e75fc949a6cd8225b455648a951712</td>\n",
       "      <td>2016-06-01 05:44:33</td>\n",
       "      <td>BRAND NEW GUT RENOVATED TRUE 2 BEDROOMFind you...</td>\n",
       "      <td>East 44th</td>\n",
       "      <td>[Doorman, Elevator, Laundry in Building, Dishw...</td>\n",
       "      <td>40.7513</td>\n",
       "      <td>7092344</td>\n",
       "      <td>-73.9722</td>\n",
       "      <td>955db33477af4f40004820b4aed804a0</td>\n",
       "      <td>[https://photos.renthop.com/2/7092344_7663c19a...</td>\n",
       "      <td>3800</td>\n",
       "      <td>230 East 44th</td>\n",
       "      <td>low</td>\n",
       "    </tr>\n",
       "    <tr>\n",
       "      <th>9</th>\n",
       "      <td>1.0</td>\n",
       "      <td>2</td>\n",
       "      <td>cd759a988b8f23924b5a2058d5ab2b49</td>\n",
       "      <td>2016-06-14 15:19:59</td>\n",
       "      <td>**FLEX 2 BEDROOM WITH FULL PRESSURIZED WALL**L...</td>\n",
       "      <td>East 56th Street</td>\n",
       "      <td>[Doorman, Elevator, Laundry in Building, Laund...</td>\n",
       "      <td>40.7575</td>\n",
       "      <td>7158677</td>\n",
       "      <td>-73.9625</td>\n",
       "      <td>c8b10a317b766204f08e613cef4ce7a0</td>\n",
       "      <td>[https://photos.renthop.com/2/7158677_c897a134...</td>\n",
       "      <td>3495</td>\n",
       "      <td>405 East 56th Street</td>\n",
       "      <td>medium</td>\n",
       "    </tr>\n",
       "    <tr>\n",
       "      <th>10</th>\n",
       "      <td>1.5</td>\n",
       "      <td>3</td>\n",
       "      <td>53a5b119ba8f7b61d4e010512e0dfc85</td>\n",
       "      <td>2016-06-24 07:54:24</td>\n",
       "      <td>A Brand New 3 Bedroom 1.5 bath ApartmentEnjoy ...</td>\n",
       "      <td>Metropolitan Avenue</td>\n",
       "      <td>[]</td>\n",
       "      <td>40.7145</td>\n",
       "      <td>7211212</td>\n",
       "      <td>-73.9425</td>\n",
       "      <td>5ba989232d0489da1b5f2c45f6688adc</td>\n",
       "      <td>[https://photos.renthop.com/2/7211212_1ed4542e...</td>\n",
       "      <td>3000</td>\n",
       "      <td>792 Metropolitan Avenue</td>\n",
       "      <td>medium</td>\n",
       "    </tr>\n",
       "    <tr>\n",
       "      <th>15</th>\n",
       "      <td>1.0</td>\n",
       "      <td>0</td>\n",
       "      <td>bfb9405149bfff42a92980b594c28234</td>\n",
       "      <td>2016-06-28 03:50:23</td>\n",
       "      <td>Over-sized Studio w abundant closets. Availabl...</td>\n",
       "      <td>East 34th Street</td>\n",
       "      <td>[Doorman, Elevator, Fitness Center, Laundry in...</td>\n",
       "      <td>40.7439</td>\n",
       "      <td>7225292</td>\n",
       "      <td>-73.9743</td>\n",
       "      <td>2c3b41f588fbb5234d8a1e885a436cfa</td>\n",
       "      <td>[https://photos.renthop.com/2/7225292_901f1984...</td>\n",
       "      <td>2795</td>\n",
       "      <td>340 East 34th Street</td>\n",
       "      <td>low</td>\n",
       "    </tr>\n",
       "  </tbody>\n",
       "</table>\n",
       "</div>"
      ],
      "text/plain": [
       "    bathrooms  bedrooms                       building_id  \\\n",
       "4         1.0         1  8579a0b0d54db803821a35a4a615e97a   \n",
       "6         1.0         2  b8e75fc949a6cd8225b455648a951712   \n",
       "9         1.0         2  cd759a988b8f23924b5a2058d5ab2b49   \n",
       "10        1.5         3  53a5b119ba8f7b61d4e010512e0dfc85   \n",
       "15        1.0         0  bfb9405149bfff42a92980b594c28234   \n",
       "\n",
       "                created                                        description  \\\n",
       "4   2016-06-16 05:55:27  Spacious 1 Bedroom 1 Bathroom in Williamsburg!...   \n",
       "6   2016-06-01 05:44:33  BRAND NEW GUT RENOVATED TRUE 2 BEDROOMFind you...   \n",
       "9   2016-06-14 15:19:59  **FLEX 2 BEDROOM WITH FULL PRESSURIZED WALL**L...   \n",
       "10  2016-06-24 07:54:24  A Brand New 3 Bedroom 1.5 bath ApartmentEnjoy ...   \n",
       "15  2016-06-28 03:50:23  Over-sized Studio w abundant closets. Availabl...   \n",
       "\n",
       "        display_address                                           features  \\\n",
       "4   145 Borinquen Place  [Dining Room, Pre-War, Laundry in Building, Di...   \n",
       "6             East 44th  [Doorman, Elevator, Laundry in Building, Dishw...   \n",
       "9      East 56th Street  [Doorman, Elevator, Laundry in Building, Laund...   \n",
       "10  Metropolitan Avenue                                                 []   \n",
       "15     East 34th Street  [Doorman, Elevator, Fitness Center, Laundry in...   \n",
       "\n",
       "    latitude  listing_id  longitude                        manager_id  \\\n",
       "4    40.7108     7170325   -73.9539  a10db4590843d78c784171a107bdacb4   \n",
       "6    40.7513     7092344   -73.9722  955db33477af4f40004820b4aed804a0   \n",
       "9    40.7575     7158677   -73.9625  c8b10a317b766204f08e613cef4ce7a0   \n",
       "10   40.7145     7211212   -73.9425  5ba989232d0489da1b5f2c45f6688adc   \n",
       "15   40.7439     7225292   -73.9743  2c3b41f588fbb5234d8a1e885a436cfa   \n",
       "\n",
       "                                               photos  price  \\\n",
       "4   [https://photos.renthop.com/2/7170325_3bb5ac84...   2400   \n",
       "6   [https://photos.renthop.com/2/7092344_7663c19a...   3800   \n",
       "9   [https://photos.renthop.com/2/7158677_c897a134...   3495   \n",
       "10  [https://photos.renthop.com/2/7211212_1ed4542e...   3000   \n",
       "15  [https://photos.renthop.com/2/7225292_901f1984...   2795   \n",
       "\n",
       "             street_address interest_level  \n",
       "4       145 Borinquen Place         medium  \n",
       "6             230 East 44th            low  \n",
       "9      405 East 56th Street         medium  \n",
       "10  792 Metropolitan Avenue         medium  \n",
       "15     340 East 34th Street            low  "
      ]
     },
     "execution_count": 5,
     "metadata": {},
     "output_type": "execute_result"
    }
   ],
   "source": [
    "train_df.head()"
   ]
  },
  {
   "cell_type": "markdown",
   "metadata": {},
   "source": [
    "# Identifying outliers & missing values\n",
    "## Price"
   ]
  },
  {
   "cell_type": "markdown",
   "metadata": {},
   "source": [
    "We wish to determine how many listings in the training set are missing price data.\n",
    "\n",
    "Note that the listing consists entirely of apartment rentals (i.e. the properties themselves are not for sale, and houses/townhouses are excluded)."
   ]
  },
  {
   "cell_type": "code",
   "execution_count": 6,
   "metadata": {},
   "outputs": [
    {
     "data": {
      "text/plain": [
       "0"
      ]
     },
     "execution_count": 6,
     "metadata": {},
     "output_type": "execute_result"
    }
   ],
   "source": [
    "missing_price = len(train_df[train_df.astype(str)['price'].isnull()])\n",
    "\n",
    "missing_price"
   ]
  },
  {
   "cell_type": "markdown",
   "metadata": {},
   "source": [
    "### Price Boxplot"
   ]
  },
  {
   "cell_type": "code",
   "execution_count": 7,
   "metadata": {},
   "outputs": [],
   "source": [
    "price = train_df[['price']]"
   ]
  },
  {
   "cell_type": "code",
   "execution_count": 8,
   "metadata": {},
   "outputs": [
    {
     "data": {
      "text/plain": [
       "<matplotlib.axes._subplots.AxesSubplot at 0x122861048>"
      ]
     },
     "execution_count": 8,
     "metadata": {},
     "output_type": "execute_result"
    },
    {
     "data": {
      "image/png": "[encoded data removed]",
      "text/plain": [
       "<Figure size 432x288 with 1 Axes>"
      ]
     },
     "metadata": {
      "needs_background": "light"
     },
     "output_type": "display_data"
    }
   ],
   "source": [
    "price.plot(kind='box')"
   ]
  },
  {
   "cell_type": "markdown",
   "metadata": {},
   "source": [
    "### Outlier investigation (high values)"
   ]
  },
  {
   "cell_type": "markdown",
   "metadata": {},
   "source": [
    "As seen above, there appear to be a few outliers. Most prices are less than \\\\$500000, which is expected given these are rentals. There are a few outliers, a few around \\\\$1 million, and one well above \\\\$4 million. We decide to investigate these entries in more detail."
   ]
  },
  {
   "cell_type": "code",
   "execution_count": 9,
   "metadata": {},
   "outputs": [
    {
     "data": {
      "text/html": [
       "<div>\n",
       "<style scoped>\n",
       "    .dataframe tbody tr th:only-of-type {\n",
       "        vertical-align: middle;\n",
       "    }\n",
       "\n",
       "    .dataframe tbody tr th {\n",
       "        vertical-align: top;\n",
       "    }\n",
       "\n",
       "    .dataframe thead th {\n",
       "        text-align: right;\n",
       "    }\n",
       "</style>\n",
       "<table border=\"1\" class=\"dataframe\">\n",
       "  <thead>\n",
       "    <tr style=\"text-align: right;\">\n",
       "      <th></th>\n",
       "      <th>bathrooms</th>\n",
       "      <th>bedrooms</th>\n",
       "      <th>building_id</th>\n",
       "      <th>created</th>\n",
       "      <th>description</th>\n",
       "      <th>display_address</th>\n",
       "      <th>features</th>\n",
       "      <th>latitude</th>\n",
       "      <th>listing_id</th>\n",
       "      <th>longitude</th>\n",
       "      <th>manager_id</th>\n",
       "      <th>photos</th>\n",
       "      <th>price</th>\n",
       "      <th>street_address</th>\n",
       "      <th>interest_level</th>\n",
       "    </tr>\n",
       "  </thead>\n",
       "  <tbody>\n",
       "    <tr>\n",
       "      <th>12168</th>\n",
       "      <td>1.0</td>\n",
       "      <td>2</td>\n",
       "      <td>5d3525a5085445e7fcd64a53aac3cb0a</td>\n",
       "      <td>2016-06-24 05:02:58</td>\n",
       "      <td></td>\n",
       "      <td>West 116th Street</td>\n",
       "      <td>[Doorman, Elevator, Cats Allowed, Dogs Allowed...</td>\n",
       "      <td>40.8011</td>\n",
       "      <td>7208794</td>\n",
       "      <td>-73.9480</td>\n",
       "      <td>d1737922fe92ccb0dc37ba85589e6415</td>\n",
       "      <td>[]</td>\n",
       "      <td>1150000</td>\n",
       "      <td>40 West 116th Street</td>\n",
       "      <td>low</td>\n",
       "    </tr>\n",
       "    <tr>\n",
       "      <th>32611</th>\n",
       "      <td>1.0</td>\n",
       "      <td>2</td>\n",
       "      <td>cd25bbea2af848ebe9821da820b725da</td>\n",
       "      <td>2016-06-24 05:02:11</td>\n",
       "      <td></td>\n",
       "      <td>Hudson Street</td>\n",
       "      <td>[Doorman, Elevator, Cats Allowed, Dogs Allowed...</td>\n",
       "      <td>40.7299</td>\n",
       "      <td>7208764</td>\n",
       "      <td>-74.0071</td>\n",
       "      <td>d1737922fe92ccb0dc37ba85589e6415</td>\n",
       "      <td>[]</td>\n",
       "      <td>4490000</td>\n",
       "      <td>421 Hudson Street</td>\n",
       "      <td>low</td>\n",
       "    </tr>\n",
       "    <tr>\n",
       "      <th>55437</th>\n",
       "      <td>1.0</td>\n",
       "      <td>1</td>\n",
       "      <td>37385c8a58176b529964083315c28e32</td>\n",
       "      <td>2016-05-14 05:21:28</td>\n",
       "      <td></td>\n",
       "      <td>West 57th Street</td>\n",
       "      <td>[Doorman, Cats Allowed, Dogs Allowed]</td>\n",
       "      <td>40.7676</td>\n",
       "      <td>7013217</td>\n",
       "      <td>-73.9844</td>\n",
       "      <td>8f5a9c893f6d602f4953fcc0b8e6e9b4</td>\n",
       "      <td>[]</td>\n",
       "      <td>1070000</td>\n",
       "      <td>333 West 57th Street</td>\n",
       "      <td>low</td>\n",
       "    </tr>\n",
       "    <tr>\n",
       "      <th>57803</th>\n",
       "      <td>1.0</td>\n",
       "      <td>1</td>\n",
       "      <td>37385c8a58176b529964083315c28e32</td>\n",
       "      <td>2016-05-19 02:37:06</td>\n",
       "      <td>This 1 Bedroom apartment is located on a prime...</td>\n",
       "      <td>West 57th Street</td>\n",
       "      <td>[Doorman, Elevator, Pre-War, Dogs Allowed, Cat...</td>\n",
       "      <td>40.7676</td>\n",
       "      <td>7036279</td>\n",
       "      <td>-73.9844</td>\n",
       "      <td>18133bc914e6faf6f8cc1bf29d66fc0d</td>\n",
       "      <td>[https://photos.renthop.com/2/7036279_924b52f0...</td>\n",
       "      <td>1070000</td>\n",
       "      <td>333 West 57th Street</td>\n",
       "      <td>low</td>\n",
       "    </tr>\n",
       "  </tbody>\n",
       "</table>\n",
       "</div>"
      ],
      "text/plain": [
       "       bathrooms  bedrooms                       building_id  \\\n",
       "12168        1.0         2  5d3525a5085445e7fcd64a53aac3cb0a   \n",
       "32611        1.0         2  cd25bbea2af848ebe9821da820b725da   \n",
       "55437        1.0         1  37385c8a58176b529964083315c28e32   \n",
       "57803        1.0         1  37385c8a58176b529964083315c28e32   \n",
       "\n",
       "                   created                                        description  \\\n",
       "12168  2016-06-24 05:02:58                                                      \n",
       "32611  2016-06-24 05:02:11                                                      \n",
       "55437  2016-05-14 05:21:28                                                      \n",
       "57803  2016-05-19 02:37:06  This 1 Bedroom apartment is located on a prime...   \n",
       "\n",
       "         display_address                                           features  \\\n",
       "12168  West 116th Street  [Doorman, Elevator, Cats Allowed, Dogs Allowed...   \n",
       "32611      Hudson Street  [Doorman, Elevator, Cats Allowed, Dogs Allowed...   \n",
       "55437   West 57th Street              [Doorman, Cats Allowed, Dogs Allowed]   \n",
       "57803   West 57th Street  [Doorman, Elevator, Pre-War, Dogs Allowed, Cat...   \n",
       "\n",
       "       latitude  listing_id  longitude                        manager_id  \\\n",
       "12168   40.8011     7208794   -73.9480  d1737922fe92ccb0dc37ba85589e6415   \n",
       "32611   40.7299     7208764   -74.0071  d1737922fe92ccb0dc37ba85589e6415   \n",
       "55437   40.7676     7013217   -73.9844  8f5a9c893f6d602f4953fcc0b8e6e9b4   \n",
       "57803   40.7676     7036279   -73.9844  18133bc914e6faf6f8cc1bf29d66fc0d   \n",
       "\n",
       "                                                  photos    price  \\\n",
       "12168                                                 []  1150000   \n",
       "32611                                                 []  4490000   \n",
       "55437                                                 []  1070000   \n",
       "57803  [https://photos.renthop.com/2/7036279_924b52f0...  1070000   \n",
       "\n",
       "             street_address interest_level  \n",
       "12168  40 West 116th Street            low  \n",
       "32611     421 Hudson Street            low  \n",
       "55437  333 West 57th Street            low  \n",
       "57803  333 West 57th Street            low  "
      ]
     },
     "execution_count": 9,
     "metadata": {},
     "output_type": "execute_result"
    }
   ],
   "source": [
    "train_df[(train_df['price'] > 500000)] "
   ]
  },
  {
   "cell_type": "markdown",
   "metadata": {},
   "source": [
    "All four apartments exceed \\\\$1 million. It is unclear why the values are so high. Perhaps they were meant to be listed as 'for sale', or the prices have typos. Alternatively, they are legitimate postings for exceptionally lavish apartments. However, this is unlikely because a renthop search for NYC in January 29, 2020 shows that the highest priced rental is only \\\\$50,000 per month. \n",
    "\n",
    "Thus, we go ahead with removing these four entries from our training set."
   ]
  },
  {
   "cell_type": "markdown",
   "metadata": {},
   "source": [
    "### Outlier investigation (low values)\n",
    "\n",
    "Now let's consider the opposite issue of values being unusually low. Since it is difficult tell from the boxplot, we sort the values in increasing order and display the first few values."
   ]
  },
  {
   "cell_type": "code",
   "execution_count": 10,
   "metadata": {},
   "outputs": [
    {
     "data": {
      "text/plain": [
       "53144          43\n",
       "87511          45\n",
       "117339        401\n",
       "113599        695\n",
       "113552        695\n",
       "           ...   \n",
       "123877     135000\n",
       "55437     1070000\n",
       "57803     1070000\n",
       "12168     1150000\n",
       "32611     4490000\n",
       "Name: price, Length: 49352, dtype: int64"
      ]
     },
     "execution_count": 10,
     "metadata": {},
     "output_type": "execute_result"
    }
   ],
   "source": [
    "train_df['price'].sort_values()"
   ]
  },
  {
   "cell_type": "markdown",
   "metadata": {},
   "source": [
    "There are two unusually low values in the training set: 43 and 45. Let's look at them in more detail."
   ]
  },
  {
   "cell_type": "code",
   "execution_count": 11,
   "metadata": {},
   "outputs": [
    {
     "data": {
      "text/html": [
       "<div>\n",
       "<style scoped>\n",
       "    .dataframe tbody tr th:only-of-type {\n",
       "        vertical-align: middle;\n",
       "    }\n",
       "\n",
       "    .dataframe tbody tr th {\n",
       "        vertical-align: top;\n",
       "    }\n",
       "\n",
       "    .dataframe thead th {\n",
       "        text-align: right;\n",
       "    }\n",
       "</style>\n",
       "<table border=\"1\" class=\"dataframe\">\n",
       "  <thead>\n",
       "    <tr style=\"text-align: right;\">\n",
       "      <th></th>\n",
       "      <th>bathrooms</th>\n",
       "      <th>bedrooms</th>\n",
       "      <th>building_id</th>\n",
       "      <th>created</th>\n",
       "      <th>description</th>\n",
       "      <th>display_address</th>\n",
       "      <th>features</th>\n",
       "      <th>latitude</th>\n",
       "      <th>listing_id</th>\n",
       "      <th>longitude</th>\n",
       "      <th>manager_id</th>\n",
       "      <th>photos</th>\n",
       "      <th>price</th>\n",
       "      <th>street_address</th>\n",
       "      <th>interest_level</th>\n",
       "    </tr>\n",
       "  </thead>\n",
       "  <tbody>\n",
       "    <tr>\n",
       "      <th>53144</th>\n",
       "      <td>1.0</td>\n",
       "      <td>0</td>\n",
       "      <td>64f8e51f01a36ab0cd55fe9de2381306</td>\n",
       "      <td>2016-05-24 05:24:56</td>\n",
       "      <td>&lt;p&gt;&lt;a  website_redacted</td>\n",
       "      <td>Madison</td>\n",
       "      <td>[Doorman, Elevator, High Speed Internet]</td>\n",
       "      <td>40.7120</td>\n",
       "      <td>7060255</td>\n",
       "      <td>-73.9971</td>\n",
       "      <td>29ebd2f6553fbe12706a006a97349dd6</td>\n",
       "      <td>[]</td>\n",
       "      <td>43</td>\n",
       "      <td>60 Madison</td>\n",
       "      <td>low</td>\n",
       "    </tr>\n",
       "    <tr>\n",
       "      <th>87511</th>\n",
       "      <td>1.0</td>\n",
       "      <td>0</td>\n",
       "      <td>d992b617c630de9c7b903a54562682dc</td>\n",
       "      <td>2016-04-02 02:43:15</td>\n",
       "      <td>&lt;p&gt;&lt;a  website_redacted</td>\n",
       "      <td>W 30th St.</td>\n",
       "      <td>[Elevator]</td>\n",
       "      <td>40.7479</td>\n",
       "      <td>6813772</td>\n",
       "      <td>-73.9917</td>\n",
       "      <td>29ebd2f6553fbe12706a006a97349dd6</td>\n",
       "      <td>[https://photos.renthop.com/2/6813772_323b9438...</td>\n",
       "      <td>45</td>\n",
       "      <td>140 W 30th St.</td>\n",
       "      <td>low</td>\n",
       "    </tr>\n",
       "  </tbody>\n",
       "</table>\n",
       "</div>"
      ],
      "text/plain": [
       "       bathrooms  bedrooms                       building_id  \\\n",
       "53144        1.0         0  64f8e51f01a36ab0cd55fe9de2381306   \n",
       "87511        1.0         0  d992b617c630de9c7b903a54562682dc   \n",
       "\n",
       "                   created               description display_address  \\\n",
       "53144  2016-05-24 05:24:56  <p><a  website_redacted          Madison   \n",
       "87511  2016-04-02 02:43:15  <p><a  website_redacted       W 30th St.   \n",
       "\n",
       "                                       features  latitude  listing_id  \\\n",
       "53144  [Doorman, Elevator, High Speed Internet]   40.7120     7060255   \n",
       "87511                                [Elevator]   40.7479     6813772   \n",
       "\n",
       "       longitude                        manager_id  \\\n",
       "53144   -73.9971  29ebd2f6553fbe12706a006a97349dd6   \n",
       "87511   -73.9917  29ebd2f6553fbe12706a006a97349dd6   \n",
       "\n",
       "                                                  photos  price  \\\n",
       "53144                                                 []     43   \n",
       "87511  [https://photos.renthop.com/2/6813772_323b9438...     45   \n",
       "\n",
       "       street_address interest_level  \n",
       "53144      60 Madison            low  \n",
       "87511  140 W 30th St.            low  "
      ]
     },
     "execution_count": 11,
     "metadata": {},
     "output_type": "execute_result"
    }
   ],
   "source": [
    "train_df[train_df['price'] < 100]"
   ]
  },
  {
   "cell_type": "markdown",
   "metadata": {},
   "source": [
    "The two entries look somewhat legitimate, other than the fact that the descriptions contain \"website_redacted\". However, because the rent values are unrealistically low for NYC, we must assume that the prices are erroneous. Because we do not know what the true price is, we remove these data points."
   ]
  },
  {
   "cell_type": "markdown",
   "metadata": {},
   "source": [
    "### Final outlier removal"
   ]
  },
  {
   "cell_type": "markdown",
   "metadata": {},
   "source": [
    "Combining the four unusually expensive listings, and the two unusually cheap listings, we have a total of 6 outliers."
   ]
  },
  {
   "cell_type": "code",
   "execution_count": 12,
   "metadata": {},
   "outputs": [],
   "source": [
    "outlier_count['price'] = 6"
   ]
  },
  {
   "cell_type": "markdown",
   "metadata": {},
   "source": [
    "Summarizing our investigation into unusually high and low listing prices, we have decided to retain listings between \\\\$100 and \\\\$1 million."
   ]
  },
  {
   "cell_type": "code",
   "execution_count": 13,
   "metadata": {
    "scrolled": true
   },
   "outputs": [],
   "source": [
    "price_filtered = train_df[(train_df['price'] > 100) & (train_df['price'] < 1000000)]['price']"
   ]
  },
  {
   "cell_type": "markdown",
   "metadata": {},
   "source": [
    "### Price distribution, after outlier removal"
   ]
  },
  {
   "cell_type": "code",
   "execution_count": 14,
   "metadata": {},
   "outputs": [
    {
     "data": {
      "text/plain": [
       "<matplotlib.axes._subplots.AxesSubplot at 0x12a80c9e8>"
      ]
     },
     "execution_count": 14,
     "metadata": {},
     "output_type": "execute_result"
    },
    {
     "data": {
      "image/png": "[encoded data removed]",
      "text/plain": [
       "<Figure size 432x288 with 1 Axes>"
      ]
     },
     "metadata": {
      "needs_background": "light"
     },
     "output_type": "display_data"
    }
   ],
   "source": [
    "price_filtered.plot(kind='box')"
   ]
  },
  {
   "cell_type": "code",
   "execution_count": 15,
   "metadata": {},
   "outputs": [
    {
     "data": {
      "image/png": "[encoded data removed]",
      "text/plain": [
       "<Figure size 432x288 with 1 Axes>"
      ]
     },
     "metadata": {
      "needs_background": "light"
     },
     "output_type": "display_data"
    }
   ],
   "source": [
    "ax = price_filtered.plot.hist(bins=1000, logx=True)\n",
    "ax.set_xlabel('Price')\n",
    "plt.tight_layout()"
   ]
  },
  {
   "cell_type": "markdown",
   "metadata": {},
   "source": [
    "From the histogram, it is evident that the vast majority of listings fall between \\\\$1,000 and \\\\$10,000. This is consistent with what we know about current-day NYE rental prices."
   ]
  },
  {
   "cell_type": "markdown",
   "metadata": {},
   "source": [
    "## Latitude/Longitude"
   ]
  },
  {
   "cell_type": "markdown",
   "metadata": {},
   "source": [
    "We now focus our attention on looking for outliers in latitude and longitude. Like price, these features together may be informative in predicting interest level."
   ]
  },
  {
   "cell_type": "markdown",
   "metadata": {},
   "source": [
    "### Latitude"
   ]
  },
  {
   "cell_type": "code",
   "execution_count": 16,
   "metadata": {},
   "outputs": [
    {
     "data": {
      "image/png": "[encoded data removed]",
      "text/plain": [
       "<Figure size 432x288 with 1 Axes>"
      ]
     },
     "metadata": {
      "needs_background": "light"
     },
     "output_type": "display_data"
    }
   ],
   "source": [
    "lats = train_df[['latitude']]\n",
    "\n",
    "lats.plot.hist(bins=1000)\n",
    "plt.tight_layout()"
   ]
  },
  {
   "cell_type": "markdown",
   "metadata": {},
   "source": [
    "It appears that most of the data is around 41° N. This is consistent with the fact that NYC's actual coordinates are:\n",
    "\n",
    "40.7128° N, 74.0060° W\n",
    "\n",
    "But why does the histogram look so compressed? Notably, the x-axis ranges from 0 to 40. Perhaps there are some latitude values of 0..."
   ]
  },
  {
   "cell_type": "code",
   "execution_count": 17,
   "metadata": {},
   "outputs": [
    {
     "data": {
      "text/html": [
       "<div>\n",
       "<style scoped>\n",
       "    .dataframe tbody tr th:only-of-type {\n",
       "        vertical-align: middle;\n",
       "    }\n",
       "\n",
       "    .dataframe tbody tr th {\n",
       "        vertical-align: top;\n",
       "    }\n",
       "\n",
       "    .dataframe thead th {\n",
       "        text-align: right;\n",
       "    }\n",
       "</style>\n",
       "<table border=\"1\" class=\"dataframe\">\n",
       "  <thead>\n",
       "    <tr style=\"text-align: right;\">\n",
       "      <th></th>\n",
       "      <th>bathrooms</th>\n",
       "      <th>bedrooms</th>\n",
       "      <th>building_id</th>\n",
       "      <th>created</th>\n",
       "      <th>description</th>\n",
       "      <th>display_address</th>\n",
       "      <th>features</th>\n",
       "      <th>latitude</th>\n",
       "      <th>listing_id</th>\n",
       "      <th>longitude</th>\n",
       "      <th>manager_id</th>\n",
       "      <th>photos</th>\n",
       "      <th>price</th>\n",
       "      <th>street_address</th>\n",
       "      <th>interest_level</th>\n",
       "    </tr>\n",
       "  </thead>\n",
       "  <tbody>\n",
       "    <tr>\n",
       "      <th>2028</th>\n",
       "      <td>1.0</td>\n",
       "      <td>1</td>\n",
       "      <td>1490317c3a31185f0c8115f01d1acc5b</td>\n",
       "      <td>2016-05-31 22:26:06</td>\n",
       "      <td>Gorgeous one bedroom in Sunset Park-Private en...</td>\n",
       "      <td>Sunset Park, Brooklyn</td>\n",
       "      <td>[hardwood floors, own entrance, oak cabinets]</td>\n",
       "      <td>0.0</td>\n",
       "      <td>7087715</td>\n",
       "      <td>0.0</td>\n",
       "      <td>2290f91e45472ecaf0983c5af18098ce</td>\n",
       "      <td>[https://photos.renthop.com/2/7087715_mb_3517f...</td>\n",
       "      <td>1750</td>\n",
       "      <td>145 28 Street</td>\n",
       "      <td>low</td>\n",
       "    </tr>\n",
       "    <tr>\n",
       "      <th>37426</th>\n",
       "      <td>1.0</td>\n",
       "      <td>1</td>\n",
       "      <td>0</td>\n",
       "      <td>2016-06-01 19:59:46</td>\n",
       "      <td>Big 2 bedroom in clean and quite multi family ...</td>\n",
       "      <td>88 van Sicklen street</td>\n",
       "      <td>[Reduced Fee, Cats Allowed]</td>\n",
       "      <td>0.0</td>\n",
       "      <td>7094527</td>\n",
       "      <td>0.0</td>\n",
       "      <td>e6472c7237327dd3903b3d6f6a94515a</td>\n",
       "      <td>[https://photos.renthop.com/2/7094527_mb_7f196...</td>\n",
       "      <td>1725</td>\n",
       "      <td>Van Sicklen street</td>\n",
       "      <td>low</td>\n",
       "    </tr>\n",
       "    <tr>\n",
       "      <th>39134</th>\n",
       "      <td>1.0</td>\n",
       "      <td>2</td>\n",
       "      <td>a1b2bd0758c6f14be815e4d9382b8169</td>\n",
       "      <td>2016-06-16 15:38:11</td>\n",
       "      <td>Flatiron Duplex!At the intersection of Flatiro...</td>\n",
       "      <td>Flatiron, Kips Bay, Gramercy</td>\n",
       "      <td>[Views, No Fee, Duplex, Laundry in Unit, Cats ...</td>\n",
       "      <td>0.0</td>\n",
       "      <td>7174094</td>\n",
       "      <td>0.0</td>\n",
       "      <td>42cb18c3898c42b7512065e7d3e1e8bd</td>\n",
       "      <td>[https://photos.renthop.com/2/7174094_mb_e3c7e...</td>\n",
       "      <td>4395</td>\n",
       "      <td>219 E 28th</td>\n",
       "      <td>low</td>\n",
       "    </tr>\n",
       "    <tr>\n",
       "      <th>46941</th>\n",
       "      <td>1.0</td>\n",
       "      <td>2</td>\n",
       "      <td>8f837ada8d7ec5d251a369cd5909af7c</td>\n",
       "      <td>2016-05-07 08:15:32</td>\n",
       "      <td>Spacious and bright 2 bedroom fully renovated ...</td>\n",
       "      <td>Madison Ave</td>\n",
       "      <td>[Laundry in Unit, Roof Deck, &lt;null&gt;]</td>\n",
       "      <td>0.0</td>\n",
       "      <td>6981091</td>\n",
       "      <td>0.0</td>\n",
       "      <td>b93b333035403fc090fb51372fb082f9</td>\n",
       "      <td>[https://photos.renthop.com/2/6981091_mb_efd73...</td>\n",
       "      <td>2950</td>\n",
       "      <td>1632 Madison Ave</td>\n",
       "      <td>medium</td>\n",
       "    </tr>\n",
       "    <tr>\n",
       "      <th>49884</th>\n",
       "      <td>1.0</td>\n",
       "      <td>2</td>\n",
       "      <td>ebb1fe8e32b8565f057a20abc495a2b5</td>\n",
       "      <td>2016-05-10 10:25:19</td>\n",
       "      <td>New construction, luxury highrise, The two bed...</td>\n",
       "      <td>24th St LIC</td>\n",
       "      <td>[Doorman, Fitness Center, Laundry in Unit, Cat...</td>\n",
       "      <td>0.0</td>\n",
       "      <td>6991620</td>\n",
       "      <td>0.0</td>\n",
       "      <td>dd85ae9242e4012be8a386d37c1d9453</td>\n",
       "      <td>[https://photos.renthop.com/2/6991620_mb_e7c05...</td>\n",
       "      <td>3619</td>\n",
       "      <td>41-42 24th St</td>\n",
       "      <td>low</td>\n",
       "    </tr>\n",
       "    <tr>\n",
       "      <th>63688</th>\n",
       "      <td>4.0</td>\n",
       "      <td>3</td>\n",
       "      <td>f389c8eb16e5d0c771615fb30f3cc9d6</td>\n",
       "      <td>2016-05-11 18:07:15</td>\n",
       "      <td>This high floor, mint condition, corner unit b...</td>\n",
       "      <td>450 East 83rd Street apt 21D (Furnished)</td>\n",
       "      <td>[Furnished, Laundry In Unit, Cats Allowed, Dog...</td>\n",
       "      <td>0.0</td>\n",
       "      <td>6997950</td>\n",
       "      <td>0.0</td>\n",
       "      <td>355ccd9223a7481c5d223d39b4e65e90</td>\n",
       "      <td>[https://photos.renthop.com/2/6997950_4ef02f8c...</td>\n",
       "      <td>16500</td>\n",
       "      <td>450 East 83rd Street</td>\n",
       "      <td>low</td>\n",
       "    </tr>\n",
       "    <tr>\n",
       "      <th>66197</th>\n",
       "      <td>1.0</td>\n",
       "      <td>1</td>\n",
       "      <td>4d7c804afea366c666731bee9c56919e</td>\n",
       "      <td>2016-05-10 14:30:12</td>\n",
       "      <td>NO FEE!  Spacious one bedroom apartment in a F...</td>\n",
       "      <td>west 87</td>\n",
       "      <td>[Doorman, Fitness Center, No Fee, Cats Allowed...</td>\n",
       "      <td>0.0</td>\n",
       "      <td>6991901</td>\n",
       "      <td>0.0</td>\n",
       "      <td>7d4f285c15b11c61bacfbf8e7a49252d</td>\n",
       "      <td>[https://photos.renthop.com/2/6991901_mb_e3232...</td>\n",
       "      <td>3600</td>\n",
       "      <td>247 west 87</td>\n",
       "      <td>low</td>\n",
       "    </tr>\n",
       "    <tr>\n",
       "      <th>69423</th>\n",
       "      <td>1.0</td>\n",
       "      <td>2</td>\n",
       "      <td>55ab81a4ccd5ea862fba344dc29f1463</td>\n",
       "      <td>2016-05-24 17:43:39</td>\n",
       "      <td>Fantastic 2 bed with the works! It has 2 queen...</td>\n",
       "      <td>118 W 109th</td>\n",
       "      <td>[Cats Allowed, Dogs Allowed, No Fee, Laundry i...</td>\n",
       "      <td>0.0</td>\n",
       "      <td>7062134</td>\n",
       "      <td>0.0</td>\n",
       "      <td>91c09ae8bfdc7e5ba7d6385e33a6064d</td>\n",
       "      <td>[https://photos.renthop.com/2/7062134_mb_9f18c...</td>\n",
       "      <td>3200</td>\n",
       "      <td>118 W 109th</td>\n",
       "      <td>low</td>\n",
       "    </tr>\n",
       "    <tr>\n",
       "      <th>70841</th>\n",
       "      <td>1.0</td>\n",
       "      <td>1</td>\n",
       "      <td>09e6efa1a58a3cd753aeee80bdf5ec36</td>\n",
       "      <td>2016-05-10 10:11:20</td>\n",
       "      <td>No fee! Prime NOLITA neighborhood with amazing...</td>\n",
       "      <td>Mott St</td>\n",
       "      <td>[No Fee, &lt;null&gt;]</td>\n",
       "      <td>0.0</td>\n",
       "      <td>6991613</td>\n",
       "      <td>0.0</td>\n",
       "      <td>dd85ae9242e4012be8a386d37c1d9453</td>\n",
       "      <td>[https://photos.renthop.com/2/6991613_mb_b7cec...</td>\n",
       "      <td>3495</td>\n",
       "      <td>246 Mott St</td>\n",
       "      <td>low</td>\n",
       "    </tr>\n",
       "    <tr>\n",
       "      <th>76934</th>\n",
       "      <td>1.0</td>\n",
       "      <td>2</td>\n",
       "      <td>cf6bfdca7e8ffdb3fa5f7d8d85005e4a</td>\n",
       "      <td>2016-05-26 14:19:38</td>\n",
       "      <td>*Mgmt is accepting June 1st, 15th, July 1st, o...</td>\n",
       "      <td>106th/Central Park</td>\n",
       "      <td>[Cats Allowed, Dogs Allowed, No Fee, Laundry i...</td>\n",
       "      <td>0.0</td>\n",
       "      <td>7072634</td>\n",
       "      <td>0.0</td>\n",
       "      <td>91c09ae8bfdc7e5ba7d6385e33a6064d</td>\n",
       "      <td>[https://photos.renthop.com/2/7072634_mb_90dba...</td>\n",
       "      <td>3200</td>\n",
       "      <td>21 W 106th</td>\n",
       "      <td>low</td>\n",
       "    </tr>\n",
       "    <tr>\n",
       "      <th>85521</th>\n",
       "      <td>1.0</td>\n",
       "      <td>0</td>\n",
       "      <td>a742bc8b82eedb42a3d5111d62dd843b</td>\n",
       "      <td>2016-04-19 12:16:43</td>\n",
       "      <td>Gorgeous sunny studio in Midtown East with an ...</td>\n",
       "      <td>e. 53 St</td>\n",
       "      <td>[]</td>\n",
       "      <td>0.0</td>\n",
       "      <td>6896885</td>\n",
       "      <td>0.0</td>\n",
       "      <td>b93b333035403fc090fb51372fb082f9</td>\n",
       "      <td>[https://photos.renthop.com/2/6896885_mb_48518...</td>\n",
       "      <td>1850</td>\n",
       "      <td>338 e. 53</td>\n",
       "      <td>low</td>\n",
       "    </tr>\n",
       "    <tr>\n",
       "      <th>106350</th>\n",
       "      <td>5.0</td>\n",
       "      <td>6</td>\n",
       "      <td>0</td>\n",
       "      <td>2016-04-18 02:14:51</td>\n",
       "      <td>***NO BROKER FEE***&lt;BR&gt;&lt;BR&gt;Situated on a gorge...</td>\n",
       "      <td>Decatur Street</td>\n",
       "      <td>[Garden/Patio, Terrace, No Fee, Outdoor Space,...</td>\n",
       "      <td>0.0</td>\n",
       "      <td>6888639</td>\n",
       "      <td>0.0</td>\n",
       "      <td>c639a76f31c41923cd91d23875a72264</td>\n",
       "      <td>[https://photos.renthop.com/2/6888639_87eb648f...</td>\n",
       "      <td>9995</td>\n",
       "      <td>259 Decatur Street</td>\n",
       "      <td>low</td>\n",
       "    </tr>\n",
       "  </tbody>\n",
       "</table>\n",
       "</div>"
      ],
      "text/plain": [
       "        bathrooms  bedrooms                       building_id  \\\n",
       "2028          1.0         1  1490317c3a31185f0c8115f01d1acc5b   \n",
       "37426         1.0         1                                 0   \n",
       "39134         1.0         2  a1b2bd0758c6f14be815e4d9382b8169   \n",
       "46941         1.0         2  8f837ada8d7ec5d251a369cd5909af7c   \n",
       "49884         1.0         2  ebb1fe8e32b8565f057a20abc495a2b5   \n",
       "63688         4.0         3  f389c8eb16e5d0c771615fb30f3cc9d6   \n",
       "66197         1.0         1  4d7c804afea366c666731bee9c56919e   \n",
       "69423         1.0         2  55ab81a4ccd5ea862fba344dc29f1463   \n",
       "70841         1.0         1  09e6efa1a58a3cd753aeee80bdf5ec36   \n",
       "76934         1.0         2  cf6bfdca7e8ffdb3fa5f7d8d85005e4a   \n",
       "85521         1.0         0  a742bc8b82eedb42a3d5111d62dd843b   \n",
       "106350        5.0         6                                 0   \n",
       "\n",
       "                    created  \\\n",
       "2028    2016-05-31 22:26:06   \n",
       "37426   2016-06-01 19:59:46   \n",
       "39134   2016-06-16 15:38:11   \n",
       "46941   2016-05-07 08:15:32   \n",
       "49884   2016-05-10 10:25:19   \n",
       "63688   2016-05-11 18:07:15   \n",
       "66197   2016-05-10 14:30:12   \n",
       "69423   2016-05-24 17:43:39   \n",
       "70841   2016-05-10 10:11:20   \n",
       "76934   2016-05-26 14:19:38   \n",
       "85521   2016-04-19 12:16:43   \n",
       "106350  2016-04-18 02:14:51   \n",
       "\n",
       "                                              description  \\\n",
       "2028    Gorgeous one bedroom in Sunset Park-Private en...   \n",
       "37426   Big 2 bedroom in clean and quite multi family ...   \n",
       "39134   Flatiron Duplex!At the intersection of Flatiro...   \n",
       "46941   Spacious and bright 2 bedroom fully renovated ...   \n",
       "49884   New construction, luxury highrise, The two bed...   \n",
       "63688   This high floor, mint condition, corner unit b...   \n",
       "66197   NO FEE!  Spacious one bedroom apartment in a F...   \n",
       "69423   Fantastic 2 bed with the works! It has 2 queen...   \n",
       "70841   No fee! Prime NOLITA neighborhood with amazing...   \n",
       "76934   *Mgmt is accepting June 1st, 15th, July 1st, o...   \n",
       "85521   Gorgeous sunny studio in Midtown East with an ...   \n",
       "106350  ***NO BROKER FEE***<BR><BR>Situated on a gorge...   \n",
       "\n",
       "                                 display_address  \\\n",
       "2028                       Sunset Park, Brooklyn   \n",
       "37426                      88 van Sicklen street   \n",
       "39134               Flatiron, Kips Bay, Gramercy   \n",
       "46941                                Madison Ave   \n",
       "49884                                24th St LIC   \n",
       "63688   450 East 83rd Street apt 21D (Furnished)   \n",
       "66197                                    west 87   \n",
       "69423                                118 W 109th   \n",
       "70841                                    Mott St   \n",
       "76934                         106th/Central Park   \n",
       "85521                                   e. 53 St   \n",
       "106350                            Decatur Street   \n",
       "\n",
       "                                                 features  latitude  \\\n",
       "2028        [hardwood floors, own entrance, oak cabinets]       0.0   \n",
       "37426                         [Reduced Fee, Cats Allowed]       0.0   \n",
       "39134   [Views, No Fee, Duplex, Laundry in Unit, Cats ...       0.0   \n",
       "46941                [Laundry in Unit, Roof Deck, <null>]       0.0   \n",
       "49884   [Doorman, Fitness Center, Laundry in Unit, Cat...       0.0   \n",
       "63688   [Furnished, Laundry In Unit, Cats Allowed, Dog...       0.0   \n",
       "66197   [Doorman, Fitness Center, No Fee, Cats Allowed...       0.0   \n",
       "69423   [Cats Allowed, Dogs Allowed, No Fee, Laundry i...       0.0   \n",
       "70841                                    [No Fee, <null>]       0.0   \n",
       "76934   [Cats Allowed, Dogs Allowed, No Fee, Laundry i...       0.0   \n",
       "85521                                                  []       0.0   \n",
       "106350  [Garden/Patio, Terrace, No Fee, Outdoor Space,...       0.0   \n",
       "\n",
       "        listing_id  longitude                        manager_id  \\\n",
       "2028       7087715        0.0  2290f91e45472ecaf0983c5af18098ce   \n",
       "37426      7094527        0.0  e6472c7237327dd3903b3d6f6a94515a   \n",
       "39134      7174094        0.0  42cb18c3898c42b7512065e7d3e1e8bd   \n",
       "46941      6981091        0.0  b93b333035403fc090fb51372fb082f9   \n",
       "49884      6991620        0.0  dd85ae9242e4012be8a386d37c1d9453   \n",
       "63688      6997950        0.0  355ccd9223a7481c5d223d39b4e65e90   \n",
       "66197      6991901        0.0  7d4f285c15b11c61bacfbf8e7a49252d   \n",
       "69423      7062134        0.0  91c09ae8bfdc7e5ba7d6385e33a6064d   \n",
       "70841      6991613        0.0  dd85ae9242e4012be8a386d37c1d9453   \n",
       "76934      7072634        0.0  91c09ae8bfdc7e5ba7d6385e33a6064d   \n",
       "85521      6896885        0.0  b93b333035403fc090fb51372fb082f9   \n",
       "106350     6888639        0.0  c639a76f31c41923cd91d23875a72264   \n",
       "\n",
       "                                                   photos  price  \\\n",
       "2028    [https://photos.renthop.com/2/7087715_mb_3517f...   1750   \n",
       "37426   [https://photos.renthop.com/2/7094527_mb_7f196...   1725   \n",
       "39134   [https://photos.renthop.com/2/7174094_mb_e3c7e...   4395   \n",
       "46941   [https://photos.renthop.com/2/6981091_mb_efd73...   2950   \n",
       "49884   [https://photos.renthop.com/2/6991620_mb_e7c05...   3619   \n",
       "63688   [https://photos.renthop.com/2/6997950_4ef02f8c...  16500   \n",
       "66197   [https://photos.renthop.com/2/6991901_mb_e3232...   3600   \n",
       "69423   [https://photos.renthop.com/2/7062134_mb_9f18c...   3200   \n",
       "70841   [https://photos.renthop.com/2/6991613_mb_b7cec...   3495   \n",
       "76934   [https://photos.renthop.com/2/7072634_mb_90dba...   3200   \n",
       "85521   [https://photos.renthop.com/2/6896885_mb_48518...   1850   \n",
       "106350  [https://photos.renthop.com/2/6888639_87eb648f...   9995   \n",
       "\n",
       "              street_address interest_level  \n",
       "2028           145 28 Street            low  \n",
       "37426     Van Sicklen street            low  \n",
       "39134             219 E 28th            low  \n",
       "46941       1632 Madison Ave         medium  \n",
       "49884         41-42 24th St             low  \n",
       "63688   450 East 83rd Street            low  \n",
       "66197            247 west 87            low  \n",
       "69423            118 W 109th            low  \n",
       "70841           246 Mott St             low  \n",
       "76934             21 W 106th            low  \n",
       "85521              338 e. 53            low  \n",
       "106350    259 Decatur Street            low  "
      ]
     },
     "execution_count": 17,
     "metadata": {},
     "output_type": "execute_result"
    }
   ],
   "source": [
    "missing_latitude = train_df[train_df['latitude'] == 0]\n",
    "\n",
    "missing_latitude"
   ]
  },
  {
   "cell_type": "code",
   "execution_count": 18,
   "metadata": {},
   "outputs": [
    {
     "data": {
      "text/plain": [
       "12"
      ]
     },
     "execution_count": 18,
     "metadata": {},
     "output_type": "execute_result"
    }
   ],
   "source": [
    "missing_latitude.shape[0]"
   ]
  },
  {
   "cell_type": "markdown",
   "metadata": {},
   "source": [
    "There are 12 rentals with latitude 0. A latitude of 0 degrees may make sense if the city is directly above the Equator, but since we are talking about New York City, this is impossible. Therefore, a latitude of 0 implies missing latitude information.\n",
    "\n",
    "Interestingly enough, all 12 rentals have longitude values of 0 as well. But let's look into longitude separately..."
   ]
  },
  {
   "cell_type": "markdown",
   "metadata": {},
   "source": [
    "### Longitude"
   ]
  },
  {
   "cell_type": "markdown",
   "metadata": {},
   "source": [
    "Since a latitude of 0 can exist in the data, we also search for longitude values of 0."
   ]
  },
  {
   "cell_type": "code",
   "execution_count": 19,
   "metadata": {},
   "outputs": [
    {
     "data": {
      "text/html": [
       "<div>\n",
       "<style scoped>\n",
       "    .dataframe tbody tr th:only-of-type {\n",
       "        vertical-align: middle;\n",
       "    }\n",
       "\n",
       "    .dataframe tbody tr th {\n",
       "        vertical-align: top;\n",
       "    }\n",
       "\n",
       "    .dataframe thead th {\n",
       "        text-align: right;\n",
       "    }\n",
       "</style>\n",
       "<table border=\"1\" class=\"dataframe\">\n",
       "  <thead>\n",
       "    <tr style=\"text-align: right;\">\n",
       "      <th></th>\n",
       "      <th>bathrooms</th>\n",
       "      <th>bedrooms</th>\n",
       "      <th>building_id</th>\n",
       "      <th>created</th>\n",
       "      <th>description</th>\n",
       "      <th>display_address</th>\n",
       "      <th>features</th>\n",
       "      <th>latitude</th>\n",
       "      <th>listing_id</th>\n",
       "      <th>longitude</th>\n",
       "      <th>manager_id</th>\n",
       "      <th>photos</th>\n",
       "      <th>price</th>\n",
       "      <th>street_address</th>\n",
       "      <th>interest_level</th>\n",
       "    </tr>\n",
       "  </thead>\n",
       "  <tbody>\n",
       "    <tr>\n",
       "      <th>2028</th>\n",
       "      <td>1.0</td>\n",
       "      <td>1</td>\n",
       "      <td>1490317c3a31185f0c8115f01d1acc5b</td>\n",
       "      <td>2016-05-31 22:26:06</td>\n",
       "      <td>Gorgeous one bedroom in Sunset Park-Private en...</td>\n",
       "      <td>Sunset Park, Brooklyn</td>\n",
       "      <td>[hardwood floors, own entrance, oak cabinets]</td>\n",
       "      <td>0.0</td>\n",
       "      <td>7087715</td>\n",
       "      <td>0.0</td>\n",
       "      <td>2290f91e45472ecaf0983c5af18098ce</td>\n",
       "      <td>[https://photos.renthop.com/2/7087715_mb_3517f...</td>\n",
       "      <td>1750</td>\n",
       "      <td>145 28 Street</td>\n",
       "      <td>low</td>\n",
       "    </tr>\n",
       "    <tr>\n",
       "      <th>37426</th>\n",
       "      <td>1.0</td>\n",
       "      <td>1</td>\n",
       "      <td>0</td>\n",
       "      <td>2016-06-01 19:59:46</td>\n",
       "      <td>Big 2 bedroom in clean and quite multi family ...</td>\n",
       "      <td>88 van Sicklen street</td>\n",
       "      <td>[Reduced Fee, Cats Allowed]</td>\n",
       "      <td>0.0</td>\n",
       "      <td>7094527</td>\n",
       "      <td>0.0</td>\n",
       "      <td>e6472c7237327dd3903b3d6f6a94515a</td>\n",
       "      <td>[https://photos.renthop.com/2/7094527_mb_7f196...</td>\n",
       "      <td>1725</td>\n",
       "      <td>Van Sicklen street</td>\n",
       "      <td>low</td>\n",
       "    </tr>\n",
       "    <tr>\n",
       "      <th>39134</th>\n",
       "      <td>1.0</td>\n",
       "      <td>2</td>\n",
       "      <td>a1b2bd0758c6f14be815e4d9382b8169</td>\n",
       "      <td>2016-06-16 15:38:11</td>\n",
       "      <td>Flatiron Duplex!At the intersection of Flatiro...</td>\n",
       "      <td>Flatiron, Kips Bay, Gramercy</td>\n",
       "      <td>[Views, No Fee, Duplex, Laundry in Unit, Cats ...</td>\n",
       "      <td>0.0</td>\n",
       "      <td>7174094</td>\n",
       "      <td>0.0</td>\n",
       "      <td>42cb18c3898c42b7512065e7d3e1e8bd</td>\n",
       "      <td>[https://photos.renthop.com/2/7174094_mb_e3c7e...</td>\n",
       "      <td>4395</td>\n",
       "      <td>219 E 28th</td>\n",
       "      <td>low</td>\n",
       "    </tr>\n",
       "    <tr>\n",
       "      <th>46941</th>\n",
       "      <td>1.0</td>\n",
       "      <td>2</td>\n",
       "      <td>8f837ada8d7ec5d251a369cd5909af7c</td>\n",
       "      <td>2016-05-07 08:15:32</td>\n",
       "      <td>Spacious and bright 2 bedroom fully renovated ...</td>\n",
       "      <td>Madison Ave</td>\n",
       "      <td>[Laundry in Unit, Roof Deck, &lt;null&gt;]</td>\n",
       "      <td>0.0</td>\n",
       "      <td>6981091</td>\n",
       "      <td>0.0</td>\n",
       "      <td>b93b333035403fc090fb51372fb082f9</td>\n",
       "      <td>[https://photos.renthop.com/2/6981091_mb_efd73...</td>\n",
       "      <td>2950</td>\n",
       "      <td>1632 Madison Ave</td>\n",
       "      <td>medium</td>\n",
       "    </tr>\n",
       "    <tr>\n",
       "      <th>49884</th>\n",
       "      <td>1.0</td>\n",
       "      <td>2</td>\n",
       "      <td>ebb1fe8e32b8565f057a20abc495a2b5</td>\n",
       "      <td>2016-05-10 10:25:19</td>\n",
       "      <td>New construction, luxury highrise, The two bed...</td>\n",
       "      <td>24th St LIC</td>\n",
       "      <td>[Doorman, Fitness Center, Laundry in Unit, Cat...</td>\n",
       "      <td>0.0</td>\n",
       "      <td>6991620</td>\n",
       "      <td>0.0</td>\n",
       "      <td>dd85ae9242e4012be8a386d37c1d9453</td>\n",
       "      <td>[https://photos.renthop.com/2/6991620_mb_e7c05...</td>\n",
       "      <td>3619</td>\n",
       "      <td>41-42 24th St</td>\n",
       "      <td>low</td>\n",
       "    </tr>\n",
       "    <tr>\n",
       "      <th>63688</th>\n",
       "      <td>4.0</td>\n",
       "      <td>3</td>\n",
       "      <td>f389c8eb16e5d0c771615fb30f3cc9d6</td>\n",
       "      <td>2016-05-11 18:07:15</td>\n",
       "      <td>This high floor, mint condition, corner unit b...</td>\n",
       "      <td>450 East 83rd Street apt 21D (Furnished)</td>\n",
       "      <td>[Furnished, Laundry In Unit, Cats Allowed, Dog...</td>\n",
       "      <td>0.0</td>\n",
       "      <td>6997950</td>\n",
       "      <td>0.0</td>\n",
       "      <td>355ccd9223a7481c5d223d39b4e65e90</td>\n",
       "      <td>[https://photos.renthop.com/2/6997950_4ef02f8c...</td>\n",
       "      <td>16500</td>\n",
       "      <td>450 East 83rd Street</td>\n",
       "      <td>low</td>\n",
       "    </tr>\n",
       "    <tr>\n",
       "      <th>66197</th>\n",
       "      <td>1.0</td>\n",
       "      <td>1</td>\n",
       "      <td>4d7c804afea366c666731bee9c56919e</td>\n",
       "      <td>2016-05-10 14:30:12</td>\n",
       "      <td>NO FEE!  Spacious one bedroom apartment in a F...</td>\n",
       "      <td>west 87</td>\n",
       "      <td>[Doorman, Fitness Center, No Fee, Cats Allowed...</td>\n",
       "      <td>0.0</td>\n",
       "      <td>6991901</td>\n",
       "      <td>0.0</td>\n",
       "      <td>7d4f285c15b11c61bacfbf8e7a49252d</td>\n",
       "      <td>[https://photos.renthop.com/2/6991901_mb_e3232...</td>\n",
       "      <td>3600</td>\n",
       "      <td>247 west 87</td>\n",
       "      <td>low</td>\n",
       "    </tr>\n",
       "    <tr>\n",
       "      <th>69423</th>\n",
       "      <td>1.0</td>\n",
       "      <td>2</td>\n",
       "      <td>55ab81a4ccd5ea862fba344dc29f1463</td>\n",
       "      <td>2016-05-24 17:43:39</td>\n",
       "      <td>Fantastic 2 bed with the works! It has 2 queen...</td>\n",
       "      <td>118 W 109th</td>\n",
       "      <td>[Cats Allowed, Dogs Allowed, No Fee, Laundry i...</td>\n",
       "      <td>0.0</td>\n",
       "      <td>7062134</td>\n",
       "      <td>0.0</td>\n",
       "      <td>91c09ae8bfdc7e5ba7d6385e33a6064d</td>\n",
       "      <td>[https://photos.renthop.com/2/7062134_mb_9f18c...</td>\n",
       "      <td>3200</td>\n",
       "      <td>118 W 109th</td>\n",
       "      <td>low</td>\n",
       "    </tr>\n",
       "    <tr>\n",
       "      <th>70841</th>\n",
       "      <td>1.0</td>\n",
       "      <td>1</td>\n",
       "      <td>09e6efa1a58a3cd753aeee80bdf5ec36</td>\n",
       "      <td>2016-05-10 10:11:20</td>\n",
       "      <td>No fee! Prime NOLITA neighborhood with amazing...</td>\n",
       "      <td>Mott St</td>\n",
       "      <td>[No Fee, &lt;null&gt;]</td>\n",
       "      <td>0.0</td>\n",
       "      <td>6991613</td>\n",
       "      <td>0.0</td>\n",
       "      <td>dd85ae9242e4012be8a386d37c1d9453</td>\n",
       "      <td>[https://photos.renthop.com/2/6991613_mb_b7cec...</td>\n",
       "      <td>3495</td>\n",
       "      <td>246 Mott St</td>\n",
       "      <td>low</td>\n",
       "    </tr>\n",
       "    <tr>\n",
       "      <th>76934</th>\n",
       "      <td>1.0</td>\n",
       "      <td>2</td>\n",
       "      <td>cf6bfdca7e8ffdb3fa5f7d8d85005e4a</td>\n",
       "      <td>2016-05-26 14:19:38</td>\n",
       "      <td>*Mgmt is accepting June 1st, 15th, July 1st, o...</td>\n",
       "      <td>106th/Central Park</td>\n",
       "      <td>[Cats Allowed, Dogs Allowed, No Fee, Laundry i...</td>\n",
       "      <td>0.0</td>\n",
       "      <td>7072634</td>\n",
       "      <td>0.0</td>\n",
       "      <td>91c09ae8bfdc7e5ba7d6385e33a6064d</td>\n",
       "      <td>[https://photos.renthop.com/2/7072634_mb_90dba...</td>\n",
       "      <td>3200</td>\n",
       "      <td>21 W 106th</td>\n",
       "      <td>low</td>\n",
       "    </tr>\n",
       "    <tr>\n",
       "      <th>85521</th>\n",
       "      <td>1.0</td>\n",
       "      <td>0</td>\n",
       "      <td>a742bc8b82eedb42a3d5111d62dd843b</td>\n",
       "      <td>2016-04-19 12:16:43</td>\n",
       "      <td>Gorgeous sunny studio in Midtown East with an ...</td>\n",
       "      <td>e. 53 St</td>\n",
       "      <td>[]</td>\n",
       "      <td>0.0</td>\n",
       "      <td>6896885</td>\n",
       "      <td>0.0</td>\n",
       "      <td>b93b333035403fc090fb51372fb082f9</td>\n",
       "      <td>[https://photos.renthop.com/2/6896885_mb_48518...</td>\n",
       "      <td>1850</td>\n",
       "      <td>338 e. 53</td>\n",
       "      <td>low</td>\n",
       "    </tr>\n",
       "    <tr>\n",
       "      <th>106350</th>\n",
       "      <td>5.0</td>\n",
       "      <td>6</td>\n",
       "      <td>0</td>\n",
       "      <td>2016-04-18 02:14:51</td>\n",
       "      <td>***NO BROKER FEE***&lt;BR&gt;&lt;BR&gt;Situated on a gorge...</td>\n",
       "      <td>Decatur Street</td>\n",
       "      <td>[Garden/Patio, Terrace, No Fee, Outdoor Space,...</td>\n",
       "      <td>0.0</td>\n",
       "      <td>6888639</td>\n",
       "      <td>0.0</td>\n",
       "      <td>c639a76f31c41923cd91d23875a72264</td>\n",
       "      <td>[https://photos.renthop.com/2/6888639_87eb648f...</td>\n",
       "      <td>9995</td>\n",
       "      <td>259 Decatur Street</td>\n",
       "      <td>low</td>\n",
       "    </tr>\n",
       "  </tbody>\n",
       "</table>\n",
       "</div>"
      ],
      "text/plain": [
       "        bathrooms  bedrooms                       building_id  \\\n",
       "2028          1.0         1  1490317c3a31185f0c8115f01d1acc5b   \n",
       "37426         1.0         1                                 0   \n",
       "39134         1.0         2  a1b2bd0758c6f14be815e4d9382b8169   \n",
       "46941         1.0         2  8f837ada8d7ec5d251a369cd5909af7c   \n",
       "49884         1.0         2  ebb1fe8e32b8565f057a20abc495a2b5   \n",
       "63688         4.0         3  f389c8eb16e5d0c771615fb30f3cc9d6   \n",
       "66197         1.0         1  4d7c804afea366c666731bee9c56919e   \n",
       "69423         1.0         2  55ab81a4ccd5ea862fba344dc29f1463   \n",
       "70841         1.0         1  09e6efa1a58a3cd753aeee80bdf5ec36   \n",
       "76934         1.0         2  cf6bfdca7e8ffdb3fa5f7d8d85005e4a   \n",
       "85521         1.0         0  a742bc8b82eedb42a3d5111d62dd843b   \n",
       "106350        5.0         6                                 0   \n",
       "\n",
       "                    created  \\\n",
       "2028    2016-05-31 22:26:06   \n",
       "37426   2016-06-01 19:59:46   \n",
       "39134   2016-06-16 15:38:11   \n",
       "46941   2016-05-07 08:15:32   \n",
       "49884   2016-05-10 10:25:19   \n",
       "63688   2016-05-11 18:07:15   \n",
       "66197   2016-05-10 14:30:12   \n",
       "69423   2016-05-24 17:43:39   \n",
       "70841   2016-05-10 10:11:20   \n",
       "76934   2016-05-26 14:19:38   \n",
       "85521   2016-04-19 12:16:43   \n",
       "106350  2016-04-18 02:14:51   \n",
       "\n",
       "                                              description  \\\n",
       "2028    Gorgeous one bedroom in Sunset Park-Private en...   \n",
       "37426   Big 2 bedroom in clean and quite multi family ...   \n",
       "39134   Flatiron Duplex!At the intersection of Flatiro...   \n",
       "46941   Spacious and bright 2 bedroom fully renovated ...   \n",
       "49884   New construction, luxury highrise, The two bed...   \n",
       "63688   This high floor, mint condition, corner unit b...   \n",
       "66197   NO FEE!  Spacious one bedroom apartment in a F...   \n",
       "69423   Fantastic 2 bed with the works! It has 2 queen...   \n",
       "70841   No fee! Prime NOLITA neighborhood with amazing...   \n",
       "76934   *Mgmt is accepting June 1st, 15th, July 1st, o...   \n",
       "85521   Gorgeous sunny studio in Midtown East with an ...   \n",
       "106350  ***NO BROKER FEE***<BR><BR>Situated on a gorge...   \n",
       "\n",
       "                                 display_address  \\\n",
       "2028                       Sunset Park, Brooklyn   \n",
       "37426                      88 van Sicklen street   \n",
       "39134               Flatiron, Kips Bay, Gramercy   \n",
       "46941                                Madison Ave   \n",
       "49884                                24th St LIC   \n",
       "63688   450 East 83rd Street apt 21D (Furnished)   \n",
       "66197                                    west 87   \n",
       "69423                                118 W 109th   \n",
       "70841                                    Mott St   \n",
       "76934                         106th/Central Park   \n",
       "85521                                   e. 53 St   \n",
       "106350                            Decatur Street   \n",
       "\n",
       "                                                 features  latitude  \\\n",
       "2028        [hardwood floors, own entrance, oak cabinets]       0.0   \n",
       "37426                         [Reduced Fee, Cats Allowed]       0.0   \n",
       "39134   [Views, No Fee, Duplex, Laundry in Unit, Cats ...       0.0   \n",
       "46941                [Laundry in Unit, Roof Deck, <null>]       0.0   \n",
       "49884   [Doorman, Fitness Center, Laundry in Unit, Cat...       0.0   \n",
       "63688   [Furnished, Laundry In Unit, Cats Allowed, Dog...       0.0   \n",
       "66197   [Doorman, Fitness Center, No Fee, Cats Allowed...       0.0   \n",
       "69423   [Cats Allowed, Dogs Allowed, No Fee, Laundry i...       0.0   \n",
       "70841                                    [No Fee, <null>]       0.0   \n",
       "76934   [Cats Allowed, Dogs Allowed, No Fee, Laundry i...       0.0   \n",
       "85521                                                  []       0.0   \n",
       "106350  [Garden/Patio, Terrace, No Fee, Outdoor Space,...       0.0   \n",
       "\n",
       "        listing_id  longitude                        manager_id  \\\n",
       "2028       7087715        0.0  2290f91e45472ecaf0983c5af18098ce   \n",
       "37426      7094527        0.0  e6472c7237327dd3903b3d6f6a94515a   \n",
       "39134      7174094        0.0  42cb18c3898c42b7512065e7d3e1e8bd   \n",
       "46941      6981091        0.0  b93b333035403fc090fb51372fb082f9   \n",
       "49884      6991620        0.0  dd85ae9242e4012be8a386d37c1d9453   \n",
       "63688      6997950        0.0  355ccd9223a7481c5d223d39b4e65e90   \n",
       "66197      6991901        0.0  7d4f285c15b11c61bacfbf8e7a49252d   \n",
       "69423      7062134        0.0  91c09ae8bfdc7e5ba7d6385e33a6064d   \n",
       "70841      6991613        0.0  dd85ae9242e4012be8a386d37c1d9453   \n",
       "76934      7072634        0.0  91c09ae8bfdc7e5ba7d6385e33a6064d   \n",
       "85521      6896885        0.0  b93b333035403fc090fb51372fb082f9   \n",
       "106350     6888639        0.0  c639a76f31c41923cd91d23875a72264   \n",
       "\n",
       "                                                   photos  price  \\\n",
       "2028    [https://photos.renthop.com/2/7087715_mb_3517f...   1750   \n",
       "37426   [https://photos.renthop.com/2/7094527_mb_7f196...   1725   \n",
       "39134   [https://photos.renthop.com/2/7174094_mb_e3c7e...   4395   \n",
       "46941   [https://photos.renthop.com/2/6981091_mb_efd73...   2950   \n",
       "49884   [https://photos.renthop.com/2/6991620_mb_e7c05...   3619   \n",
       "63688   [https://photos.renthop.com/2/6997950_4ef02f8c...  16500   \n",
       "66197   [https://photos.renthop.com/2/6991901_mb_e3232...   3600   \n",
       "69423   [https://photos.renthop.com/2/7062134_mb_9f18c...   3200   \n",
       "70841   [https://photos.renthop.com/2/6991613_mb_b7cec...   3495   \n",
       "76934   [https://photos.renthop.com/2/7072634_mb_90dba...   3200   \n",
       "85521   [https://photos.renthop.com/2/6896885_mb_48518...   1850   \n",
       "106350  [https://photos.renthop.com/2/6888639_87eb648f...   9995   \n",
       "\n",
       "              street_address interest_level  \n",
       "2028           145 28 Street            low  \n",
       "37426     Van Sicklen street            low  \n",
       "39134             219 E 28th            low  \n",
       "46941       1632 Madison Ave         medium  \n",
       "49884         41-42 24th St             low  \n",
       "63688   450 East 83rd Street            low  \n",
       "66197            247 west 87            low  \n",
       "69423            118 W 109th            low  \n",
       "70841           246 Mott St             low  \n",
       "76934             21 W 106th            low  \n",
       "85521              338 e. 53            low  \n",
       "106350    259 Decatur Street            low  "
      ]
     },
     "execution_count": 19,
     "metadata": {},
     "output_type": "execute_result"
    }
   ],
   "source": [
    "missing_longitude = train_df[train_df['longitude']==0]\n",
    "missing_longitude"
   ]
  },
  {
   "cell_type": "code",
   "execution_count": 20,
   "metadata": {},
   "outputs": [
    {
     "data": {
      "text/plain": [
       "12"
      ]
     },
     "execution_count": 20,
     "metadata": {},
     "output_type": "execute_result"
    }
   ],
   "source": [
    "missing_longitude.shape[0]"
   ]
  },
  {
   "cell_type": "markdown",
   "metadata": {},
   "source": [
    "The above 12 rows with missing longitude are idential to the 12 rows with missing latitude."
   ]
  },
  {
   "cell_type": "markdown",
   "metadata": {},
   "source": [
    "### Handling missing lat/lon data"
   ]
  },
  {
   "cell_type": "markdown",
   "metadata": {},
   "source": [
    "Unlike price outliers (which all had target value of 'low'), rows with missing lat/lon data actually vary in the label. There is one listing that has interest level 'medium'. Thus, it may not be prudent to remove these rows from the training set. Instead, we will substitute/impute these values with coordinates based on the address.\n",
    "\n",
    "Since there are only 12 addresses, this step can be performed manually by looking up the coordinate of each address (street_address)."
   ]
  },
  {
   "cell_type": "code",
   "execution_count": 21,
   "metadata": {},
   "outputs": [],
   "source": [
    "train_df.loc[train_df['listing_id'] == 7087715, 'latitude'] = 40.65876\n",
    "train_df.loc[train_df['listing_id'] == 7087715, 'longitude'] = -73.99971\n",
    "\n",
    "train_df.loc[train_df['listing_id'] == 7094527, 'latitude'] = 40.597351\n",
    "train_df.loc[train_df['listing_id'] == 7094527, 'longitude'] = -73.974953\n",
    "\n",
    "train_df.loc[train_df['listing_id'] == 7174094, 'latitude'] = 40.741722\n",
    "train_df.loc[train_df['listing_id'] == 7174094, 'longitude'] = -73.980286\n",
    "\n",
    "train_df.loc[train_df['listing_id'] == 6981091, 'latitude'] = 40.793788\n",
    "train_df.loc[train_df['listing_id'] == 6981091, 'longitude'] = -73.949379\n",
    "\n",
    "train_df.loc[train_df['listing_id'] == 6991620, 'latitude'] = 40.754372\n",
    "train_df.loc[train_df['listing_id'] == 6991620, 'longitude'] = -73.938271\n",
    "\n",
    "train_df.loc[train_df['listing_id'] == 6997950, 'latitude'] = 40.773941\n",
    "train_df.loc[train_df['listing_id'] == 6997950, 'longitude'] = -73.948471\n",
    "\n",
    "train_df.loc[train_df['listing_id'] == 6997950, 'latitude'] = 40.773941\n",
    "train_df.loc[train_df['listing_id'] == 6997950, 'longitude'] = -73.948471\n",
    "\n",
    "train_df.loc[train_df['listing_id'] == 6991901, 'latitude'] = 40.78775\n",
    "train_df.loc[train_df['listing_id'] == 6991901, 'longitude'] = -73.973091\n",
    "\n",
    "train_df.loc[train_df['listing_id'] == 6991901, 'latitude'] = 40.78775\n",
    "train_df.loc[train_df['listing_id'] == 6991901, 'longitude'] = -73.973091\n",
    "\n",
    "train_df.loc[train_df['listing_id'] == 7062134, 'latitude'] = 40.801037\n",
    "train_df.loc[train_df['listing_id'] == 7062134, 'longitude'] = -73.961136\n",
    "\n",
    "train_df.loc[train_df['listing_id'] == 6991613, 'latitude'] = 40.723129\n",
    "train_df.loc[train_df['listing_id'] == 6991613, 'longitude'] = -73.994857\n",
    "\n",
    "train_df.loc[train_df['listing_id'] == 7072634, 'latitude'] = 40.798981\n",
    "train_df.loc[train_df['listing_id'] == 7072634, 'longitude'] = -73.96228\n",
    "\n",
    "train_df.loc[train_df['listing_id'] == 6896885, 'latitude'] = 40.756149\n",
    "train_df.loc[train_df['listing_id'] == 6896885, 'longitude'] = -73.965714\n",
    "\n",
    "train_df.loc[train_df['listing_id'] == 6888639, 'latitude'] = 40.681404\n",
    "train_df.loc[train_df['listing_id'] == 6888639, 'longitude'] = -73.9338"
   ]
  },
  {
   "cell_type": "markdown",
   "metadata": {},
   "source": [
    "Let's verify that the coordinate values have been updated."
   ]
  },
  {
   "cell_type": "code",
   "execution_count": 22,
   "metadata": {},
   "outputs": [
    {
     "data": {
      "text/html": [
       "<div>\n",
       "<style scoped>\n",
       "    .dataframe tbody tr th:only-of-type {\n",
       "        vertical-align: middle;\n",
       "    }\n",
       "\n",
       "    .dataframe tbody tr th {\n",
       "        vertical-align: top;\n",
       "    }\n",
       "\n",
       "    .dataframe thead th {\n",
       "        text-align: right;\n",
       "    }\n",
       "</style>\n",
       "<table border=\"1\" class=\"dataframe\">\n",
       "  <thead>\n",
       "    <tr style=\"text-align: right;\">\n",
       "      <th></th>\n",
       "      <th>latitude</th>\n",
       "      <th>longitude</th>\n",
       "    </tr>\n",
       "  </thead>\n",
       "  <tbody>\n",
       "    <tr>\n",
       "      <th>106350</th>\n",
       "      <td>40.681404</td>\n",
       "      <td>-73.9338</td>\n",
       "    </tr>\n",
       "  </tbody>\n",
       "</table>\n",
       "</div>"
      ],
      "text/plain": [
       "         latitude  longitude\n",
       "106350  40.681404   -73.9338"
      ]
     },
     "execution_count": 22,
     "metadata": {},
     "output_type": "execute_result"
    }
   ],
   "source": [
    "train_df[train_df['listing_id'] == 6888639][['latitude', 'longitude']]"
   ]
  },
  {
   "cell_type": "markdown",
   "metadata": {},
   "source": [
    "### Non-empty, unusual values"
   ]
  },
  {
   "cell_type": "markdown",
   "metadata": {},
   "source": [
    "By now we have accounted for missing values, but we still have not completely accounted for unusual values. To reiterate, the coordinate of New York City is (40.7128° N, 74.0060° W). Anything that deviates significantly from this coordinate should be caught, and if possible, find the true coordinate based on the address, as with missing coordinate data.\n",
    "\n",
    "First, we look at the sorted latitude data and see if any values pop out as unusual."
   ]
  },
  {
   "cell_type": "code",
   "execution_count": 23,
   "metadata": {},
   "outputs": [
    {
     "data": {
      "text/plain": [
       "39798     34.0126\n",
       "121891    39.7996\n",
       "104822    39.8395\n",
       "114028    40.0450\n",
       "108994    40.1159\n",
       "           ...   \n",
       "4719      42.8724\n",
       "81815     42.8725\n",
       "18267     43.0346\n",
       "16405     44.6038\n",
       "78568     44.8835\n",
       "Name: latitude, Length: 49352, dtype: float64"
      ]
     },
     "execution_count": 23,
     "metadata": {},
     "output_type": "execute_result"
    }
   ],
   "source": [
    "lats = train_df['latitude'].sort_values()\n",
    "lons = train_df['longitude'].sort_values()\n",
    "\n",
    "lats\n",
    "\n",
    "# lons"
   ]
  },
  {
   "cell_type": "code",
   "execution_count": 24,
   "metadata": {},
   "outputs": [
    {
     "data": {
      "text/plain": [
       "<matplotlib.axes._subplots.AxesSubplot at 0x140364160>"
      ]
     },
     "execution_count": 24,
     "metadata": {},
     "output_type": "execute_result"
    },
    {
     "data": {
      "image/png": "[encoded data removed]",
      "text/plain": [
       "<Figure size 432x288 with 1 Axes>"
      ]
     },
     "metadata": {
      "needs_background": "light"
     },
     "output_type": "display_data"
    }
   ],
   "source": [
    "lats.plot(kind='box')"
   ]
  },
  {
   "cell_type": "code",
   "execution_count": 25,
   "metadata": {},
   "outputs": [
    {
     "data": {
      "text/plain": [
       "<matplotlib.axes._subplots.AxesSubplot at 0x1403e3710>"
      ]
     },
     "execution_count": 25,
     "metadata": {},
     "output_type": "execute_result"
    },
    {
     "data": {
      "image/png": "[encoded data removed]",
      "text/plain": [
       "<Figure size 432x288 with 1 Axes>"
      ]
     },
     "metadata": {
      "needs_background": "light"
     },
     "output_type": "display_data"
    }
   ],
   "source": [
    "lons.plot(kind='box')"
   ]
  },
  {
   "cell_type": "markdown",
   "metadata": {},
   "source": [
    "From the boxplots, the median latitude is ~41 degrees N, and the median latitude is ~74 degrees W. This is consistent with the real coordinates. However, there are many outliers that fall completely outside of the State of New York or relatively far from New York City. These are the outliers that we think are too far from the area we would like to analyze (New York City) for the purpose of this dataset, with the conditions being latitude values < 40.5 or > 42, as well as longitude values < -74.1."
   ]
  },
  {
   "cell_type": "code",
   "execution_count": 26,
   "metadata": {},
   "outputs": [
    {
     "data": {
      "text/html": [
       "<div>\n",
       "<style scoped>\n",
       "    .dataframe tbody tr th:only-of-type {\n",
       "        vertical-align: middle;\n",
       "    }\n",
       "\n",
       "    .dataframe tbody tr th {\n",
       "        vertical-align: top;\n",
       "    }\n",
       "\n",
       "    .dataframe thead th {\n",
       "        text-align: right;\n",
       "    }\n",
       "</style>\n",
       "<table border=\"1\" class=\"dataframe\">\n",
       "  <thead>\n",
       "    <tr style=\"text-align: right;\">\n",
       "      <th></th>\n",
       "      <th>bathrooms</th>\n",
       "      <th>bedrooms</th>\n",
       "      <th>building_id</th>\n",
       "      <th>created</th>\n",
       "      <th>description</th>\n",
       "      <th>display_address</th>\n",
       "      <th>features</th>\n",
       "      <th>latitude</th>\n",
       "      <th>listing_id</th>\n",
       "      <th>longitude</th>\n",
       "      <th>manager_id</th>\n",
       "      <th>photos</th>\n",
       "      <th>price</th>\n",
       "      <th>street_address</th>\n",
       "      <th>interest_level</th>\n",
       "    </tr>\n",
       "  </thead>\n",
       "  <tbody>\n",
       "    <tr>\n",
       "      <th>39798</th>\n",
       "      <td>1.0</td>\n",
       "      <td>1</td>\n",
       "      <td>117aceb94c48bfd1f3066a22f999705f</td>\n",
       "      <td>2016-06-17 02:10:25</td>\n",
       "      <td>NO FEE 1 bedroom - Great Elevator  - Laundry B...</td>\n",
       "      <td>E 38th St,</td>\n",
       "      <td>[Elevator, Walk in Closet(s), High Ceilings, H...</td>\n",
       "      <td>34.0126</td>\n",
       "      <td>7174857</td>\n",
       "      <td>-118.2710</td>\n",
       "      <td>f19288238987b18a693e16ee23720c20</td>\n",
       "      <td>[https://photos.renthop.com/2/7174857_6d71b6e1...</td>\n",
       "      <td>2425</td>\n",
       "      <td>234 E 38th St,</td>\n",
       "      <td>low</td>\n",
       "    </tr>\n",
       "    <tr>\n",
       "      <th>121891</th>\n",
       "      <td>1.0</td>\n",
       "      <td>1</td>\n",
       "      <td>ebdf422b8605d69a719a5cdc34019463</td>\n",
       "      <td>2016-04-09 12:36:21</td>\n",
       "      <td>NEW BUILDING!!\\rLarge 1BR Apt with private out...</td>\n",
       "      <td>505 Saint Marks Ave</td>\n",
       "      <td>[Common Outdoor Space, Cats Allowed, Private O...</td>\n",
       "      <td>39.7996</td>\n",
       "      <td>6850473</td>\n",
       "      <td>-74.6248</td>\n",
       "      <td>4c2a031c5886dd6ca7085f3300dc7cb6</td>\n",
       "      <td>[https://photos.renthop.com/2/6850473_1a7356aa...</td>\n",
       "      <td>2550</td>\n",
       "      <td>505 Saint Marks Ave</td>\n",
       "      <td>low</td>\n",
       "    </tr>\n",
       "    <tr>\n",
       "      <th>104822</th>\n",
       "      <td>1.0</td>\n",
       "      <td>0</td>\n",
       "      <td>437454e6d44ae7c94f60b1b6507d084a</td>\n",
       "      <td>2016-04-16 02:10:48</td>\n",
       "      <td>NEWLY RENOVATED BEAUTIFUL SPACIOUS HUGE STUDIO...</td>\n",
       "      <td>E 46th St,</td>\n",
       "      <td>[Doorman, Elevator, Walk in Closet(s), High Ce...</td>\n",
       "      <td>39.8395</td>\n",
       "      <td>6881361</td>\n",
       "      <td>-86.1527</td>\n",
       "      <td>8439c2c1ab6949a7447b00971e2f73a9</td>\n",
       "      <td>[https://photos.renthop.com/2/6881361_f8efe79e...</td>\n",
       "      <td>2650</td>\n",
       "      <td>235 E 46th St,</td>\n",
       "      <td>low</td>\n",
       "    </tr>\n",
       "    <tr>\n",
       "      <th>114028</th>\n",
       "      <td>1.0</td>\n",
       "      <td>1</td>\n",
       "      <td>6869a3c2a96003e9992d6cd1c3c4b299</td>\n",
       "      <td>2016-04-07 01:41:55</td>\n",
       "      <td>Come for the studio apartment but stay for all...</td>\n",
       "      <td>Modern Studio in Amenity Filled 24 Hr. DM Bldg.</td>\n",
       "      <td>[Cats Allowed, Dogs Allowed, Doorman, Elevator...</td>\n",
       "      <td>40.0450</td>\n",
       "      <td>6836479</td>\n",
       "      <td>-75.5214</td>\n",
       "      <td>c3b7c269756b10a84641f04868f30db1</td>\n",
       "      <td>[https://photos.renthop.com/2/6836479_2a5daff5...</td>\n",
       "      <td>2895</td>\n",
       "      <td>271 West 47TH Street</td>\n",
       "      <td>low</td>\n",
       "    </tr>\n",
       "    <tr>\n",
       "      <th>108994</th>\n",
       "      <td>1.0</td>\n",
       "      <td>0</td>\n",
       "      <td>0</td>\n",
       "      <td>2016-04-03 17:08:55</td>\n",
       "      <td>Sunny, spacious garden level studio apartment ...</td>\n",
       "      <td>268 Bainbridge Street</td>\n",
       "      <td>[Common Outdoor Space, Private Outdoor Space, ...</td>\n",
       "      <td>40.1159</td>\n",
       "      <td>6819739</td>\n",
       "      <td>-74.6267</td>\n",
       "      <td>8e75480baef379386edc3880bba576fd</td>\n",
       "      <td>[https://photos.renthop.com/2/6819739_79b1aee8...</td>\n",
       "      <td>1650</td>\n",
       "      <td>268 Bainbridge Street</td>\n",
       "      <td>low</td>\n",
       "    </tr>\n",
       "    <tr>\n",
       "      <th>66032</th>\n",
       "      <td>2.0</td>\n",
       "      <td>2</td>\n",
       "      <td>1b8a8f17bc71ce4901b03aa2faee0250</td>\n",
       "      <td>2016-05-05 02:39:45</td>\n",
       "      <td>Beautiful  2BR in the Washington Heights&lt;p&gt;&lt;a ...</td>\n",
       "      <td>W 163 Street</td>\n",
       "      <td>[Elevator]</td>\n",
       "      <td>40.5065</td>\n",
       "      <td>6967155</td>\n",
       "      <td>-74.2432</td>\n",
       "      <td>2b6d9435a0e6c4019e5ffcb53389c3dd</td>\n",
       "      <td>[https://photos.renthop.com/2/6967155_870734b2...</td>\n",
       "      <td>3000</td>\n",
       "      <td>540 W 163 Street</td>\n",
       "      <td>low</td>\n",
       "    </tr>\n",
       "    <tr>\n",
       "      <th>82709</th>\n",
       "      <td>2.0</td>\n",
       "      <td>2</td>\n",
       "      <td>1b8a8f17bc71ce4901b03aa2faee0250</td>\n",
       "      <td>2016-05-10 02:30:46</td>\n",
       "      <td>Awesome 2bed/2baths apartment just for $3.000,...</td>\n",
       "      <td>W 163 Street</td>\n",
       "      <td>[Elevator, Dishwasher, Hardwood Floors]</td>\n",
       "      <td>40.5065</td>\n",
       "      <td>6988269</td>\n",
       "      <td>-74.2432</td>\n",
       "      <td>abba62a6a83113e947f0b38a79e3c98b</td>\n",
       "      <td>[]</td>\n",
       "      <td>3000</td>\n",
       "      <td>540 W 163 Street</td>\n",
       "      <td>low</td>\n",
       "    </tr>\n",
       "    <tr>\n",
       "      <th>41067</th>\n",
       "      <td>1.0</td>\n",
       "      <td>0</td>\n",
       "      <td>78161d4bf7933c307f5a4ee7cabb95e9</td>\n",
       "      <td>2016-06-01 15:42:54</td>\n",
       "      <td>The Harrison offers studios, 1 bedroom and two...</td>\n",
       "      <td>575 Easton Avenue</td>\n",
       "      <td>[Balcony, Dishwasher, No Fee, Elevator, Fitnes...</td>\n",
       "      <td>40.5065</td>\n",
       "      <td>7094306</td>\n",
       "      <td>-74.4708</td>\n",
       "      <td>e5808a5e6cc13988fe596704428d38d5</td>\n",
       "      <td>[https://photos.renthop.com/2/7094306_fe72e56d...</td>\n",
       "      <td>1310</td>\n",
       "      <td>575 Easton Avenue</td>\n",
       "      <td>medium</td>\n",
       "    </tr>\n",
       "    <tr>\n",
       "      <th>65759</th>\n",
       "      <td>2.0</td>\n",
       "      <td>2</td>\n",
       "      <td>1b8a8f17bc71ce4901b03aa2faee0250</td>\n",
       "      <td>2016-05-13 02:21:48</td>\n",
       "      <td>Awesome 2bed/2baths apartment just for $3.000,...</td>\n",
       "      <td>W 163 Street</td>\n",
       "      <td>[Elevator, Dishwasher, Hardwood Floors]</td>\n",
       "      <td>40.5065</td>\n",
       "      <td>7004652</td>\n",
       "      <td>-74.2432</td>\n",
       "      <td>460d813aef3f598dabf7e312e0eb373a</td>\n",
       "      <td>[https://photos.renthop.com/2/7004652_a9fe0fd9...</td>\n",
       "      <td>3000</td>\n",
       "      <td>540 W 163 Street</td>\n",
       "      <td>low</td>\n",
       "    </tr>\n",
       "    <tr>\n",
       "      <th>90453</th>\n",
       "      <td>1.0</td>\n",
       "      <td>0</td>\n",
       "      <td>bcff5fea2aa8b4bcc912e8ed3d25d6a4</td>\n",
       "      <td>2016-04-09 23:14:06</td>\n",
       "      <td>No fee! There's no need to look any further fo...</td>\n",
       "      <td>East 28th and Lexington Ave</td>\n",
       "      <td>[Common Outdoor Space, Laundry In Unit, Cats A...</td>\n",
       "      <td>40.5813</td>\n",
       "      <td>6850662</td>\n",
       "      <td>-74.5343</td>\n",
       "      <td>aed64017aab5211439e8a6998f52f73b</td>\n",
       "      <td>[https://photos.renthop.com/2/6850662_5cf4238c...</td>\n",
       "      <td>3985</td>\n",
       "      <td>50 East 28th</td>\n",
       "      <td>low</td>\n",
       "    </tr>\n",
       "    <tr>\n",
       "      <th>33566</th>\n",
       "      <td>1.0</td>\n",
       "      <td>1</td>\n",
       "      <td>8a3bc091d325ec8adead9e94347416e3</td>\n",
       "      <td>2016-06-28 05:00:52</td>\n",
       "      <td>Stunning King-size One Bedroom now available o...</td>\n",
       "      <td>Rockne Street</td>\n",
       "      <td>[Exclusive]</td>\n",
       "      <td>40.5863</td>\n",
       "      <td>7225665</td>\n",
       "      <td>-74.1598</td>\n",
       "      <td>6f6800394576faaaac648999eba9a110</td>\n",
       "      <td>[https://photos.renthop.com/2/7225665_b70c2170...</td>\n",
       "      <td>1295</td>\n",
       "      <td>78 Rockne Street</td>\n",
       "      <td>high</td>\n",
       "    </tr>\n",
       "    <tr>\n",
       "      <th>109507</th>\n",
       "      <td>3.0</td>\n",
       "      <td>3</td>\n",
       "      <td>95fabd330f806524ae62115264f1f840</td>\n",
       "      <td>2016-04-06 16:47:50</td>\n",
       "      <td>EXQUISITE BROWNSTONE** ORIGINAL PRE WAR ** HUG...</td>\n",
       "      <td>Halsey St and Nostrand Avenue</td>\n",
       "      <td>[Private Outdoor Space, No Fee, Fitness Center...</td>\n",
       "      <td>40.6616</td>\n",
       "      <td>6834715</td>\n",
       "      <td>-74.6637</td>\n",
       "      <td>c3d876f112646134464b3b5635c15549</td>\n",
       "      <td>[https://photos.renthop.com/2/6834715_047d10c3...</td>\n",
       "      <td>4400</td>\n",
       "      <td>57 Halsey St</td>\n",
       "      <td>low</td>\n",
       "    </tr>\n",
       "    <tr>\n",
       "      <th>113599</th>\n",
       "      <td>1.0</td>\n",
       "      <td>0</td>\n",
       "      <td>abdc40a80dc42f32e02d10d3e629253e</td>\n",
       "      <td>2016-04-06 05:24:27</td>\n",
       "      <td></td>\n",
       "      <td>Marshall Street</td>\n",
       "      <td>[]</td>\n",
       "      <td>40.7291</td>\n",
       "      <td>6831246</td>\n",
       "      <td>-74.2224</td>\n",
       "      <td>782b04129d661ae064fe013aeb297ace</td>\n",
       "      <td>[https://photos.renthop.com/2/6831246_ab971bf6...</td>\n",
       "      <td>695</td>\n",
       "      <td>12 Marshall Street</td>\n",
       "      <td>medium</td>\n",
       "    </tr>\n",
       "    <tr>\n",
       "      <th>113552</th>\n",
       "      <td>1.0</td>\n",
       "      <td>0</td>\n",
       "      <td>abdc40a80dc42f32e02d10d3e629253e</td>\n",
       "      <td>2016-04-13 04:20:52</td>\n",
       "      <td></td>\n",
       "      <td>Marshall Street</td>\n",
       "      <td>[]</td>\n",
       "      <td>40.7291</td>\n",
       "      <td>6865783</td>\n",
       "      <td>-74.2224</td>\n",
       "      <td>782b04129d661ae064fe013aeb297ace</td>\n",
       "      <td>[https://photos.renthop.com/2/6865783_9ec986f5...</td>\n",
       "      <td>695</td>\n",
       "      <td>12 Marshall Street</td>\n",
       "      <td>medium</td>\n",
       "    </tr>\n",
       "    <tr>\n",
       "      <th>85617</th>\n",
       "      <td>1.0</td>\n",
       "      <td>0</td>\n",
       "      <td>abdc40a80dc42f32e02d10d3e629253e</td>\n",
       "      <td>2016-04-10 03:51:11</td>\n",
       "      <td></td>\n",
       "      <td>Marshall Street</td>\n",
       "      <td>[]</td>\n",
       "      <td>40.7291</td>\n",
       "      <td>6852585</td>\n",
       "      <td>-74.2224</td>\n",
       "      <td>782b04129d661ae064fe013aeb297ace</td>\n",
       "      <td>[https://photos.renthop.com/2/6852585_7ceadd50...</td>\n",
       "      <td>695</td>\n",
       "      <td>12 Marshall Street</td>\n",
       "      <td>medium</td>\n",
       "    </tr>\n",
       "    <tr>\n",
       "      <th>102756</th>\n",
       "      <td>1.0</td>\n",
       "      <td>0</td>\n",
       "      <td>abdc40a80dc42f32e02d10d3e629253e</td>\n",
       "      <td>2016-04-12 03:48:49</td>\n",
       "      <td></td>\n",
       "      <td>Marshall Street</td>\n",
       "      <td>[]</td>\n",
       "      <td>40.7291</td>\n",
       "      <td>6859573</td>\n",
       "      <td>-74.2224</td>\n",
       "      <td>782b04129d661ae064fe013aeb297ace</td>\n",
       "      <td>[https://photos.renthop.com/2/6859573_6ca2527f...</td>\n",
       "      <td>695</td>\n",
       "      <td>12 Marshall Street</td>\n",
       "      <td>medium</td>\n",
       "    </tr>\n",
       "    <tr>\n",
       "      <th>88300</th>\n",
       "      <td>1.0</td>\n",
       "      <td>0</td>\n",
       "      <td>39dd015bc8b81e4ae8b667357b8620b4</td>\n",
       "      <td>2016-04-04 13:33:47</td>\n",
       "      <td>SUNNY ** RENOVATED ** STUDIO ** GREAT VALUE **...</td>\n",
       "      <td>E 61 &amp; 3rd Avenue</td>\n",
       "      <td>[]</td>\n",
       "      <td>40.7305</td>\n",
       "      <td>6822248</td>\n",
       "      <td>-74.1626</td>\n",
       "      <td>c3d876f112646134464b3b5635c15549</td>\n",
       "      <td>[https://photos.renthop.com/2/6822248_0c318b59...</td>\n",
       "      <td>1850</td>\n",
       "      <td>257 E 61</td>\n",
       "      <td>low</td>\n",
       "    </tr>\n",
       "    <tr>\n",
       "      <th>119862</th>\n",
       "      <td>0.0</td>\n",
       "      <td>0</td>\n",
       "      <td>1ae479c6b926f751ec2920976a97196f</td>\n",
       "      <td>2016-04-13 02:51:38</td>\n",
       "      <td>Stellar Studios w/ Attended Lobby, Fitness Cen...</td>\n",
       "      <td>330 Somerset Street</td>\n",
       "      <td>[Fitness Center, Outdoor Pool, Residents Loung...</td>\n",
       "      <td>40.7402</td>\n",
       "      <td>6864486</td>\n",
       "      <td>-74.1571</td>\n",
       "      <td>9df32cb8dda19d3222d66e69e258616b</td>\n",
       "      <td>[https://photos.renthop.com/2/6864486_93ad0c6f...</td>\n",
       "      <td>1775</td>\n",
       "      <td>330 Somerset Street</td>\n",
       "      <td>low</td>\n",
       "    </tr>\n",
       "    <tr>\n",
       "      <th>113305</th>\n",
       "      <td>1.0</td>\n",
       "      <td>1</td>\n",
       "      <td>c391084ee341be0d85643b7bd1757993</td>\n",
       "      <td>2016-04-02 03:21:31</td>\n",
       "      <td>Fully renovated 1 bedroom. Unit features condo...</td>\n",
       "      <td>East 26th Street</td>\n",
       "      <td>[No Fee, Elevator, Pre-War, Laundry in Unit, D...</td>\n",
       "      <td>40.7798</td>\n",
       "      <td>6815190</td>\n",
       "      <td>-74.1215</td>\n",
       "      <td>53f240454714b223c7aaa73437c24e8a</td>\n",
       "      <td>[https://photos.renthop.com/2/6815190_39714d91...</td>\n",
       "      <td>3603</td>\n",
       "      <td>145 East 26th Street</td>\n",
       "      <td>medium</td>\n",
       "    </tr>\n",
       "    <tr>\n",
       "      <th>115801</th>\n",
       "      <td>1.0</td>\n",
       "      <td>2</td>\n",
       "      <td>fff0a02ad82421c226c6d6765a0dde57</td>\n",
       "      <td>2016-04-12 03:18:31</td>\n",
       "      <td>Two bedroom apartment located near NYC train/b...</td>\n",
       "      <td>50 Linden Avenue</td>\n",
       "      <td>[Doorman]</td>\n",
       "      <td>40.7903</td>\n",
       "      <td>6859069</td>\n",
       "      <td>-74.2034</td>\n",
       "      <td>7efb139d6df9fc594c4db6ca96b8a1e7</td>\n",
       "      <td>[https://photos.renthop.com/2/6859069_1aee6c66...</td>\n",
       "      <td>1800</td>\n",
       "      <td>50 Linden Avenue</td>\n",
       "      <td>low</td>\n",
       "    </tr>\n",
       "    <tr>\n",
       "      <th>26937</th>\n",
       "      <td>6.5</td>\n",
       "      <td>7</td>\n",
       "      <td>3be1175591e290053aa6997ac8f4e3bb</td>\n",
       "      <td>2016-06-22 03:15:54</td>\n",
       "      <td>This landmark English stone manor sits majesti...</td>\n",
       "      <td>206 Upper Mountain Avenu</td>\n",
       "      <td>[Garage, Garden, Doorman]</td>\n",
       "      <td>40.8336</td>\n",
       "      <td>7198431</td>\n",
       "      <td>-74.2160</td>\n",
       "      <td>1d019cccf631394cd7f2aba471a54ca4</td>\n",
       "      <td>[https://photos.renthop.com/2/7198431_70d9d8ff...</td>\n",
       "      <td>14500</td>\n",
       "      <td>206 Upper Mountain Avenu</td>\n",
       "      <td>low</td>\n",
       "    </tr>\n",
       "    <tr>\n",
       "      <th>78812</th>\n",
       "      <td>4.0</td>\n",
       "      <td>5</td>\n",
       "      <td>45ecfa32e0bbbe856186fe0e9c58bdea</td>\n",
       "      <td>2016-05-19 02:16:11</td>\n",
       "      <td>This stunning waterfront mansion is extremely ...</td>\n",
       "      <td>21 Triple Oak Ln</td>\n",
       "      <td>[assigned-parking-space, balcony, private-balc...</td>\n",
       "      <td>40.9121</td>\n",
       "      <td>7035796</td>\n",
       "      <td>-73.2040</td>\n",
       "      <td>7b3ec41e8ecfed4a5305924fd8d79f32</td>\n",
       "      <td>[https://photos.renthop.com/2/7035796_79056a26...</td>\n",
       "      <td>30000</td>\n",
       "      <td>21 Triple Oak Ln</td>\n",
       "      <td>low</td>\n",
       "    </tr>\n",
       "    <tr>\n",
       "      <th>17977</th>\n",
       "      <td>4.5</td>\n",
       "      <td>5</td>\n",
       "      <td>7a85008dcef07df0a46dd3a03f76252b</td>\n",
       "      <td>2016-06-06 01:20:23</td>\n",
       "      <td>&lt;p class='MsoNormal'&gt;Perched atop a bluff on a...</td>\n",
       "      <td>Bluff Road</td>\n",
       "      <td>[Swimming Pool, Furnished]</td>\n",
       "      <td>40.9697</td>\n",
       "      <td>7114598</td>\n",
       "      <td>-72.1336</td>\n",
       "      <td>61cc4d884e6cfafed2000b1282db7cdb</td>\n",
       "      <td>[https://photos.renthop.com/2/7114598_86f50e55...</td>\n",
       "      <td>25000</td>\n",
       "      <td>336  Bluff Road</td>\n",
       "      <td>low</td>\n",
       "    </tr>\n",
       "    <tr>\n",
       "      <th>25135</th>\n",
       "      <td>2.0</td>\n",
       "      <td>2</td>\n",
       "      <td>69111122f465f6d186a7c750282b9d06</td>\n",
       "      <td>2016-06-17 02:51:21</td>\n",
       "      <td>This property is designed for the professional...</td>\n",
       "      <td>101 Washington Boulevard</td>\n",
       "      <td>[Fitness Center, Outdoor Pool, Residents Loung...</td>\n",
       "      <td>41.0411</td>\n",
       "      <td>7175659</td>\n",
       "      <td>-73.5423</td>\n",
       "      <td>9df32cb8dda19d3222d66e69e258616b</td>\n",
       "      <td>[https://photos.renthop.com/2/7175659_3e0cbf8b...</td>\n",
       "      <td>2588</td>\n",
       "      <td>101 Washington Boulevard</td>\n",
       "      <td>low</td>\n",
       "    </tr>\n",
       "    <tr>\n",
       "      <th>19157</th>\n",
       "      <td>1.0</td>\n",
       "      <td>1</td>\n",
       "      <td>69111122f465f6d186a7c750282b9d06</td>\n",
       "      <td>2016-06-03 02:51:46</td>\n",
       "      <td>This property is designed for the professional...</td>\n",
       "      <td>101 Washington Boulevard</td>\n",
       "      <td>[Fitness Center, Outdoor Pool, Residents Loung...</td>\n",
       "      <td>41.0411</td>\n",
       "      <td>7102198</td>\n",
       "      <td>-73.5423</td>\n",
       "      <td>9df32cb8dda19d3222d66e69e258616b</td>\n",
       "      <td>[https://photos.renthop.com/2/7102198_60fd6e69...</td>\n",
       "      <td>2435</td>\n",
       "      <td>101 Washington Boulevard</td>\n",
       "      <td>low</td>\n",
       "    </tr>\n",
       "    <tr>\n",
       "      <th>109644</th>\n",
       "      <td>2.0</td>\n",
       "      <td>2</td>\n",
       "      <td>69111122f465f6d186a7c750282b9d06</td>\n",
       "      <td>2016-04-15 02:53:26</td>\n",
       "      <td>This property is designed for the professional...</td>\n",
       "      <td>101 Washington Boulevard</td>\n",
       "      <td>[Fitness Center, Outdoor Pool, Residents Loung...</td>\n",
       "      <td>41.0411</td>\n",
       "      <td>6875929</td>\n",
       "      <td>-73.5423</td>\n",
       "      <td>9df32cb8dda19d3222d66e69e258616b</td>\n",
       "      <td>[https://photos.renthop.com/2/6875929_c440766e...</td>\n",
       "      <td>2205</td>\n",
       "      <td>101 Washington Boulevard</td>\n",
       "      <td>low</td>\n",
       "    </tr>\n",
       "    <tr>\n",
       "      <th>100346</th>\n",
       "      <td>1.0</td>\n",
       "      <td>1</td>\n",
       "      <td>e9f8fbe6cce51fe5e4418e1828bc6546</td>\n",
       "      <td>2016-04-15 02:52:24</td>\n",
       "      <td>When you choose Infinity, you'll move into an ...</td>\n",
       "      <td>201 Commons Park</td>\n",
       "      <td>[Fitness Center, Outdoor Pool, Residents Loung...</td>\n",
       "      <td>41.0412</td>\n",
       "      <td>6875908</td>\n",
       "      <td>-73.5400</td>\n",
       "      <td>9df32cb8dda19d3222d66e69e258616b</td>\n",
       "      <td>[https://photos.renthop.com/2/6875908_34ef0687...</td>\n",
       "      <td>2195</td>\n",
       "      <td>201 Commons Park</td>\n",
       "      <td>low</td>\n",
       "    </tr>\n",
       "    <tr>\n",
       "      <th>72896</th>\n",
       "      <td>1.0</td>\n",
       "      <td>0</td>\n",
       "      <td>2fc165040867a7c3694de4b4a63b1062</td>\n",
       "      <td>2016-05-07 10:34:35</td>\n",
       "      <td>Bright UES studio apartment! Only two flights ...</td>\n",
       "      <td>E 78th St  between First and York</td>\n",
       "      <td>[]</td>\n",
       "      <td>41.7530</td>\n",
       "      <td>6981117</td>\n",
       "      <td>-87.6134</td>\n",
       "      <td>ee89e559c627af61e8730ea4ad7011d6</td>\n",
       "      <td>[https://photos.renthop.com/2/6981117_2428e796...</td>\n",
       "      <td>2000</td>\n",
       "      <td>452 E 78th St #2A (First Ave &amp; York Ave)</td>\n",
       "      <td>low</td>\n",
       "    </tr>\n",
       "    <tr>\n",
       "      <th>114889</th>\n",
       "      <td>2.0</td>\n",
       "      <td>2</td>\n",
       "      <td>2adec6e74a834940cde0f05a8684d08f</td>\n",
       "      <td>2016-04-21 04:36:16</td>\n",
       "      <td>T_208-421-1596&lt;br /&gt;kagglemanager@rent...</td>\n",
       "      <td>550 Liberty Street</td>\n",
       "      <td>[Fitness Center, Cats Allowed, Dogs Allowed]</td>\n",
       "      <td>42.2019</td>\n",
       "      <td>6906214</td>\n",
       "      <td>-70.9846</td>\n",
       "      <td>43389561311270c553bb83a168a07a6b</td>\n",
       "      <td>[https://photos.renthop.com/2/6906214_4ab3c74a...</td>\n",
       "      <td>2541</td>\n",
       "      <td>550 Liberty Street</td>\n",
       "      <td>low</td>\n",
       "    </tr>\n",
       "    <tr>\n",
       "      <th>57131</th>\n",
       "      <td>1.0</td>\n",
       "      <td>1</td>\n",
       "      <td>2adec6e74a834940cde0f05a8684d08f</td>\n",
       "      <td>2016-05-28 03:50:27</td>\n",
       "      <td>Lenox Farms Apartments &amp; Town Homes of...</td>\n",
       "      <td>550 Liberty Street</td>\n",
       "      <td>[Fitness Center, Cats Allowed, Dogs Allowed]</td>\n",
       "      <td>42.2019</td>\n",
       "      <td>7079426</td>\n",
       "      <td>-70.9846</td>\n",
       "      <td>43389561311270c553bb83a168a07a6b</td>\n",
       "      <td>[https://photos.renthop.com/2/7079426_dc48b760...</td>\n",
       "      <td>2308</td>\n",
       "      <td>550 Liberty Street</td>\n",
       "      <td>low</td>\n",
       "    </tr>\n",
       "    <tr>\n",
       "      <th>41022</th>\n",
       "      <td>2.0</td>\n",
       "      <td>2</td>\n",
       "      <td>2adec6e74a834940cde0f05a8684d08f</td>\n",
       "      <td>2016-06-24 05:28:35</td>\n",
       "      <td>Lenox Farms Apartments &amp; Town Homes of...</td>\n",
       "      <td>550 Liberty Street</td>\n",
       "      <td>[Fitness Center, Cats Allowed, Dogs Allowed]</td>\n",
       "      <td>42.2019</td>\n",
       "      <td>7209113</td>\n",
       "      <td>-70.9846</td>\n",
       "      <td>43389561311270c553bb83a168a07a6b</td>\n",
       "      <td>[https://photos.renthop.com/2/7209113_f37eb785...</td>\n",
       "      <td>2709</td>\n",
       "      <td>550 Liberty Street</td>\n",
       "      <td>low</td>\n",
       "    </tr>\n",
       "    <tr>\n",
       "      <th>39046</th>\n",
       "      <td>1.0</td>\n",
       "      <td>1</td>\n",
       "      <td>2adec6e74a834940cde0f05a8684d08f</td>\n",
       "      <td>2016-06-16 04:28:15</td>\n",
       "      <td>Lenox Farms Apartments &amp; Town Homes of...</td>\n",
       "      <td>550 Liberty Street</td>\n",
       "      <td>[Fitness Center, Cats Allowed, Dogs Allowed]</td>\n",
       "      <td>42.2019</td>\n",
       "      <td>7169135</td>\n",
       "      <td>-70.9846</td>\n",
       "      <td>50ef6c51bfe99f33e459ab902190e87f</td>\n",
       "      <td>[https://photos.renthop.com/2/7169135_9a47ffdd...</td>\n",
       "      <td>2140</td>\n",
       "      <td>550 Liberty Street</td>\n",
       "      <td>low</td>\n",
       "    </tr>\n",
       "    <tr>\n",
       "      <th>117255</th>\n",
       "      <td>1.0</td>\n",
       "      <td>1</td>\n",
       "      <td>0</td>\n",
       "      <td>2016-04-06 13:27:48</td>\n",
       "      <td>One BHK apartment is on rent from 20th April, ...</td>\n",
       "      <td>176 Presidents lane</td>\n",
       "      <td>[Furnished, Parking Space, No Fee, Elevator, L...</td>\n",
       "      <td>42.2509</td>\n",
       "      <td>6834490</td>\n",
       "      <td>-71.0060</td>\n",
       "      <td>e6472c7237327dd3903b3d6f6a94515a</td>\n",
       "      <td>[https://photos.renthop.com/2/6834490_75f7d508...</td>\n",
       "      <td>1670</td>\n",
       "      <td>176 Presidents lane,Quincy,MA</td>\n",
       "      <td>low</td>\n",
       "    </tr>\n",
       "    <tr>\n",
       "      <th>73065</th>\n",
       "      <td>1.0</td>\n",
       "      <td>1</td>\n",
       "      <td>3dd500218fd52811b282f5af28a0961f</td>\n",
       "      <td>2016-05-24 04:08:19</td>\n",
       "      <td>Occupied</td>\n",
       "      <td>300 2nd Avenue</td>\n",
       "      <td>[Elevator, Fitness Center, Cats Allowed, Dogs ...</td>\n",
       "      <td>42.3033</td>\n",
       "      <td>7059785</td>\n",
       "      <td>-71.2133</td>\n",
       "      <td>602fee16546f42bfa81f4adc05261cfa</td>\n",
       "      <td>[]</td>\n",
       "      <td>3518</td>\n",
       "      <td>300 2nd Avenue</td>\n",
       "      <td>low</td>\n",
       "    </tr>\n",
       "    <tr>\n",
       "      <th>62409</th>\n",
       "      <td>1.0</td>\n",
       "      <td>1</td>\n",
       "      <td>3dd500218fd52811b282f5af28a0961f</td>\n",
       "      <td>2016-05-06 04:27:33</td>\n",
       "      <td>Vacant</td>\n",
       "      <td>300 2nd Avenue</td>\n",
       "      <td>[Elevator, Fitness Center, Cats Allowed, Dogs ...</td>\n",
       "      <td>42.3033</td>\n",
       "      <td>6974621</td>\n",
       "      <td>-71.2133</td>\n",
       "      <td>602fee16546f42bfa81f4adc05261cfa</td>\n",
       "      <td>[https://photos.renthop.com/2/6974621_11136b2c...</td>\n",
       "      <td>2889</td>\n",
       "      <td>300 2nd Avenue</td>\n",
       "      <td>low</td>\n",
       "    </tr>\n",
       "    <tr>\n",
       "      <th>80360</th>\n",
       "      <td>2.0</td>\n",
       "      <td>3</td>\n",
       "      <td>de47025fe5e6d20a1360cb3efe8c8348</td>\n",
       "      <td>2016-05-27 03:52:12</td>\n",
       "      <td>Two wood burning fireplaces, three bal...</td>\n",
       "      <td>32 Garrison Street</td>\n",
       "      <td>[Elevator, Cats Allowed]</td>\n",
       "      <td>42.3459</td>\n",
       "      <td>7075183</td>\n",
       "      <td>-71.0794</td>\n",
       "      <td>6a393c2a7ce242d016fb0170ed19aa61</td>\n",
       "      <td>[https://photos.renthop.com/2/7075183_b60bc7f3...</td>\n",
       "      <td>6801</td>\n",
       "      <td>32 Garrison Street</td>\n",
       "      <td>low</td>\n",
       "    </tr>\n",
       "    <tr>\n",
       "      <th>85995</th>\n",
       "      <td>1.0</td>\n",
       "      <td>1</td>\n",
       "      <td>3eac933a57e386d7e11a479c40cc0dd4</td>\n",
       "      <td>2016-04-30 03:49:17</td>\n",
       "      <td>corner unit. Lots of natural light, la...</td>\n",
       "      <td>30 Garrison Street</td>\n",
       "      <td>[Elevator, Cats Allowed, Dogs Allowed]</td>\n",
       "      <td>42.3459</td>\n",
       "      <td>6946575</td>\n",
       "      <td>-71.0794</td>\n",
       "      <td>c090563865adf7dd1c953e9d6bd65318</td>\n",
       "      <td>[https://photos.renthop.com/2/6946575_d6515ca4...</td>\n",
       "      <td>3698</td>\n",
       "      <td>30 Garrison Street</td>\n",
       "      <td>low</td>\n",
       "    </tr>\n",
       "    <tr>\n",
       "      <th>24747</th>\n",
       "      <td>1.0</td>\n",
       "      <td>1</td>\n",
       "      <td>253df0eb4ce61b5bcb695a440606c58d</td>\n",
       "      <td>2016-06-12 03:46:05</td>\n",
       "      <td>Stunning one bedroom apartment with dr...</td>\n",
       "      <td>56 St. Botolph Street</td>\n",
       "      <td>[Elevator, Cats Allowed, Dogs Allowed]</td>\n",
       "      <td>42.3459</td>\n",
       "      <td>7146153</td>\n",
       "      <td>-71.0794</td>\n",
       "      <td>6a393c2a7ce242d016fb0170ed19aa61</td>\n",
       "      <td>[https://photos.renthop.com/2/7146153_6c1b933d...</td>\n",
       "      <td>4123</td>\n",
       "      <td>56 St. Botolph Street</td>\n",
       "      <td>low</td>\n",
       "    </tr>\n",
       "    <tr>\n",
       "      <th>872</th>\n",
       "      <td>1.0</td>\n",
       "      <td>2</td>\n",
       "      <td>de47025fe5e6d20a1360cb3efe8c8348</td>\n",
       "      <td>2016-06-11 06:44:25</td>\n",
       "      <td>Spacious two bedroom, corner unit with...</td>\n",
       "      <td>32 Garrison Street</td>\n",
       "      <td>[Elevator, Cats Allowed, Dogs Allowed]</td>\n",
       "      <td>42.3459</td>\n",
       "      <td>7143730</td>\n",
       "      <td>-71.0794</td>\n",
       "      <td>c090563865adf7dd1c953e9d6bd65318</td>\n",
       "      <td>[https://photos.renthop.com/2/7143730_775991d2...</td>\n",
       "      <td>4186</td>\n",
       "      <td>32 Garrison Street</td>\n",
       "      <td>low</td>\n",
       "    </tr>\n",
       "    <tr>\n",
       "      <th>4719</th>\n",
       "      <td>2.0</td>\n",
       "      <td>2</td>\n",
       "      <td>51052daba3eae7ee4e27bf436f7eb5a9</td>\n",
       "      <td>2016-06-27 02:48:10</td>\n",
       "      <td>Super Spacious Renovated 2BR/2BATH with Home O...</td>\n",
       "      <td>84 Street</td>\n",
       "      <td>[Private Outdoor Space, Dishwasher, Hardwood F...</td>\n",
       "      <td>42.8724</td>\n",
       "      <td>7221153</td>\n",
       "      <td>-73.4662</td>\n",
       "      <td>5856ea690d343df5f3bc66315babb280</td>\n",
       "      <td>[https://photos.renthop.com/2/7221153_0160c1e4...</td>\n",
       "      <td>2300</td>\n",
       "      <td>1844 84 Street</td>\n",
       "      <td>low</td>\n",
       "    </tr>\n",
       "    <tr>\n",
       "      <th>81815</th>\n",
       "      <td>1.0</td>\n",
       "      <td>2</td>\n",
       "      <td>67d5728b505db14a586d79865b58fb24</td>\n",
       "      <td>2016-05-03 04:20:02</td>\n",
       "      <td>Beautiful, renovated and fully loaded 2 BR.&lt;br...</td>\n",
       "      <td>7916 19 Road</td>\n",
       "      <td>[Dining Room, Laundry in Unit, Dishwasher, Har...</td>\n",
       "      <td>42.8725</td>\n",
       "      <td>6957694</td>\n",
       "      <td>-73.4665</td>\n",
       "      <td>2b6d9435a0e6c4019e5ffcb53389c3dd</td>\n",
       "      <td>[https://photos.renthop.com/2/6957694_adac55f7...</td>\n",
       "      <td>2700</td>\n",
       "      <td>7916 19 Road</td>\n",
       "      <td>low</td>\n",
       "    </tr>\n",
       "    <tr>\n",
       "      <th>18267</th>\n",
       "      <td>1.0</td>\n",
       "      <td>2</td>\n",
       "      <td>0</td>\n",
       "      <td>2016-06-29 02:30:45</td>\n",
       "      <td>Huge bedrooms, windows in every room! Hard woo...</td>\n",
       "      <td>1st Ave. Loop</td>\n",
       "      <td>[Elevator, Laundry in Building, Dishwasher, Ha...</td>\n",
       "      <td>43.0346</td>\n",
       "      <td>7229074</td>\n",
       "      <td>-76.6336</td>\n",
       "      <td>f44a6215f74f901ac7e326207f2984f7</td>\n",
       "      <td>[https://photos.renthop.com/2/7229074_14de73ea...</td>\n",
       "      <td>3300</td>\n",
       "      <td>250 1st Ave. Loop</td>\n",
       "      <td>low</td>\n",
       "    </tr>\n",
       "    <tr>\n",
       "      <th>16405</th>\n",
       "      <td>1.0</td>\n",
       "      <td>0</td>\n",
       "      <td>23b17bf6f7be64e3272b561cc0b65f5a</td>\n",
       "      <td>2016-06-22 23:17:24</td>\n",
       "      <td></td>\n",
       "      <td>Riverside Dr/ 90 Street</td>\n",
       "      <td>[Furnished, Common Outdoor Space, Air Conditio...</td>\n",
       "      <td>44.6038</td>\n",
       "      <td>7202226</td>\n",
       "      <td>-75.1773</td>\n",
       "      <td>7a3570a25df3d87f6520bfe770473d58</td>\n",
       "      <td>[https://photos.renthop.com/2/7202226_a5b38334...</td>\n",
       "      <td>1350</td>\n",
       "      <td>Riverside Dr/ 90 Street</td>\n",
       "      <td>medium</td>\n",
       "    </tr>\n",
       "    <tr>\n",
       "      <th>78568</th>\n",
       "      <td>3.0</td>\n",
       "      <td>3</td>\n",
       "      <td>cca9ed74339903b6d9c876a8e608d75b</td>\n",
       "      <td>2016-05-19 02:11:21</td>\n",
       "      <td>DYNAMIC DUPLEX!!!! Incredible 3 Bedroom, 3.5 B...</td>\n",
       "      <td>E 66th St, New York</td>\n",
       "      <td>[Fitness Center, Renovated, Walk in Closet(s),...</td>\n",
       "      <td>44.8835</td>\n",
       "      <td>7035661</td>\n",
       "      <td>-93.2705</td>\n",
       "      <td>223268168dc5049485bd70a19596730e</td>\n",
       "      <td>[https://photos.renthop.com/2/7035661_e224f454...</td>\n",
       "      <td>13875</td>\n",
       "      <td>400 E 66th St,New York</td>\n",
       "      <td>low</td>\n",
       "    </tr>\n",
       "  </tbody>\n",
       "</table>\n",
       "</div>"
      ],
      "text/plain": [
       "        bathrooms  bedrooms                       building_id  \\\n",
       "39798         1.0         1  117aceb94c48bfd1f3066a22f999705f   \n",
       "121891        1.0         1  ebdf422b8605d69a719a5cdc34019463   \n",
       "104822        1.0         0  437454e6d44ae7c94f60b1b6507d084a   \n",
       "114028        1.0         1  6869a3c2a96003e9992d6cd1c3c4b299   \n",
       "108994        1.0         0                                 0   \n",
       "66032         2.0         2  1b8a8f17bc71ce4901b03aa2faee0250   \n",
       "82709         2.0         2  1b8a8f17bc71ce4901b03aa2faee0250   \n",
       "41067         1.0         0  78161d4bf7933c307f5a4ee7cabb95e9   \n",
       "65759         2.0         2  1b8a8f17bc71ce4901b03aa2faee0250   \n",
       "90453         1.0         0  bcff5fea2aa8b4bcc912e8ed3d25d6a4   \n",
       "33566         1.0         1  8a3bc091d325ec8adead9e94347416e3   \n",
       "109507        3.0         3  95fabd330f806524ae62115264f1f840   \n",
       "113599        1.0         0  abdc40a80dc42f32e02d10d3e629253e   \n",
       "113552        1.0         0  abdc40a80dc42f32e02d10d3e629253e   \n",
       "85617         1.0         0  abdc40a80dc42f32e02d10d3e629253e   \n",
       "102756        1.0         0  abdc40a80dc42f32e02d10d3e629253e   \n",
       "88300         1.0         0  39dd015bc8b81e4ae8b667357b8620b4   \n",
       "119862        0.0         0  1ae479c6b926f751ec2920976a97196f   \n",
       "113305        1.0         1  c391084ee341be0d85643b7bd1757993   \n",
       "115801        1.0         2  fff0a02ad82421c226c6d6765a0dde57   \n",
       "26937         6.5         7  3be1175591e290053aa6997ac8f4e3bb   \n",
       "78812         4.0         5  45ecfa32e0bbbe856186fe0e9c58bdea   \n",
       "17977         4.5         5  7a85008dcef07df0a46dd3a03f76252b   \n",
       "25135         2.0         2  69111122f465f6d186a7c750282b9d06   \n",
       "19157         1.0         1  69111122f465f6d186a7c750282b9d06   \n",
       "109644        2.0         2  69111122f465f6d186a7c750282b9d06   \n",
       "100346        1.0         1  e9f8fbe6cce51fe5e4418e1828bc6546   \n",
       "72896         1.0         0  2fc165040867a7c3694de4b4a63b1062   \n",
       "114889        2.0         2  2adec6e74a834940cde0f05a8684d08f   \n",
       "57131         1.0         1  2adec6e74a834940cde0f05a8684d08f   \n",
       "41022         2.0         2  2adec6e74a834940cde0f05a8684d08f   \n",
       "39046         1.0         1  2adec6e74a834940cde0f05a8684d08f   \n",
       "117255        1.0         1                                 0   \n",
       "73065         1.0         1  3dd500218fd52811b282f5af28a0961f   \n",
       "62409         1.0         1  3dd500218fd52811b282f5af28a0961f   \n",
       "80360         2.0         3  de47025fe5e6d20a1360cb3efe8c8348   \n",
       "85995         1.0         1  3eac933a57e386d7e11a479c40cc0dd4   \n",
       "24747         1.0         1  253df0eb4ce61b5bcb695a440606c58d   \n",
       "872           1.0         2  de47025fe5e6d20a1360cb3efe8c8348   \n",
       "4719          2.0         2  51052daba3eae7ee4e27bf436f7eb5a9   \n",
       "81815         1.0         2  67d5728b505db14a586d79865b58fb24   \n",
       "18267         1.0         2                                 0   \n",
       "16405         1.0         0  23b17bf6f7be64e3272b561cc0b65f5a   \n",
       "78568         3.0         3  cca9ed74339903b6d9c876a8e608d75b   \n",
       "\n",
       "                    created  \\\n",
       "39798   2016-06-17 02:10:25   \n",
       "121891  2016-04-09 12:36:21   \n",
       "104822  2016-04-16 02:10:48   \n",
       "114028  2016-04-07 01:41:55   \n",
       "108994  2016-04-03 17:08:55   \n",
       "66032   2016-05-05 02:39:45   \n",
       "82709   2016-05-10 02:30:46   \n",
       "41067   2016-06-01 15:42:54   \n",
       "65759   2016-05-13 02:21:48   \n",
       "90453   2016-04-09 23:14:06   \n",
       "33566   2016-06-28 05:00:52   \n",
       "109507  2016-04-06 16:47:50   \n",
       "113599  2016-04-06 05:24:27   \n",
       "113552  2016-04-13 04:20:52   \n",
       "85617   2016-04-10 03:51:11   \n",
       "102756  2016-04-12 03:48:49   \n",
       "88300   2016-04-04 13:33:47   \n",
       "119862  2016-04-13 02:51:38   \n",
       "113305  2016-04-02 03:21:31   \n",
       "115801  2016-04-12 03:18:31   \n",
       "26937   2016-06-22 03:15:54   \n",
       "78812   2016-05-19 02:16:11   \n",
       "17977   2016-06-06 01:20:23   \n",
       "25135   2016-06-17 02:51:21   \n",
       "19157   2016-06-03 02:51:46   \n",
       "109644  2016-04-15 02:53:26   \n",
       "100346  2016-04-15 02:52:24   \n",
       "72896   2016-05-07 10:34:35   \n",
       "114889  2016-04-21 04:36:16   \n",
       "57131   2016-05-28 03:50:27   \n",
       "41022   2016-06-24 05:28:35   \n",
       "39046   2016-06-16 04:28:15   \n",
       "117255  2016-04-06 13:27:48   \n",
       "73065   2016-05-24 04:08:19   \n",
       "62409   2016-05-06 04:27:33   \n",
       "80360   2016-05-27 03:52:12   \n",
       "85995   2016-04-30 03:49:17   \n",
       "24747   2016-06-12 03:46:05   \n",
       "872     2016-06-11 06:44:25   \n",
       "4719    2016-06-27 02:48:10   \n",
       "81815   2016-05-03 04:20:02   \n",
       "18267   2016-06-29 02:30:45   \n",
       "16405   2016-06-22 23:17:24   \n",
       "78568   2016-05-19 02:11:21   \n",
       "\n",
       "                                              description  \\\n",
       "39798   NO FEE 1 bedroom - Great Elevator  - Laundry B...   \n",
       "121891  NEW BUILDING!!\\rLarge 1BR Apt with private out...   \n",
       "104822  NEWLY RENOVATED BEAUTIFUL SPACIOUS HUGE STUDIO...   \n",
       "114028  Come for the studio apartment but stay for all...   \n",
       "108994  Sunny, spacious garden level studio apartment ...   \n",
       "66032   Beautiful  2BR in the Washington Heights<p><a ...   \n",
       "82709   Awesome 2bed/2baths apartment just for $3.000,...   \n",
       "41067   The Harrison offers studios, 1 bedroom and two...   \n",
       "65759   Awesome 2bed/2baths apartment just for $3.000,...   \n",
       "90453   No fee! There's no need to look any further fo...   \n",
       "33566   Stunning King-size One Bedroom now available o...   \n",
       "109507  EXQUISITE BROWNSTONE** ORIGINAL PRE WAR ** HUG...   \n",
       "113599                                                      \n",
       "113552                                                      \n",
       "85617                                                       \n",
       "102756                                                      \n",
       "88300   SUNNY ** RENOVATED ** STUDIO ** GREAT VALUE **...   \n",
       "119862  Stellar Studios w/ Attended Lobby, Fitness Cen...   \n",
       "113305  Fully renovated 1 bedroom. Unit features condo...   \n",
       "115801  Two bedroom apartment located near NYC train/b...   \n",
       "26937   This landmark English stone manor sits majesti...   \n",
       "78812   This stunning waterfront mansion is extremely ...   \n",
       "17977   <p class='MsoNormal'>Perched atop a bluff on a...   \n",
       "25135   This property is designed for the professional...   \n",
       "19157   This property is designed for the professional...   \n",
       "109644  This property is designed for the professional...   \n",
       "100346  When you choose Infinity, you'll move into an ...   \n",
       "72896   Bright UES studio apartment! Only two flights ...   \n",
       "114889          T_208-421-1596<br />kagglemanager@rent...   \n",
       "57131           Lenox Farms Apartments & Town Homes of...   \n",
       "41022           Lenox Farms Apartments & Town Homes of...   \n",
       "39046           Lenox Farms Apartments & Town Homes of...   \n",
       "117255  One BHK apartment is on rent from 20th April, ...   \n",
       "73065                                            Occupied   \n",
       "62409                                              Vacant   \n",
       "80360           Two wood burning fireplaces, three bal...   \n",
       "85995           corner unit. Lots of natural light, la...   \n",
       "24747           Stunning one bedroom apartment with dr...   \n",
       "872             Spacious two bedroom, corner unit with...   \n",
       "4719    Super Spacious Renovated 2BR/2BATH with Home O...   \n",
       "81815   Beautiful, renovated and fully loaded 2 BR.<br...   \n",
       "18267   Huge bedrooms, windows in every room! Hard woo...   \n",
       "16405                                                       \n",
       "78568   DYNAMIC DUPLEX!!!! Incredible 3 Bedroom, 3.5 B...   \n",
       "\n",
       "                                        display_address  \\\n",
       "39798                                        E 38th St,   \n",
       "121891                              505 Saint Marks Ave   \n",
       "104822                                       E 46th St,   \n",
       "114028  Modern Studio in Amenity Filled 24 Hr. DM Bldg.   \n",
       "108994                            268 Bainbridge Street   \n",
       "66032                                      W 163 Street   \n",
       "82709                                      W 163 Street   \n",
       "41067                                 575 Easton Avenue   \n",
       "65759                                      W 163 Street   \n",
       "90453                       East 28th and Lexington Ave   \n",
       "33566                                     Rockne Street   \n",
       "109507                   Halsey St and Nostrand Avenue    \n",
       "113599                                  Marshall Street   \n",
       "113552                                  Marshall Street   \n",
       "85617                                   Marshall Street   \n",
       "102756                                  Marshall Street   \n",
       "88300                               E 61 & 3rd Avenue     \n",
       "119862                              330 Somerset Street   \n",
       "113305                                 East 26th Street   \n",
       "115801                                 50 Linden Avenue   \n",
       "26937                          206 Upper Mountain Avenu   \n",
       "78812                                  21 Triple Oak Ln   \n",
       "17977                                        Bluff Road   \n",
       "25135                          101 Washington Boulevard   \n",
       "19157                          101 Washington Boulevard   \n",
       "109644                         101 Washington Boulevard   \n",
       "100346                                 201 Commons Park   \n",
       "72896               E 78th St  between First and York     \n",
       "114889                               550 Liberty Street   \n",
       "57131                                550 Liberty Street   \n",
       "41022                                550 Liberty Street   \n",
       "39046                                550 Liberty Street   \n",
       "117255                              176 Presidents lane   \n",
       "73065                                    300 2nd Avenue   \n",
       "62409                                    300 2nd Avenue   \n",
       "80360                                32 Garrison Street   \n",
       "85995                                30 Garrison Street   \n",
       "24747                             56 St. Botolph Street   \n",
       "872                                  32 Garrison Street   \n",
       "4719                                          84 Street   \n",
       "81815                                      7916 19 Road   \n",
       "18267                                     1st Ave. Loop   \n",
       "16405                           Riverside Dr/ 90 Street   \n",
       "78568                              E 66th St, New York    \n",
       "\n",
       "                                                 features  latitude  \\\n",
       "39798   [Elevator, Walk in Closet(s), High Ceilings, H...   34.0126   \n",
       "121891  [Common Outdoor Space, Cats Allowed, Private O...   39.7996   \n",
       "104822  [Doorman, Elevator, Walk in Closet(s), High Ce...   39.8395   \n",
       "114028  [Cats Allowed, Dogs Allowed, Doorman, Elevator...   40.0450   \n",
       "108994  [Common Outdoor Space, Private Outdoor Space, ...   40.1159   \n",
       "66032                                          [Elevator]   40.5065   \n",
       "82709             [Elevator, Dishwasher, Hardwood Floors]   40.5065   \n",
       "41067   [Balcony, Dishwasher, No Fee, Elevator, Fitnes...   40.5065   \n",
       "65759             [Elevator, Dishwasher, Hardwood Floors]   40.5065   \n",
       "90453   [Common Outdoor Space, Laundry In Unit, Cats A...   40.5813   \n",
       "33566                                         [Exclusive]   40.5863   \n",
       "109507  [Private Outdoor Space, No Fee, Fitness Center...   40.6616   \n",
       "113599                                                 []   40.7291   \n",
       "113552                                                 []   40.7291   \n",
       "85617                                                  []   40.7291   \n",
       "102756                                                 []   40.7291   \n",
       "88300                                                  []   40.7305   \n",
       "119862  [Fitness Center, Outdoor Pool, Residents Loung...   40.7402   \n",
       "113305  [No Fee, Elevator, Pre-War, Laundry in Unit, D...   40.7798   \n",
       "115801                                          [Doorman]   40.7903   \n",
       "26937                           [Garage, Garden, Doorman]   40.8336   \n",
       "78812   [assigned-parking-space, balcony, private-balc...   40.9121   \n",
       "17977                          [Swimming Pool, Furnished]   40.9697   \n",
       "25135   [Fitness Center, Outdoor Pool, Residents Loung...   41.0411   \n",
       "19157   [Fitness Center, Outdoor Pool, Residents Loung...   41.0411   \n",
       "109644  [Fitness Center, Outdoor Pool, Residents Loung...   41.0411   \n",
       "100346  [Fitness Center, Outdoor Pool, Residents Loung...   41.0412   \n",
       "72896                                                  []   41.7530   \n",
       "114889       [Fitness Center, Cats Allowed, Dogs Allowed]   42.2019   \n",
       "57131        [Fitness Center, Cats Allowed, Dogs Allowed]   42.2019   \n",
       "41022        [Fitness Center, Cats Allowed, Dogs Allowed]   42.2019   \n",
       "39046        [Fitness Center, Cats Allowed, Dogs Allowed]   42.2019   \n",
       "117255  [Furnished, Parking Space, No Fee, Elevator, L...   42.2509   \n",
       "73065   [Elevator, Fitness Center, Cats Allowed, Dogs ...   42.3033   \n",
       "62409   [Elevator, Fitness Center, Cats Allowed, Dogs ...   42.3033   \n",
       "80360                            [Elevator, Cats Allowed]   42.3459   \n",
       "85995              [Elevator, Cats Allowed, Dogs Allowed]   42.3459   \n",
       "24747              [Elevator, Cats Allowed, Dogs Allowed]   42.3459   \n",
       "872                [Elevator, Cats Allowed, Dogs Allowed]   42.3459   \n",
       "4719    [Private Outdoor Space, Dishwasher, Hardwood F...   42.8724   \n",
       "81815   [Dining Room, Laundry in Unit, Dishwasher, Har...   42.8725   \n",
       "18267   [Elevator, Laundry in Building, Dishwasher, Ha...   43.0346   \n",
       "16405   [Furnished, Common Outdoor Space, Air Conditio...   44.6038   \n",
       "78568   [Fitness Center, Renovated, Walk in Closet(s),...   44.8835   \n",
       "\n",
       "        listing_id  longitude                        manager_id  \\\n",
       "39798      7174857  -118.2710  f19288238987b18a693e16ee23720c20   \n",
       "121891     6850473   -74.6248  4c2a031c5886dd6ca7085f3300dc7cb6   \n",
       "104822     6881361   -86.1527  8439c2c1ab6949a7447b00971e2f73a9   \n",
       "114028     6836479   -75.5214  c3b7c269756b10a84641f04868f30db1   \n",
       "108994     6819739   -74.6267  8e75480baef379386edc3880bba576fd   \n",
       "66032      6967155   -74.2432  2b6d9435a0e6c4019e5ffcb53389c3dd   \n",
       "82709      6988269   -74.2432  abba62a6a83113e947f0b38a79e3c98b   \n",
       "41067      7094306   -74.4708  e5808a5e6cc13988fe596704428d38d5   \n",
       "65759      7004652   -74.2432  460d813aef3f598dabf7e312e0eb373a   \n",
       "90453      6850662   -74.5343  aed64017aab5211439e8a6998f52f73b   \n",
       "33566      7225665   -74.1598  6f6800394576faaaac648999eba9a110   \n",
       "109507     6834715   -74.6637  c3d876f112646134464b3b5635c15549   \n",
       "113599     6831246   -74.2224  782b04129d661ae064fe013aeb297ace   \n",
       "113552     6865783   -74.2224  782b04129d661ae064fe013aeb297ace   \n",
       "85617      6852585   -74.2224  782b04129d661ae064fe013aeb297ace   \n",
       "102756     6859573   -74.2224  782b04129d661ae064fe013aeb297ace   \n",
       "88300      6822248   -74.1626  c3d876f112646134464b3b5635c15549   \n",
       "119862     6864486   -74.1571  9df32cb8dda19d3222d66e69e258616b   \n",
       "113305     6815190   -74.1215  53f240454714b223c7aaa73437c24e8a   \n",
       "115801     6859069   -74.2034  7efb139d6df9fc594c4db6ca96b8a1e7   \n",
       "26937      7198431   -74.2160  1d019cccf631394cd7f2aba471a54ca4   \n",
       "78812      7035796   -73.2040  7b3ec41e8ecfed4a5305924fd8d79f32   \n",
       "17977      7114598   -72.1336  61cc4d884e6cfafed2000b1282db7cdb   \n",
       "25135      7175659   -73.5423  9df32cb8dda19d3222d66e69e258616b   \n",
       "19157      7102198   -73.5423  9df32cb8dda19d3222d66e69e258616b   \n",
       "109644     6875929   -73.5423  9df32cb8dda19d3222d66e69e258616b   \n",
       "100346     6875908   -73.5400  9df32cb8dda19d3222d66e69e258616b   \n",
       "72896      6981117   -87.6134  ee89e559c627af61e8730ea4ad7011d6   \n",
       "114889     6906214   -70.9846  43389561311270c553bb83a168a07a6b   \n",
       "57131      7079426   -70.9846  43389561311270c553bb83a168a07a6b   \n",
       "41022      7209113   -70.9846  43389561311270c553bb83a168a07a6b   \n",
       "39046      7169135   -70.9846  50ef6c51bfe99f33e459ab902190e87f   \n",
       "117255     6834490   -71.0060  e6472c7237327dd3903b3d6f6a94515a   \n",
       "73065      7059785   -71.2133  602fee16546f42bfa81f4adc05261cfa   \n",
       "62409      6974621   -71.2133  602fee16546f42bfa81f4adc05261cfa   \n",
       "80360      7075183   -71.0794  6a393c2a7ce242d016fb0170ed19aa61   \n",
       "85995      6946575   -71.0794  c090563865adf7dd1c953e9d6bd65318   \n",
       "24747      7146153   -71.0794  6a393c2a7ce242d016fb0170ed19aa61   \n",
       "872        7143730   -71.0794  c090563865adf7dd1c953e9d6bd65318   \n",
       "4719       7221153   -73.4662  5856ea690d343df5f3bc66315babb280   \n",
       "81815      6957694   -73.4665  2b6d9435a0e6c4019e5ffcb53389c3dd   \n",
       "18267      7229074   -76.6336  f44a6215f74f901ac7e326207f2984f7   \n",
       "16405      7202226   -75.1773  7a3570a25df3d87f6520bfe770473d58   \n",
       "78568      7035661   -93.2705  223268168dc5049485bd70a19596730e   \n",
       "\n",
       "                                                   photos  price  \\\n",
       "39798   [https://photos.renthop.com/2/7174857_6d71b6e1...   2425   \n",
       "121891  [https://photos.renthop.com/2/6850473_1a7356aa...   2550   \n",
       "104822  [https://photos.renthop.com/2/6881361_f8efe79e...   2650   \n",
       "114028  [https://photos.renthop.com/2/6836479_2a5daff5...   2895   \n",
       "108994  [https://photos.renthop.com/2/6819739_79b1aee8...   1650   \n",
       "66032   [https://photos.renthop.com/2/6967155_870734b2...   3000   \n",
       "82709                                                  []   3000   \n",
       "41067   [https://photos.renthop.com/2/7094306_fe72e56d...   1310   \n",
       "65759   [https://photos.renthop.com/2/7004652_a9fe0fd9...   3000   \n",
       "90453   [https://photos.renthop.com/2/6850662_5cf4238c...   3985   \n",
       "33566   [https://photos.renthop.com/2/7225665_b70c2170...   1295   \n",
       "109507  [https://photos.renthop.com/2/6834715_047d10c3...   4400   \n",
       "113599  [https://photos.renthop.com/2/6831246_ab971bf6...    695   \n",
       "113552  [https://photos.renthop.com/2/6865783_9ec986f5...    695   \n",
       "85617   [https://photos.renthop.com/2/6852585_7ceadd50...    695   \n",
       "102756  [https://photos.renthop.com/2/6859573_6ca2527f...    695   \n",
       "88300   [https://photos.renthop.com/2/6822248_0c318b59...   1850   \n",
       "119862  [https://photos.renthop.com/2/6864486_93ad0c6f...   1775   \n",
       "113305  [https://photos.renthop.com/2/6815190_39714d91...   3603   \n",
       "115801  [https://photos.renthop.com/2/6859069_1aee6c66...   1800   \n",
       "26937   [https://photos.renthop.com/2/7198431_70d9d8ff...  14500   \n",
       "78812   [https://photos.renthop.com/2/7035796_79056a26...  30000   \n",
       "17977   [https://photos.renthop.com/2/7114598_86f50e55...  25000   \n",
       "25135   [https://photos.renthop.com/2/7175659_3e0cbf8b...   2588   \n",
       "19157   [https://photos.renthop.com/2/7102198_60fd6e69...   2435   \n",
       "109644  [https://photos.renthop.com/2/6875929_c440766e...   2205   \n",
       "100346  [https://photos.renthop.com/2/6875908_34ef0687...   2195   \n",
       "72896   [https://photos.renthop.com/2/6981117_2428e796...   2000   \n",
       "114889  [https://photos.renthop.com/2/6906214_4ab3c74a...   2541   \n",
       "57131   [https://photos.renthop.com/2/7079426_dc48b760...   2308   \n",
       "41022   [https://photos.renthop.com/2/7209113_f37eb785...   2709   \n",
       "39046   [https://photos.renthop.com/2/7169135_9a47ffdd...   2140   \n",
       "117255  [https://photos.renthop.com/2/6834490_75f7d508...   1670   \n",
       "73065                                                  []   3518   \n",
       "62409   [https://photos.renthop.com/2/6974621_11136b2c...   2889   \n",
       "80360   [https://photos.renthop.com/2/7075183_b60bc7f3...   6801   \n",
       "85995   [https://photos.renthop.com/2/6946575_d6515ca4...   3698   \n",
       "24747   [https://photos.renthop.com/2/7146153_6c1b933d...   4123   \n",
       "872     [https://photos.renthop.com/2/7143730_775991d2...   4186   \n",
       "4719    [https://photos.renthop.com/2/7221153_0160c1e4...   2300   \n",
       "81815   [https://photos.renthop.com/2/6957694_adac55f7...   2700   \n",
       "18267   [https://photos.renthop.com/2/7229074_14de73ea...   3300   \n",
       "16405   [https://photos.renthop.com/2/7202226_a5b38334...   1350   \n",
       "78568   [https://photos.renthop.com/2/7035661_e224f454...  13875   \n",
       "\n",
       "                                  street_address interest_level  \n",
       "39798                             234 E 38th St,            low  \n",
       "121891                       505 Saint Marks Ave            low  \n",
       "104822                            235 E 46th St,            low  \n",
       "114028                      271 West 47TH Street            low  \n",
       "108994                     268 Bainbridge Street            low  \n",
       "66032                           540 W 163 Street            low  \n",
       "82709                           540 W 163 Street            low  \n",
       "41067                          575 Easton Avenue         medium  \n",
       "65759                           540 W 163 Street            low  \n",
       "90453                               50 East 28th            low  \n",
       "33566                           78 Rockne Street           high  \n",
       "109507                              57 Halsey St            low  \n",
       "113599                        12 Marshall Street         medium  \n",
       "113552                        12 Marshall Street         medium  \n",
       "85617                         12 Marshall Street         medium  \n",
       "102756                        12 Marshall Street         medium  \n",
       "88300                                  257 E 61             low  \n",
       "119862                       330 Somerset Street            low  \n",
       "113305                      145 East 26th Street         medium  \n",
       "115801                          50 Linden Avenue            low  \n",
       "26937                   206 Upper Mountain Avenu            low  \n",
       "78812                           21 Triple Oak Ln            low  \n",
       "17977                            336  Bluff Road            low  \n",
       "25135                   101 Washington Boulevard            low  \n",
       "19157                   101 Washington Boulevard            low  \n",
       "109644                  101 Washington Boulevard            low  \n",
       "100346                          201 Commons Park            low  \n",
       "72896   452 E 78th St #2A (First Ave & York Ave)            low  \n",
       "114889                        550 Liberty Street            low  \n",
       "57131                         550 Liberty Street            low  \n",
       "41022                         550 Liberty Street            low  \n",
       "39046                         550 Liberty Street            low  \n",
       "117255             176 Presidents lane,Quincy,MA            low  \n",
       "73065                             300 2nd Avenue            low  \n",
       "62409                             300 2nd Avenue            low  \n",
       "80360                         32 Garrison Street            low  \n",
       "85995                         30 Garrison Street            low  \n",
       "24747                      56 St. Botolph Street            low  \n",
       "872                           32 Garrison Street            low  \n",
       "4719                              1844 84 Street            low  \n",
       "81815                               7916 19 Road            low  \n",
       "18267                          250 1st Ave. Loop            low  \n",
       "16405                    Riverside Dr/ 90 Street         medium  \n",
       "78568                    400 E 66th St,New York             low  "
      ]
     },
     "execution_count": 26,
     "metadata": {},
     "output_type": "execute_result"
    }
   ],
   "source": [
    "outlier_lats = train_df[(train_df['latitude'] < 40.5) | (train_df['latitude'] > 42)| (train_df['longitude'] < -74.1) | (train_df['longitude'] > -73.7)]\n",
    "\n",
    "# outlier_lats\n",
    "outlier_lats.sort_values('latitude')"
   ]
  },
  {
   "cell_type": "code",
   "execution_count": 27,
   "metadata": {},
   "outputs": [
    {
     "name": "stdout",
     "output_type": "stream",
     "text": [
      "34.0126 -118.271\n"
     ]
    }
   ],
   "source": [
    "# Print coordinates (negative value for longtitude implies West)\n",
    "print(train_df[train_df.latitude == 34.0126]['latitude'].values[0], \n",
    "      train_df[train_df.latitude == 34.0126]['longitude'].values[0])"
   ]
  },
  {
   "cell_type": "markdown",
   "metadata": {},
   "source": [
    "For example, when this coordinate is searched on Google Maps, the result is a location in the city of Los Angeles, California. We decide to remove this value, because a single datapoint for Los Angeles will not help us make predictions for New York, along with other outliers."
   ]
  },
  {
   "cell_type": "code",
   "execution_count": 28,
   "metadata": {},
   "outputs": [],
   "source": [
    "# delete rows\n",
    "# train_df = train_df.drop([39798])\n",
    "train_df = train_df.drop(train_df[(train_df['latitude'] < 40.5)|(train_df['latitude'] > 42)|(train_df['longitude'] < -74.1) | (train_df['longitude'] > -73.7)].index)"
   ]
  },
  {
   "cell_type": "code",
   "execution_count": 29,
   "metadata": {},
   "outputs": [
    {
     "data": {
      "text/plain": [
       "0"
      ]
     },
     "execution_count": 29,
     "metadata": {},
     "output_type": "execute_result"
    }
   ],
   "source": [
    "# Confirm the rows were deleted\n",
    "# train_df[train_df.latitude == 34.0126].shape[0]\n",
    "outlier_lats = len(train_df[(train_df['latitude'] < 40.5)| (train_df['longitude'] < -74.1)])\n",
    "outlier_lats"
   ]
  },
  {
   "cell_type": "code",
   "execution_count": 30,
   "metadata": {
    "scrolled": true
   },
   "outputs": [
    {
     "data": {
      "text/plain": [
       "<matplotlib.axes._subplots.AxesSubplot at 0x140797898>"
      ]
     },
     "execution_count": 30,
     "metadata": {},
     "output_type": "execute_result"
    },
    {
     "data": {
      "image/png": "[encoded data removed]",
      "text/plain": [
       "<Figure size 432x288 with 1 Axes>"
      ]
     },
     "metadata": {
      "needs_background": "light"
     },
     "output_type": "display_data"
    }
   ],
   "source": [
    "train_df['latitude'].plot(kind='box')"
   ]
  },
  {
   "cell_type": "code",
   "execution_count": 31,
   "metadata": {},
   "outputs": [
    {
     "data": {
      "text/plain": [
       "<matplotlib.axes._subplots.AxesSubplot at 0x14081db70>"
      ]
     },
     "execution_count": 31,
     "metadata": {},
     "output_type": "execute_result"
    },
    {
     "data": {
      "image/png": "[encoded data removed]",
      "text/plain": [
       "<Figure size 432x288 with 1 Axes>"
      ]
     },
     "metadata": {
      "needs_background": "light"
     },
     "output_type": "display_data"
    }
   ],
   "source": [
    "train_df['longitude'].plot(kind='box')"
   ]
  },
  {
   "cell_type": "raw",
   "metadata": {},
   "source": [
    "As shown in the boxplots above, the distribution of the latitude and longitude values are more normal after removing the outliers."
   ]
  },
  {
   "cell_type": "markdown",
   "metadata": {},
   "source": [
    "## Bathrooms"
   ]
  },
  {
   "cell_type": "code",
   "execution_count": 32,
   "metadata": {
    "scrolled": true
   },
   "outputs": [
    {
     "data": {
      "text/html": [
       "<div>\n",
       "<style scoped>\n",
       "    .dataframe tbody tr th:only-of-type {\n",
       "        vertical-align: middle;\n",
       "    }\n",
       "\n",
       "    .dataframe tbody tr th {\n",
       "        vertical-align: top;\n",
       "    }\n",
       "\n",
       "    .dataframe thead th {\n",
       "        text-align: right;\n",
       "    }\n",
       "</style>\n",
       "<table border=\"1\" class=\"dataframe\">\n",
       "  <thead>\n",
       "    <tr style=\"text-align: right;\">\n",
       "      <th></th>\n",
       "      <th>bathrooms</th>\n",
       "    </tr>\n",
       "  </thead>\n",
       "  <tbody>\n",
       "    <tr>\n",
       "      <th>14242</th>\n",
       "      <td>0.0</td>\n",
       "    </tr>\n",
       "    <tr>\n",
       "      <th>85929</th>\n",
       "      <td>0.0</td>\n",
       "    </tr>\n",
       "    <tr>\n",
       "      <th>26433</th>\n",
       "      <td>0.0</td>\n",
       "    </tr>\n",
       "    <tr>\n",
       "      <th>8067</th>\n",
       "      <td>0.0</td>\n",
       "    </tr>\n",
       "    <tr>\n",
       "      <th>69229</th>\n",
       "      <td>0.0</td>\n",
       "    </tr>\n",
       "    <tr>\n",
       "      <th>...</th>\n",
       "      <td>...</td>\n",
       "    </tr>\n",
       "    <tr>\n",
       "      <th>79611</th>\n",
       "      <td>6.0</td>\n",
       "    </tr>\n",
       "    <tr>\n",
       "      <th>13701</th>\n",
       "      <td>6.0</td>\n",
       "    </tr>\n",
       "    <tr>\n",
       "      <th>91709</th>\n",
       "      <td>6.0</td>\n",
       "    </tr>\n",
       "    <tr>\n",
       "      <th>84566</th>\n",
       "      <td>7.0</td>\n",
       "    </tr>\n",
       "    <tr>\n",
       "      <th>104459</th>\n",
       "      <td>10.0</td>\n",
       "    </tr>\n",
       "  </tbody>\n",
       "</table>\n",
       "<p>49308 rows × 1 columns</p>\n",
       "</div>"
      ],
      "text/plain": [
       "        bathrooms\n",
       "14242         0.0\n",
       "85929         0.0\n",
       "26433         0.0\n",
       "8067          0.0\n",
       "69229         0.0\n",
       "...           ...\n",
       "79611         6.0\n",
       "13701         6.0\n",
       "91709         6.0\n",
       "84566         7.0\n",
       "104459       10.0\n",
       "\n",
       "[49308 rows x 1 columns]"
      ]
     },
     "execution_count": 32,
     "metadata": {},
     "output_type": "execute_result"
    }
   ],
   "source": [
    "baths = train_df[['bathrooms']]\n",
    "\n",
    "baths.sort_values('bathrooms')"
   ]
  },
  {
   "cell_type": "code",
   "execution_count": 33,
   "metadata": {},
   "outputs": [
    {
     "data": {
      "text/plain": [
       "<matplotlib.axes._subplots.AxesSubplot at 0x1408a5940>"
      ]
     },
     "execution_count": 33,
     "metadata": {},
     "output_type": "execute_result"
    },
    {
     "data": {
      "image/png": "[encoded data removed]",
      "text/plain": [
       "<Figure size 432x288 with 1 Axes>"
      ]
     },
     "metadata": {
      "needs_background": "light"
     },
     "output_type": "display_data"
    }
   ],
   "source": [
    "baths.plot(kind='box')"
   ]
  },
  {
   "cell_type": "markdown",
   "metadata": {},
   "source": [
    "It is slightly unusual that some bathroom values are 0. Since virtually all apartments have at least one bathroom, we must treat these as missing values.\n",
    "\n",
    "As for outliers, there appears to be at least one apartment with 10 bathrooms."
   ]
  },
  {
   "cell_type": "code",
   "execution_count": 34,
   "metadata": {},
   "outputs": [
    {
     "data": {
      "text/plain": [
       "312"
      ]
     },
     "execution_count": 34,
     "metadata": {},
     "output_type": "execute_result"
    }
   ],
   "source": [
    "missing_baths = len(train_df[(train_df['bathrooms'].isnull()) | (train_df['bathrooms']==0)])\n",
    "\n",
    "missing_baths"
   ]
  },
  {
   "cell_type": "code",
   "execution_count": 35,
   "metadata": {},
   "outputs": [],
   "source": [
    "missing_vals['bathrooms'] = missing_baths"
   ]
  },
  {
   "cell_type": "markdown",
   "metadata": {},
   "source": [
    "We decide to impute bathroom values of 0 to mode of bathroom, since mean and median may not be appropriate."
   ]
  },
  {
   "cell_type": "code",
   "execution_count": 36,
   "metadata": {},
   "outputs": [],
   "source": [
    "bath_mode = baths.mode().values[0][0]"
   ]
  },
  {
   "cell_type": "code",
   "execution_count": 37,
   "metadata": {},
   "outputs": [
    {
     "data": {
      "text/plain": [
       "1.0"
      ]
     },
     "execution_count": 37,
     "metadata": {},
     "output_type": "execute_result"
    }
   ],
   "source": [
    "bath_mode"
   ]
  },
  {
   "cell_type": "code",
   "execution_count": 38,
   "metadata": {},
   "outputs": [],
   "source": [
    "train_df.loc[train_df['bathrooms'] == 0, 'bathrooms'] = bath_mode"
   ]
  },
  {
   "cell_type": "code",
   "execution_count": 39,
   "metadata": {
    "scrolled": true
   },
   "outputs": [
    {
     "data": {
      "text/html": [
       "<div>\n",
       "<style scoped>\n",
       "    .dataframe tbody tr th:only-of-type {\n",
       "        vertical-align: middle;\n",
       "    }\n",
       "\n",
       "    .dataframe tbody tr th {\n",
       "        vertical-align: top;\n",
       "    }\n",
       "\n",
       "    .dataframe thead th {\n",
       "        text-align: right;\n",
       "    }\n",
       "</style>\n",
       "<table border=\"1\" class=\"dataframe\">\n",
       "  <thead>\n",
       "    <tr style=\"text-align: right;\">\n",
       "      <th></th>\n",
       "      <th>bathrooms</th>\n",
       "      <th>bedrooms</th>\n",
       "      <th>building_id</th>\n",
       "      <th>created</th>\n",
       "      <th>description</th>\n",
       "      <th>display_address</th>\n",
       "      <th>features</th>\n",
       "      <th>latitude</th>\n",
       "      <th>listing_id</th>\n",
       "      <th>longitude</th>\n",
       "      <th>manager_id</th>\n",
       "      <th>photos</th>\n",
       "      <th>price</th>\n",
       "      <th>street_address</th>\n",
       "      <th>interest_level</th>\n",
       "    </tr>\n",
       "  </thead>\n",
       "  <tbody>\n",
       "    <tr>\n",
       "      <th>4</th>\n",
       "      <td>1.0</td>\n",
       "      <td>1</td>\n",
       "      <td>8579a0b0d54db803821a35a4a615e97a</td>\n",
       "      <td>2016-06-16 05:55:27</td>\n",
       "      <td>Spacious 1 Bedroom 1 Bathroom in Williamsburg!...</td>\n",
       "      <td>145 Borinquen Place</td>\n",
       "      <td>[Dining Room, Pre-War, Laundry in Building, Di...</td>\n",
       "      <td>40.7108</td>\n",
       "      <td>7170325</td>\n",
       "      <td>-73.9539</td>\n",
       "      <td>a10db4590843d78c784171a107bdacb4</td>\n",
       "      <td>[https://photos.renthop.com/2/7170325_3bb5ac84...</td>\n",
       "      <td>2400</td>\n",
       "      <td>145 Borinquen Place</td>\n",
       "      <td>medium</td>\n",
       "    </tr>\n",
       "    <tr>\n",
       "      <th>78269</th>\n",
       "      <td>1.0</td>\n",
       "      <td>1</td>\n",
       "      <td>5c692011a98ea9075adc5e2cb4bc2553</td>\n",
       "      <td>2016-05-24 02:57:13</td>\n",
       "      <td>This prestigious large newly renovated sun dre...</td>\n",
       "      <td>West 114th Street</td>\n",
       "      <td>[Pre-War, No Fee]</td>\n",
       "      <td>40.8031</td>\n",
       "      <td>7058463</td>\n",
       "      <td>-73.9570</td>\n",
       "      <td>01157144534c928d731696e57ae4cd09</td>\n",
       "      <td>[https://photos.renthop.com/2/7058463_922fb857...</td>\n",
       "      <td>2500</td>\n",
       "      <td>302 West 114th Street</td>\n",
       "      <td>medium</td>\n",
       "    </tr>\n",
       "    <tr>\n",
       "      <th>78270</th>\n",
       "      <td>1.0</td>\n",
       "      <td>2</td>\n",
       "      <td>51ba2c2273e09893ad273c6ec11d0e8a</td>\n",
       "      <td>2016-05-06 02:19:37</td>\n",
       "      <td>2 Bd / 1 Ba - Brand new elevator/roof top caba...</td>\n",
       "      <td>North 4th Street</td>\n",
       "      <td>[Dogs Allowed, Cats Allowed]</td>\n",
       "      <td>40.7174</td>\n",
       "      <td>6972833</td>\n",
       "      <td>-73.9617</td>\n",
       "      <td>d647e87c11d60b7aab9bffadf3df5116</td>\n",
       "      <td>[https://photos.renthop.com/2/6972833_42d7caf7...</td>\n",
       "      <td>4450</td>\n",
       "      <td>76 North 4th Street</td>\n",
       "      <td>low</td>\n",
       "    </tr>\n",
       "    <tr>\n",
       "      <th>78274</th>\n",
       "      <td>1.0</td>\n",
       "      <td>0</td>\n",
       "      <td>7f2663e2c48d5ffa57276bf2186c4680</td>\n",
       "      <td>2016-05-22 04:57:40</td>\n",
       "      <td>** NO FEE **Gut renovated studio apartment wit...</td>\n",
       "      <td>East 76th Street</td>\n",
       "      <td>[Dishwasher, No Fee, Cats Allowed, Dogs Allowed]</td>\n",
       "      <td>40.7708</td>\n",
       "      <td>7053064</td>\n",
       "      <td>-73.9556</td>\n",
       "      <td>e2aa71ea7e46aa975a6cefa35f64d28b</td>\n",
       "      <td>[https://photos.renthop.com/2/7053064_5a9d16c5...</td>\n",
       "      <td>2400</td>\n",
       "      <td>342 East 76th Street</td>\n",
       "      <td>medium</td>\n",
       "    </tr>\n",
       "    <tr>\n",
       "      <th>78276</th>\n",
       "      <td>1.0</td>\n",
       "      <td>1</td>\n",
       "      <td>eca4875bbe5e838b7ec20d75d108806a</td>\n",
       "      <td>2016-05-19 02:14:46</td>\n",
       "      <td>Welcome to Clinton Hill Contact Me for More In...</td>\n",
       "      <td>154a Washington Ave</td>\n",
       "      <td>[Duplex, Common parking/Garage, Common roof de...</td>\n",
       "      <td>40.6940</td>\n",
       "      <td>7035769</td>\n",
       "      <td>-73.9672</td>\n",
       "      <td>6d9b4949574486ce2cba1ec127ec3459</td>\n",
       "      <td>[https://photos.renthop.com/2/7035769_a99d0468...</td>\n",
       "      <td>2200</td>\n",
       "      <td>154A Washington Ave</td>\n",
       "      <td>high</td>\n",
       "    </tr>\n",
       "    <tr>\n",
       "      <th>...</th>\n",
       "      <td>...</td>\n",
       "      <td>...</td>\n",
       "      <td>...</td>\n",
       "      <td>...</td>\n",
       "      <td>...</td>\n",
       "      <td>...</td>\n",
       "      <td>...</td>\n",
       "      <td>...</td>\n",
       "      <td>...</td>\n",
       "      <td>...</td>\n",
       "      <td>...</td>\n",
       "      <td>...</td>\n",
       "      <td>...</td>\n",
       "      <td>...</td>\n",
       "      <td>...</td>\n",
       "    </tr>\n",
       "    <tr>\n",
       "      <th>30788</th>\n",
       "      <td>6.0</td>\n",
       "      <td>5</td>\n",
       "      <td>1c2f695696013f4068f89619d06b174f</td>\n",
       "      <td>2016-06-01 02:14:51</td>\n",
       "      <td>&lt;BR&gt;Home in the sky. One-of-a-kind, 5 Bedrooms...</td>\n",
       "      <td>East 60th Street</td>\n",
       "      <td>[Doorman, Elevator, Laundry in Unit, Dogs Allo...</td>\n",
       "      <td>40.7603</td>\n",
       "      <td>7088146</td>\n",
       "      <td>-73.9610</td>\n",
       "      <td>161a1a797a1e57f6ba979447a0eadf94</td>\n",
       "      <td>[https://photos.renthop.com/2/7088146_9c0380cd...</td>\n",
       "      <td>28000</td>\n",
       "      <td>401 East 60th Street</td>\n",
       "      <td>low</td>\n",
       "    </tr>\n",
       "    <tr>\n",
       "      <th>91709</th>\n",
       "      <td>6.0</td>\n",
       "      <td>6</td>\n",
       "      <td>d20bce0bc08b2731f726067a1e501162</td>\n",
       "      <td>2016-04-16 02:22:15</td>\n",
       "      <td>MANSION IN THE SKY!!! This six-bedroom full-fl...</td>\n",
       "      <td>230 West 56th Street</td>\n",
       "      <td>[Doorman, Elevator, Furnished, Laundry in Unit...</td>\n",
       "      <td>40.7654</td>\n",
       "      <td>6881666</td>\n",
       "      <td>-73.9822</td>\n",
       "      <td>37ffeac28297e956deecd7b31940c6e7</td>\n",
       "      <td>[https://photos.renthop.com/2/6881666_bedcd181...</td>\n",
       "      <td>100000</td>\n",
       "      <td>230 West 56th Street</td>\n",
       "      <td>low</td>\n",
       "    </tr>\n",
       "    <tr>\n",
       "      <th>79611</th>\n",
       "      <td>6.0</td>\n",
       "      <td>5</td>\n",
       "      <td>1c2f695696013f4068f89619d06b174f</td>\n",
       "      <td>2016-05-02 02:12:06</td>\n",
       "      <td>&lt;BR&gt;Home in the sky. One-of-a-kind, 5 Bedrooms...</td>\n",
       "      <td>East 60th Street</td>\n",
       "      <td>[Doorman, Elevator, Laundry in Unit, Dogs Allo...</td>\n",
       "      <td>40.7603</td>\n",
       "      <td>6952330</td>\n",
       "      <td>-73.9610</td>\n",
       "      <td>c8e5586edfdb8fd3cdc6f9c3a9bf4678</td>\n",
       "      <td>[https://photos.renthop.com/2/6952330_ca372c6f...</td>\n",
       "      <td>28000</td>\n",
       "      <td>401 East 60th Street</td>\n",
       "      <td>low</td>\n",
       "    </tr>\n",
       "    <tr>\n",
       "      <th>84566</th>\n",
       "      <td>7.0</td>\n",
       "      <td>5</td>\n",
       "      <td>0</td>\n",
       "      <td>2016-04-07 17:06:29</td>\n",
       "      <td>Extraordinary in every way. This single family...</td>\n",
       "      <td>West 9th St- High Class Townhome</td>\n",
       "      <td>[]</td>\n",
       "      <td>40.7335</td>\n",
       "      <td>6840943</td>\n",
       "      <td>-73.9974</td>\n",
       "      <td>e6472c7237327dd3903b3d6f6a94515a</td>\n",
       "      <td>[https://photos.renthop.com/2/6840943_7f4b82cf...</td>\n",
       "      <td>60000</td>\n",
       "      <td>47th West 9th St</td>\n",
       "      <td>low</td>\n",
       "    </tr>\n",
       "    <tr>\n",
       "      <th>104459</th>\n",
       "      <td>10.0</td>\n",
       "      <td>2</td>\n",
       "      <td>424f8014bddc288d26da5fe81d0bea02</td>\n",
       "      <td>2016-04-09 04:34:31</td>\n",
       "      <td>***The building?s well-attended lobby welcomes...</td>\n",
       "      <td>W 52 St.</td>\n",
       "      <td>[Doorman, Elevator, Fitness Center, Laundry in...</td>\n",
       "      <td>40.7633</td>\n",
       "      <td>6849204</td>\n",
       "      <td>-73.9849</td>\n",
       "      <td>0c71a59cb70215fbf49c9dd93efaa172</td>\n",
       "      <td>[https://photos.renthop.com/2/6849204_1f92b58a...</td>\n",
       "      <td>3600</td>\n",
       "      <td>260 W 52 St.</td>\n",
       "      <td>low</td>\n",
       "    </tr>\n",
       "  </tbody>\n",
       "</table>\n",
       "<p>49308 rows × 15 columns</p>\n",
       "</div>"
      ],
      "text/plain": [
       "        bathrooms  bedrooms                       building_id  \\\n",
       "4             1.0         1  8579a0b0d54db803821a35a4a615e97a   \n",
       "78269         1.0         1  5c692011a98ea9075adc5e2cb4bc2553   \n",
       "78270         1.0         2  51ba2c2273e09893ad273c6ec11d0e8a   \n",
       "78274         1.0         0  7f2663e2c48d5ffa57276bf2186c4680   \n",
       "78276         1.0         1  eca4875bbe5e838b7ec20d75d108806a   \n",
       "...           ...       ...                               ...   \n",
       "30788         6.0         5  1c2f695696013f4068f89619d06b174f   \n",
       "91709         6.0         6  d20bce0bc08b2731f726067a1e501162   \n",
       "79611         6.0         5  1c2f695696013f4068f89619d06b174f   \n",
       "84566         7.0         5                                 0   \n",
       "104459       10.0         2  424f8014bddc288d26da5fe81d0bea02   \n",
       "\n",
       "                    created  \\\n",
       "4       2016-06-16 05:55:27   \n",
       "78269   2016-05-24 02:57:13   \n",
       "78270   2016-05-06 02:19:37   \n",
       "78274   2016-05-22 04:57:40   \n",
       "78276   2016-05-19 02:14:46   \n",
       "...                     ...   \n",
       "30788   2016-06-01 02:14:51   \n",
       "91709   2016-04-16 02:22:15   \n",
       "79611   2016-05-02 02:12:06   \n",
       "84566   2016-04-07 17:06:29   \n",
       "104459  2016-04-09 04:34:31   \n",
       "\n",
       "                                              description  \\\n",
       "4       Spacious 1 Bedroom 1 Bathroom in Williamsburg!...   \n",
       "78269   This prestigious large newly renovated sun dre...   \n",
       "78270   2 Bd / 1 Ba - Brand new elevator/roof top caba...   \n",
       "78274   ** NO FEE **Gut renovated studio apartment wit...   \n",
       "78276   Welcome to Clinton Hill Contact Me for More In...   \n",
       "...                                                   ...   \n",
       "30788   <BR>Home in the sky. One-of-a-kind, 5 Bedrooms...   \n",
       "91709   MANSION IN THE SKY!!! This six-bedroom full-fl...   \n",
       "79611   <BR>Home in the sky. One-of-a-kind, 5 Bedrooms...   \n",
       "84566   Extraordinary in every way. This single family...   \n",
       "104459  ***The building?s well-attended lobby welcomes...   \n",
       "\n",
       "                         display_address  \\\n",
       "4                    145 Borinquen Place   \n",
       "78269                  West 114th Street   \n",
       "78270                   North 4th Street   \n",
       "78274                   East 76th Street   \n",
       "78276                154a Washington Ave   \n",
       "...                                  ...   \n",
       "30788                   East 60th Street   \n",
       "91709               230 West 56th Street   \n",
       "79611                   East 60th Street   \n",
       "84566   West 9th St- High Class Townhome   \n",
       "104459                          W 52 St.   \n",
       "\n",
       "                                                 features  latitude  \\\n",
       "4       [Dining Room, Pre-War, Laundry in Building, Di...   40.7108   \n",
       "78269                                   [Pre-War, No Fee]   40.8031   \n",
       "78270                        [Dogs Allowed, Cats Allowed]   40.7174   \n",
       "78274    [Dishwasher, No Fee, Cats Allowed, Dogs Allowed]   40.7708   \n",
       "78276   [Duplex, Common parking/Garage, Common roof de...   40.6940   \n",
       "...                                                   ...       ...   \n",
       "30788   [Doorman, Elevator, Laundry in Unit, Dogs Allo...   40.7603   \n",
       "91709   [Doorman, Elevator, Furnished, Laundry in Unit...   40.7654   \n",
       "79611   [Doorman, Elevator, Laundry in Unit, Dogs Allo...   40.7603   \n",
       "84566                                                  []   40.7335   \n",
       "104459  [Doorman, Elevator, Fitness Center, Laundry in...   40.7633   \n",
       "\n",
       "        listing_id  longitude                        manager_id  \\\n",
       "4          7170325   -73.9539  a10db4590843d78c784171a107bdacb4   \n",
       "78269      7058463   -73.9570  01157144534c928d731696e57ae4cd09   \n",
       "78270      6972833   -73.9617  d647e87c11d60b7aab9bffadf3df5116   \n",
       "78274      7053064   -73.9556  e2aa71ea7e46aa975a6cefa35f64d28b   \n",
       "78276      7035769   -73.9672  6d9b4949574486ce2cba1ec127ec3459   \n",
       "...            ...        ...                               ...   \n",
       "30788      7088146   -73.9610  161a1a797a1e57f6ba979447a0eadf94   \n",
       "91709      6881666   -73.9822  37ffeac28297e956deecd7b31940c6e7   \n",
       "79611      6952330   -73.9610  c8e5586edfdb8fd3cdc6f9c3a9bf4678   \n",
       "84566      6840943   -73.9974  e6472c7237327dd3903b3d6f6a94515a   \n",
       "104459     6849204   -73.9849  0c71a59cb70215fbf49c9dd93efaa172   \n",
       "\n",
       "                                                   photos   price  \\\n",
       "4       [https://photos.renthop.com/2/7170325_3bb5ac84...    2400   \n",
       "78269   [https://photos.renthop.com/2/7058463_922fb857...    2500   \n",
       "78270   [https://photos.renthop.com/2/6972833_42d7caf7...    4450   \n",
       "78274   [https://photos.renthop.com/2/7053064_5a9d16c5...    2400   \n",
       "78276   [https://photos.renthop.com/2/7035769_a99d0468...    2200   \n",
       "...                                                   ...     ...   \n",
       "30788   [https://photos.renthop.com/2/7088146_9c0380cd...   28000   \n",
       "91709   [https://photos.renthop.com/2/6881666_bedcd181...  100000   \n",
       "79611   [https://photos.renthop.com/2/6952330_ca372c6f...   28000   \n",
       "84566   [https://photos.renthop.com/2/6840943_7f4b82cf...   60000   \n",
       "104459  [https://photos.renthop.com/2/6849204_1f92b58a...    3600   \n",
       "\n",
       "               street_address interest_level  \n",
       "4         145 Borinquen Place         medium  \n",
       "78269   302 West 114th Street         medium  \n",
       "78270     76 North 4th Street            low  \n",
       "78274    342 East 76th Street         medium  \n",
       "78276     154A Washington Ave           high  \n",
       "...                       ...            ...  \n",
       "30788    401 East 60th Street            low  \n",
       "91709    230 West 56th Street            low  \n",
       "79611    401 East 60th Street            low  \n",
       "84566        47th West 9th St            low  \n",
       "104459           260 W 52 St.            low  \n",
       "\n",
       "[49308 rows x 15 columns]"
      ]
     },
     "execution_count": 39,
     "metadata": {},
     "output_type": "execute_result"
    }
   ],
   "source": [
    "train_df.sort_values(by='bathrooms')"
   ]
  },
  {
   "cell_type": "markdown",
   "metadata": {},
   "source": [
    "We look into more detail the apartment with 10 bathrooms."
   ]
  },
  {
   "cell_type": "code",
   "execution_count": 40,
   "metadata": {},
   "outputs": [
    {
     "data": {
      "text/html": [
       "<div>\n",
       "<style scoped>\n",
       "    .dataframe tbody tr th:only-of-type {\n",
       "        vertical-align: middle;\n",
       "    }\n",
       "\n",
       "    .dataframe tbody tr th {\n",
       "        vertical-align: top;\n",
       "    }\n",
       "\n",
       "    .dataframe thead th {\n",
       "        text-align: right;\n",
       "    }\n",
       "</style>\n",
       "<table border=\"1\" class=\"dataframe\">\n",
       "  <thead>\n",
       "    <tr style=\"text-align: right;\">\n",
       "      <th></th>\n",
       "      <th>bathrooms</th>\n",
       "      <th>bedrooms</th>\n",
       "      <th>building_id</th>\n",
       "      <th>created</th>\n",
       "      <th>description</th>\n",
       "      <th>display_address</th>\n",
       "      <th>features</th>\n",
       "      <th>latitude</th>\n",
       "      <th>listing_id</th>\n",
       "      <th>longitude</th>\n",
       "      <th>manager_id</th>\n",
       "      <th>photos</th>\n",
       "      <th>price</th>\n",
       "      <th>street_address</th>\n",
       "      <th>interest_level</th>\n",
       "    </tr>\n",
       "  </thead>\n",
       "  <tbody>\n",
       "    <tr>\n",
       "      <th>104459</th>\n",
       "      <td>10.0</td>\n",
       "      <td>2</td>\n",
       "      <td>424f8014bddc288d26da5fe81d0bea02</td>\n",
       "      <td>2016-04-09 04:34:31</td>\n",
       "      <td>***The building?s well-attended lobby welcomes...</td>\n",
       "      <td>W 52 St.</td>\n",
       "      <td>[Doorman, Elevator, Fitness Center, Laundry in...</td>\n",
       "      <td>40.7633</td>\n",
       "      <td>6849204</td>\n",
       "      <td>-73.9849</td>\n",
       "      <td>0c71a59cb70215fbf49c9dd93efaa172</td>\n",
       "      <td>[https://photos.renthop.com/2/6849204_1f92b58a...</td>\n",
       "      <td>3600</td>\n",
       "      <td>260 W 52 St.</td>\n",
       "      <td>low</td>\n",
       "    </tr>\n",
       "  </tbody>\n",
       "</table>\n",
       "</div>"
      ],
      "text/plain": [
       "        bathrooms  bedrooms                       building_id  \\\n",
       "104459       10.0         2  424f8014bddc288d26da5fe81d0bea02   \n",
       "\n",
       "                    created  \\\n",
       "104459  2016-04-09 04:34:31   \n",
       "\n",
       "                                              description display_address  \\\n",
       "104459  ***The building?s well-attended lobby welcomes...        W 52 St.   \n",
       "\n",
       "                                                 features  latitude  \\\n",
       "104459  [Doorman, Elevator, Fitness Center, Laundry in...   40.7633   \n",
       "\n",
       "        listing_id  longitude                        manager_id  \\\n",
       "104459     6849204   -73.9849  0c71a59cb70215fbf49c9dd93efaa172   \n",
       "\n",
       "                                                   photos  price  \\\n",
       "104459  [https://photos.renthop.com/2/6849204_1f92b58a...   3600   \n",
       "\n",
       "       street_address interest_level  \n",
       "104459   260 W 52 St.            low  "
      ]
     },
     "execution_count": 40,
     "metadata": {},
     "output_type": "execute_result"
    }
   ],
   "source": [
    "train_df[train_df['bathrooms'] >= 10]"
   ]
  },
  {
   "cell_type": "code",
   "execution_count": 41,
   "metadata": {},
   "outputs": [
    {
     "data": {
      "text/plain": [
       "'***The building?s well-attended lobby welcomes the residents with its 24-hour doorman and concierge service as well as a fitness center, private storage rooms, bicycle storage, sauna and a laundry area on every floor. Many units have been completely renovated with beautiful new finishes, stone countertops and GE stainless steel appliances. Enjoy the Broadway theater district, Times Square, Central Park and exceptional dining and shopping<br /><br />***HUGE AS BIG AS A FOOT BALL FIELD AND FEATURES HIGH CEILING ,BRAND NEW KITCHEN ,MARBLE BATHROOM, TONS OF CLOSET SPACE ,UNOBSTRUCTED CITY VIEWS AND A TON OF LIGHT DUE TO ITS EXPOSURE AND HIGH FLOOR<br /><br />***TO SET UP TIME AND LOCATION CONTACT RUBENS 039-610-8860<br /><br /><p><a  website_redacted '"
      ]
     },
     "execution_count": 41,
     "metadata": {},
     "output_type": "execute_result"
    }
   ],
   "source": [
    "train_df[train_df['bathrooms'] >= 10]['description'].iloc[0]"
   ]
  },
  {
   "cell_type": "markdown",
   "metadata": {},
   "source": [
    "In the description a **MARBLE BATHROOM** is described. Based on this description, it's very likely that 10.0 was just a typo for 1.0. Thus, we replace this value to the more likely value of 1."
   ]
  },
  {
   "cell_type": "code",
   "execution_count": 42,
   "metadata": {},
   "outputs": [],
   "source": [
    "train_df.loc[104459, 'bathrooms'] = 1.0"
   ]
  },
  {
   "cell_type": "markdown",
   "metadata": {},
   "source": [
    "Thus, the bathroom value of 10.0 was not an actual outlier but merely a typo. Therefore, we set the outlier count to 0."
   ]
  },
  {
   "cell_type": "code",
   "execution_count": 43,
   "metadata": {},
   "outputs": [],
   "source": [
    "outlier_count['bathrooms'] = 0"
   ]
  },
  {
   "cell_type": "markdown",
   "metadata": {},
   "source": [
    "## Bedrooms"
   ]
  },
  {
   "cell_type": "markdown",
   "metadata": {},
   "source": [
    "Unlike bathrooms, it is perfectly normal for apartments to have zero bedrooms, especially studios. Thus we will not treat values of 0 as 'missing'."
   ]
  },
  {
   "cell_type": "code",
   "execution_count": 44,
   "metadata": {},
   "outputs": [
    {
     "data": {
      "text/plain": [
       "<matplotlib.axes._subplots.AxesSubplot at 0x1408a25c0>"
      ]
     },
     "execution_count": 44,
     "metadata": {},
     "output_type": "execute_result"
    },
    {
     "data": {
      "image/png": "[encoded data removed]",
      "text/plain": [
       "<Figure size 432x288 with 1 Axes>"
      ]
     },
     "metadata": {
      "needs_background": "light"
     },
     "output_type": "display_data"
    }
   ],
   "source": [
    "beds = train_df['bedrooms']\n",
    "beds.plot(kind='box')"
   ]
  },
  {
   "cell_type": "code",
   "execution_count": 45,
   "metadata": {},
   "outputs": [
    {
     "data": {
      "text/plain": [
       "0"
      ]
     },
     "execution_count": 45,
     "metadata": {},
     "output_type": "execute_result"
    }
   ],
   "source": [
    "missing_beds = len(train_df[(train_df['bedrooms'].isnull())])\n",
    "\n",
    "missing_beds"
   ]
  },
  {
   "cell_type": "code",
   "execution_count": 46,
   "metadata": {},
   "outputs": [],
   "source": [
    "missing_vals['bedrooms'] = missing_beds"
   ]
  },
  {
   "cell_type": "markdown",
   "metadata": {},
   "source": [
    "There doesn't appear to be any outliers in the number of bedrooms."
   ]
  },
  {
   "cell_type": "code",
   "execution_count": 47,
   "metadata": {},
   "outputs": [],
   "source": [
    "outlier_count['bedrooms'] = 0"
   ]
  },
  {
   "cell_type": "markdown",
   "metadata": {},
   "source": [
    "## Features"
   ]
  },
  {
   "cell_type": "code",
   "execution_count": 48,
   "metadata": {},
   "outputs": [
    {
     "data": {
      "text/plain": [
       "4     [Dining Room, Pre-War, Laundry in Building, Di...\n",
       "6     [Doorman, Elevator, Laundry in Building, Dishw...\n",
       "9     [Doorman, Elevator, Laundry in Building, Laund...\n",
       "10                                                   []\n",
       "15    [Doorman, Elevator, Fitness Center, Laundry in...\n",
       "Name: features, dtype: object"
      ]
     },
     "execution_count": 48,
     "metadata": {},
     "output_type": "execute_result"
    }
   ],
   "source": [
    "train_df['features'].head()"
   ]
  },
  {
   "cell_type": "code",
   "execution_count": 49,
   "metadata": {},
   "outputs": [
    {
     "data": {
      "text/plain": [
       "3212"
      ]
     },
     "execution_count": 49,
     "metadata": {},
     "output_type": "execute_result"
    }
   ],
   "source": [
    "missing_features = len(train_df[train_df['features'].map(lambda d: len(d)) == 0])\n",
    "\n",
    "missing_features"
   ]
  },
  {
   "cell_type": "code",
   "execution_count": 50,
   "metadata": {},
   "outputs": [],
   "source": [
    "missing_vals['features'] = missing_features"
   ]
  },
  {
   "cell_type": "code",
   "execution_count": 51,
   "metadata": {},
   "outputs": [
    {
     "data": {
      "text/plain": [
       "<matplotlib.axes._subplots.AxesSubplot at 0x14090a5c0>"
      ]
     },
     "execution_count": 51,
     "metadata": {},
     "output_type": "execute_result"
    },
    {
     "data": {
      "image/png": "[encoded data removed]",
      "text/plain": [
       "<Figure size 432x288 with 1 Axes>"
      ]
     },
     "metadata": {
      "needs_background": "light"
     },
     "output_type": "display_data"
    }
   ],
   "source": [
    "feature_dist = train_df['features'].map(lambda d: len(d))\n",
    "feature_dist.plot(kind='box')"
   ]
  },
  {
   "cell_type": "markdown",
   "metadata": {},
   "source": [
    "Based on the boxplot, it does not look like any listing in particular has an unusually large quantity of feature."
   ]
  },
  {
   "cell_type": "code",
   "execution_count": 52,
   "metadata": {},
   "outputs": [],
   "source": [
    "outlier_count['features'] = 0"
   ]
  },
  {
   "cell_type": "markdown",
   "metadata": {},
   "source": [
    "## Description"
   ]
  },
  {
   "cell_type": "code",
   "execution_count": 53,
   "metadata": {},
   "outputs": [
    {
     "data": {
      "text/plain": [
       "1445"
      ]
     },
     "execution_count": 53,
     "metadata": {},
     "output_type": "execute_result"
    }
   ],
   "source": [
    "missing_description = len(train_df[train_df['description'].map(lambda d: len(d)) == 0])\n",
    "\n",
    "missing_description"
   ]
  },
  {
   "cell_type": "code",
   "execution_count": 54,
   "metadata": {},
   "outputs": [],
   "source": [
    "missing_vals['description'] = missing_description"
   ]
  },
  {
   "cell_type": "code",
   "execution_count": 55,
   "metadata": {},
   "outputs": [],
   "source": [
    "outlier_count['description'] = 0"
   ]
  },
  {
   "cell_type": "markdown",
   "metadata": {},
   "source": [
    "## Display Address"
   ]
  },
  {
   "cell_type": "code",
   "execution_count": 56,
   "metadata": {
    "scrolled": true
   },
   "outputs": [
    {
     "data": {
      "text/plain": [
       "135"
      ]
     },
     "execution_count": 56,
     "metadata": {},
     "output_type": "execute_result"
    }
   ],
   "source": [
    "missing_address = len(train_df[train_df['display_address'].map(lambda d: len(d)) == 0])\n",
    "\n",
    "missing_address"
   ]
  },
  {
   "cell_type": "code",
   "execution_count": 57,
   "metadata": {},
   "outputs": [],
   "source": [
    "missing_vals['display_address'] = missing_address"
   ]
  },
  {
   "cell_type": "code",
   "execution_count": 58,
   "metadata": {},
   "outputs": [],
   "source": [
    "outlier_count['display_address'] = 0"
   ]
  },
  {
   "cell_type": "markdown",
   "metadata": {},
   "source": [
    "## Street address"
   ]
  },
  {
   "cell_type": "markdown",
   "metadata": {},
   "source": [
    "Street addresses are strings, so we count the number of empty strings."
   ]
  },
  {
   "cell_type": "code",
   "execution_count": 59,
   "metadata": {},
   "outputs": [
    {
     "data": {
      "text/plain": [
       "10"
      ]
     },
     "execution_count": 59,
     "metadata": {},
     "output_type": "execute_result"
    }
   ],
   "source": [
    "missing_stAddress = len(train_df[train_df['street_address'].map(lambda d: len(d)) == 0])\n",
    "\n",
    "missing_stAddress"
   ]
  },
  {
   "cell_type": "code",
   "execution_count": 60,
   "metadata": {},
   "outputs": [],
   "source": [
    "missing_vals['street_address'] = missing_stAddress"
   ]
  },
  {
   "cell_type": "markdown",
   "metadata": {},
   "source": [
    "Note: we do not consider any of the non-missing addresses as possible outliers, as latitude/longitude already define the precise location of the apartment."
   ]
  },
  {
   "cell_type": "code",
   "execution_count": 61,
   "metadata": {},
   "outputs": [],
   "source": [
    "outlier_count['street_address'] = 0"
   ]
  },
  {
   "cell_type": "markdown",
   "metadata": {},
   "source": [
    "## Photos"
   ]
  },
  {
   "cell_type": "markdown",
   "metadata": {},
   "source": [
    "Let's take a look at the 'Photos' attribute."
   ]
  },
  {
   "cell_type": "code",
   "execution_count": 62,
   "metadata": {},
   "outputs": [
    {
     "data": {
      "text/plain": [
       "4     [https://photos.renthop.com/2/7170325_3bb5ac84...\n",
       "6     [https://photos.renthop.com/2/7092344_7663c19a...\n",
       "9     [https://photos.renthop.com/2/7158677_c897a134...\n",
       "10    [https://photos.renthop.com/2/7211212_1ed4542e...\n",
       "15    [https://photos.renthop.com/2/7225292_901f1984...\n",
       "Name: photos, dtype: object"
      ]
     },
     "execution_count": 62,
     "metadata": {},
     "output_type": "execute_result"
    }
   ],
   "source": [
    "train_df['photos'].head()"
   ]
  },
  {
   "cell_type": "code",
   "execution_count": 63,
   "metadata": {},
   "outputs": [
    {
     "data": {
      "text/plain": [
       "['https://photos.renthop.com/2/7170325_3bb5ac84a5a10227b17b273e79bd77b4.jpg',\n",
       " 'https://photos.renthop.com/2/7170325_a29a17a771ee6af213966699b05c8ea2.jpg',\n",
       " 'https://photos.renthop.com/2/7170325_149a898e8760cac1cad56e30cfe98baa.jpg',\n",
       " 'https://photos.renthop.com/2/7170325_f74a43d781bcc3c5588e61dd47de81ba.jpg',\n",
       " 'https://photos.renthop.com/2/7170325_e677d9d249ac99abe01aa5454c6e9f59.jpg',\n",
       " 'https://photos.renthop.com/2/7170325_960ea0e180bf2f15467b68b455db6172.jpg',\n",
       " 'https://photos.renthop.com/2/7170325_cbc1b8437155dbf7f5d63b3a0b5a45a3.jpg',\n",
       " 'https://photos.renthop.com/2/7170325_9a9f2adc2ce922e1d5394727efdf64bb.jpg',\n",
       " 'https://photos.renthop.com/2/7170325_aae2a39d536103eebb282775fab1c315.jpg',\n",
       " 'https://photos.renthop.com/2/7170325_cd290d0051b9f08e3482195dcbf6b5a6.jpg',\n",
       " 'https://photos.renthop.com/2/7170325_a2b599da7880eea1edd10c4b04250dc1.jpg',\n",
       " 'https://photos.renthop.com/2/7170325_6b83fa82d662bcb09733ac3a8a107113.jpg']"
      ]
     },
     "execution_count": 63,
     "metadata": {},
     "output_type": "execute_result"
    }
   ],
   "source": [
    "train_df['photos'].iloc[0]"
   ]
  },
  {
   "cell_type": "markdown",
   "metadata": {},
   "source": [
    "Each value is an array of photo URLs. Missing values would therefore then be empty arrays."
   ]
  },
  {
   "cell_type": "code",
   "execution_count": 64,
   "metadata": {},
   "outputs": [
    {
     "data": {
      "text/plain": [
       "3613"
      ]
     },
     "execution_count": 64,
     "metadata": {},
     "output_type": "execute_result"
    }
   ],
   "source": [
    "missing_photos= len(train_df[train_df['photos'].map(lambda d: len(d)) == 0])\n",
    "\n",
    "missing_photos"
   ]
  },
  {
   "cell_type": "code",
   "execution_count": 65,
   "metadata": {},
   "outputs": [],
   "source": [
    "missing_vals['photos'] = missing_photos"
   ]
  },
  {
   "cell_type": "code",
   "execution_count": 66,
   "metadata": {},
   "outputs": [],
   "source": [
    "photo_count = train_df['photos'].map(lambda d: len(d))"
   ]
  },
  {
   "cell_type": "code",
   "execution_count": 67,
   "metadata": {},
   "outputs": [
    {
     "data": {
      "text/plain": [
       "<matplotlib.axes._subplots.AxesSubplot at 0x1409e19e8>"
      ]
     },
     "execution_count": 67,
     "metadata": {},
     "output_type": "execute_result"
    },
    {
     "data": {
      "image/png": "[encoded data removed]",
      "text/plain": [
       "<Figure size 432x288 with 1 Axes>"
      ]
     },
     "metadata": {
      "needs_background": "light"
     },
     "output_type": "display_data"
    }
   ],
   "source": [
    "photo_count.plot(kind='box')"
   ]
  },
  {
   "cell_type": "markdown",
   "metadata": {},
   "source": [
    "There are some listing that are well beyond 50. We will define those to be the outliers."
   ]
  },
  {
   "cell_type": "code",
   "execution_count": 68,
   "metadata": {},
   "outputs": [
    {
     "data": {
      "text/plain": [
       "2"
      ]
     },
     "execution_count": 68,
     "metadata": {},
     "output_type": "execute_result"
    }
   ],
   "source": [
    "outlier_count['photos'] = len(photo_count[photo_count > 50])\n",
    "\n",
    "outlier_count['photos']"
   ]
  },
  {
   "cell_type": "markdown",
   "metadata": {},
   "source": [
    "## Building Id"
   ]
  },
  {
   "cell_type": "markdown",
   "metadata": {},
   "source": [
    "Let's look at building id and see what kind of data type it is."
   ]
  },
  {
   "cell_type": "code",
   "execution_count": 69,
   "metadata": {},
   "outputs": [
    {
     "data": {
      "text/plain": [
       "4     8579a0b0d54db803821a35a4a615e97a\n",
       "6     b8e75fc949a6cd8225b455648a951712\n",
       "9     cd759a988b8f23924b5a2058d5ab2b49\n",
       "10    53a5b119ba8f7b61d4e010512e0dfc85\n",
       "15    bfb9405149bfff42a92980b594c28234\n",
       "Name: building_id, dtype: object"
      ]
     },
     "execution_count": 69,
     "metadata": {},
     "output_type": "execute_result"
    }
   ],
   "source": [
    "train_df['building_id'].head()"
   ]
  },
  {
   "cell_type": "code",
   "execution_count": 70,
   "metadata": {},
   "outputs": [
    {
     "data": {
      "text/plain": [
       "'8579a0b0d54db803821a35a4a615e97a'"
      ]
     },
     "execution_count": 70,
     "metadata": {},
     "output_type": "execute_result"
    }
   ],
   "source": [
    "train_df['building_id'].iloc[0]"
   ]
  },
  {
   "cell_type": "markdown",
   "metadata": {},
   "source": [
    "Each id is an alphanumeric string. It appears that the id's are same length. Perhaps missing values are the empty string, or the string '0'."
   ]
  },
  {
   "cell_type": "code",
   "execution_count": 71,
   "metadata": {},
   "outputs": [],
   "source": [
    "building_id_len = len('8579a0b0d54db803821a35a4a615e97a')\n",
    "missing_buildingid_df = train_df[train_df['building_id'].str.len() < building_id_len]['building_id']"
   ]
  },
  {
   "cell_type": "code",
   "execution_count": 72,
   "metadata": {},
   "outputs": [
    {
     "data": {
      "text/plain": [
       "61        0\n",
       "82        0\n",
       "106       0\n",
       "117       0\n",
       "139       0\n",
       "         ..\n",
       "123982    0\n",
       "123985    0\n",
       "123986    0\n",
       "123995    0\n",
       "123998    0\n",
       "Name: building_id, Length: 8283, dtype: object"
      ]
     },
     "execution_count": 72,
     "metadata": {},
     "output_type": "execute_result"
    }
   ],
   "source": [
    "missing_buildingid_df"
   ]
  },
  {
   "cell_type": "markdown",
   "metadata": {},
   "source": [
    "We observe that the missing values are represented as the zero string, aka \"0\". Now we take the final count."
   ]
  },
  {
   "cell_type": "code",
   "execution_count": 73,
   "metadata": {
    "scrolled": true
   },
   "outputs": [
    {
     "data": {
      "text/plain": [
       "8283"
      ]
     },
     "execution_count": 73,
     "metadata": {},
     "output_type": "execute_result"
    }
   ],
   "source": [
    "missing_buildid= len(missing_buildingid_df)\n",
    "\n",
    "missing_buildid"
   ]
  },
  {
   "cell_type": "code",
   "execution_count": 74,
   "metadata": {},
   "outputs": [],
   "source": [
    "missing_vals['building_id'] = missing_buildid"
   ]
  },
  {
   "cell_type": "markdown",
   "metadata": {},
   "source": [
    "Note: outliers are not applicable for building ID as building ID is simply a unique identifier."
   ]
  },
  {
   "cell_type": "code",
   "execution_count": 75,
   "metadata": {},
   "outputs": [],
   "source": [
    "outlier_count['building_id'] = 0"
   ]
  },
  {
   "cell_type": "markdown",
   "metadata": {},
   "source": [
    "## Manager ID"
   ]
  },
  {
   "cell_type": "code",
   "execution_count": 76,
   "metadata": {},
   "outputs": [
    {
     "data": {
      "text/plain": [
       "4     a10db4590843d78c784171a107bdacb4\n",
       "6     955db33477af4f40004820b4aed804a0\n",
       "9     c8b10a317b766204f08e613cef4ce7a0\n",
       "10    5ba989232d0489da1b5f2c45f6688adc\n",
       "15    2c3b41f588fbb5234d8a1e885a436cfa\n",
       "Name: manager_id, dtype: object"
      ]
     },
     "execution_count": 76,
     "metadata": {},
     "output_type": "execute_result"
    }
   ],
   "source": [
    "train_df['manager_id'].head()"
   ]
  },
  {
   "cell_type": "markdown",
   "metadata": {},
   "source": [
    "We shall assume that manager ID follows the same format as building ID, and that missing manager IDs will be represented as the '0' string."
   ]
  },
  {
   "cell_type": "code",
   "execution_count": 77,
   "metadata": {},
   "outputs": [
    {
     "data": {
      "text/plain": [
       "0"
      ]
     },
     "execution_count": 77,
     "metadata": {},
     "output_type": "execute_result"
    }
   ],
   "source": [
    "missing_managerid = len(train_df[train_df['manager_id'] == '0'])\n",
    "missing_managerid"
   ]
  },
  {
   "cell_type": "code",
   "execution_count": 78,
   "metadata": {},
   "outputs": [],
   "source": [
    "missing_vals['manager_id'] = missing_managerid"
   ]
  },
  {
   "cell_type": "code",
   "execution_count": 79,
   "metadata": {},
   "outputs": [],
   "source": [
    "outlier_count['manager_id'] = 0"
   ]
  },
  {
   "cell_type": "markdown",
   "metadata": {},
   "source": [
    "## Listing ID"
   ]
  },
  {
   "cell_type": "code",
   "execution_count": 80,
   "metadata": {},
   "outputs": [
    {
     "data": {
      "text/plain": [
       "4     7170325\n",
       "6     7092344\n",
       "9     7158677\n",
       "10    7211212\n",
       "15    7225292\n",
       "Name: listing_id, dtype: int64"
      ]
     },
     "execution_count": 80,
     "metadata": {},
     "output_type": "execute_result"
    }
   ],
   "source": [
    "train_df['listing_id'].head()"
   ]
  },
  {
   "cell_type": "markdown",
   "metadata": {},
   "source": [
    "The Listing ID is different from Building ID and Manager ID. Likely it is just the primary key, and starts from 1 and increases. Nevertheless, let's check for missing values."
   ]
  },
  {
   "cell_type": "code",
   "execution_count": 81,
   "metadata": {},
   "outputs": [
    {
     "data": {
      "text/plain": [
       "0"
      ]
     },
     "execution_count": 81,
     "metadata": {},
     "output_type": "execute_result"
    }
   ],
   "source": [
    "missing_listingid = len(train_df[train_df['listing_id'] < 0])\n",
    "missing_listingid"
   ]
  },
  {
   "cell_type": "code",
   "execution_count": 82,
   "metadata": {},
   "outputs": [],
   "source": [
    "missing_vals['listing_id'] = missing_listingid"
   ]
  },
  {
   "cell_type": "markdown",
   "metadata": {},
   "source": [
    "Outliers are not applicable for the Listing ID attribute."
   ]
  },
  {
   "cell_type": "code",
   "execution_count": 83,
   "metadata": {},
   "outputs": [],
   "source": [
    "outlier_count['listing_id'] = 0"
   ]
  },
  {
   "cell_type": "markdown",
   "metadata": {},
   "source": [
    "## Created"
   ]
  },
  {
   "cell_type": "markdown",
   "metadata": {},
   "source": [
    "The 'created' attribute is a timestamp that indicates the creation time of the listing."
   ]
  },
  {
   "cell_type": "code",
   "execution_count": 84,
   "metadata": {},
   "outputs": [],
   "source": [
    "created_df = train_df['created']"
   ]
  },
  {
   "cell_type": "code",
   "execution_count": 85,
   "metadata": {},
   "outputs": [
    {
     "data": {
      "text/plain": [
       "4     2016-06-16 05:55:27\n",
       "6     2016-06-01 05:44:33\n",
       "9     2016-06-14 15:19:59\n",
       "10    2016-06-24 07:54:24\n",
       "15    2016-06-28 03:50:23\n",
       "Name: created, dtype: object"
      ]
     },
     "execution_count": 85,
     "metadata": {},
     "output_type": "execute_result"
    }
   ],
   "source": [
    "created_df.head()"
   ]
  },
  {
   "cell_type": "code",
   "execution_count": 86,
   "metadata": {},
   "outputs": [
    {
     "data": {
      "text/plain": [
       "str"
      ]
     },
     "execution_count": 86,
     "metadata": {},
     "output_type": "execute_result"
    }
   ],
   "source": [
    "type(created_df.iloc[0])"
   ]
  },
  {
   "cell_type": "markdown",
   "metadata": {},
   "source": [
    "The timestamps are strings. Let's find how many missing creation timestamps there are."
   ]
  },
  {
   "cell_type": "code",
   "execution_count": 87,
   "metadata": {},
   "outputs": [],
   "source": [
    "missing_created = len(train_df[train_df['created'].map(lambda d: len(d)) == 0])"
   ]
  },
  {
   "cell_type": "code",
   "execution_count": 88,
   "metadata": {},
   "outputs": [
    {
     "data": {
      "text/plain": [
       "0"
      ]
     },
     "execution_count": 88,
     "metadata": {},
     "output_type": "execute_result"
    }
   ],
   "source": [
    "missing_created"
   ]
  },
  {
   "cell_type": "code",
   "execution_count": 89,
   "metadata": {},
   "outputs": [],
   "source": [
    "missing_vals['created'] = missing_created"
   ]
  },
  {
   "cell_type": "markdown",
   "metadata": {},
   "source": [
    "Thus, every single listing has a creation time, as expected. Now we can parse the timestamps, and plot them to notice if there are any outliers."
   ]
  },
  {
   "cell_type": "code",
   "execution_count": 90,
   "metadata": {},
   "outputs": [],
   "source": [
    "from datetime import datetime"
   ]
  },
  {
   "cell_type": "markdown",
   "metadata": {},
   "source": [
    "Format is as follows: YYYY-MM-DD HH:MM:SS (where HH ranges from 0 to 23)"
   ]
  },
  {
   "cell_type": "code",
   "execution_count": 91,
   "metadata": {},
   "outputs": [],
   "source": [
    "datetime_format = '%Y-%m-%d %H-%M-%S'"
   ]
  },
  {
   "cell_type": "code",
   "execution_count": 92,
   "metadata": {},
   "outputs": [],
   "source": [
    "created_time_df = pd.to_datetime(created_df)"
   ]
  },
  {
   "cell_type": "code",
   "execution_count": 93,
   "metadata": {},
   "outputs": [
    {
     "data": {
      "text/plain": [
       "<matplotlib.axes._subplots.AxesSubplot at 0x140a6f320>"
      ]
     },
     "execution_count": 93,
     "metadata": {},
     "output_type": "execute_result"
    },
    {
     "data": {
      "image/png": "[encoded data removed]",
      "text/plain": [
       "<Figure size 432x288 with 1 Axes>"
      ]
     },
     "metadata": {
      "needs_background": "light"
     },
     "output_type": "display_data"
    }
   ],
   "source": [
    "created_time_df.plot()"
   ]
  },
  {
   "cell_type": "markdown",
   "metadata": {},
   "source": [
    "From the plot, it appears that the timestamps are roughly split evenly between 3 months."
   ]
  },
  {
   "cell_type": "code",
   "execution_count": 94,
   "metadata": {},
   "outputs": [],
   "source": [
    "outlier_count['created'] = 0"
   ]
  },
  {
   "cell_type": "markdown",
   "metadata": {},
   "source": [
    "## Interest Level"
   ]
  },
  {
   "cell_type": "code",
   "execution_count": 95,
   "metadata": {},
   "outputs": [
    {
     "data": {
      "text/plain": [
       "0"
      ]
     },
     "execution_count": 95,
     "metadata": {},
     "output_type": "execute_result"
    }
   ],
   "source": [
    "missing_interest= len(train_df[train_df['interest_level'].isnull()])\n",
    "\n",
    "missing_interest"
   ]
  },
  {
   "cell_type": "code",
   "execution_count": 96,
   "metadata": {},
   "outputs": [
    {
     "data": {
      "text/plain": [
       "array(['medium', 'low', 'high'], dtype=object)"
      ]
     },
     "execution_count": 96,
     "metadata": {},
     "output_type": "execute_result"
    }
   ],
   "source": [
    "train_df.interest_level.unique()"
   ]
  },
  {
   "cell_type": "markdown",
   "metadata": {},
   "source": [
    "There are appears to be no missing values or inconsistent input for interest levels."
   ]
  }
 ],
 "metadata": {
  "kernelspec": {
   "display_name": "Python 3",
   "language": "python",
   "name": "python3"
  },
  "language_info": {
   "codemirror_mode": {
    "name": "ipython",
    "version": 3
   },
   "file_extension": ".py",
   "mimetype": "text/x-python",
   "name": "python",
   "nbconvert_exporter": "python",
   "pygments_lexer": "ipython3",
   "version": "3.7.3"
  }
 },
 "nbformat": 4,
 "nbformat_minor": 2
}
