{
 "cells": [
  {
   "cell_type": "code",
   "execution_count": 20,
   "metadata": {},
   "outputs": [],
   "source": [
    "import pandas as pd \n",
    "import os\n",
    "from matplotlib import pyplot as plt\n",
    "from collections import defaultdict, Counter"
   ]
  },
  {
   "cell_type": "code",
   "execution_count": 2,
   "metadata": {},
   "outputs": [],
   "source": [
    "BASE_PATH = os.path.join(os.getcwd(), os.pardir)\n",
    "DATA_PATH = os.path.join(BASE_PATH, 'data')"
   ]
  },
  {
   "cell_type": "code",
   "execution_count": 3,
   "metadata": {},
   "outputs": [],
   "source": [
    "train_df = pd.read_json(os.path.join(DATA_PATH, 'train.json'))"
   ]
  },
  {
   "cell_type": "markdown",
   "metadata": {},
   "source": [
    "# Extract text/numerical/categorical features"
   ]
  },
  {
   "cell_type": "markdown",
   "metadata": {},
   "source": [
    "Let's extract out hte number of bathrooms and bedrooms, the building ID, the latitude, the longitude, the manager ID and the price since these are trivial to extract"
   ]
  },
  {
   "cell_type": "code",
   "execution_count": 4,
   "metadata": {},
   "outputs": [],
   "source": [
    "bathrooms = train_df['bathrooms']\n",
    "bedrooms = train_df['bedrooms']\n",
    "building_ids = train_df['building_id']\n",
    "latitudes = train_df['latitude']\n",
    "longitudes = train_df['longitude']\n",
    "manager_ids = train_df['manager_id']\n",
    "prices = train_df['price']"
   ]
  },
  {
   "cell_type": "markdown",
   "metadata": {},
   "source": [
    "Now we can extract the month, day, hour and weekday from the creation timestamp"
   ]
  },
  {
   "cell_type": "code",
   "execution_count": 5,
   "metadata": {},
   "outputs": [],
   "source": [
    "datetime = pd.to_datetime(train_df['created'])"
   ]
  },
  {
   "cell_type": "code",
   "execution_count": 6,
   "metadata": {},
   "outputs": [],
   "source": [
    "months = datetime.dt.month\n",
    "days = datetime.dt.day\n",
    "hours = datetime.dt.hour"
   ]
  },
  {
   "cell_type": "code",
   "execution_count": 8,
   "metadata": {},
   "outputs": [],
   "source": [
    "# Where Monday = 0, and Sunday = 6\n",
    "weekdays = datetime.dt.dayofweek"
   ]
  },
  {
   "cell_type": "markdown",
   "metadata": {},
   "source": [
    "Now we can extract the number of pictures for each listing"
   ]
  },
  {
   "cell_type": "code",
   "execution_count": 14,
   "metadata": {},
   "outputs": [],
   "source": [
    "num_photos = train_df['photos'].str.len()"
   ]
  },
  {
   "cell_type": "markdown",
   "metadata": {},
   "source": [
    "Now let's extract the 'features' column, which is a harder task\n",
    "\n",
    "Methodology of: https://www.kaggle.com/jxnlco/deduplicating-features"
   ]
  },
  {
   "cell_type": "code",
   "execution_count": 24,
   "metadata": {},
   "outputs": [],
   "source": [
    "features = train_df['features'].apply(lambda x: [i.lower() for i in x])"
   ]
  },
  {
   "cell_type": "markdown",
   "metadata": {},
   "source": [
    "We eliminate all features that appear less than $n$ times"
   ]
  },
  {
   "cell_type": "code",
   "execution_count": 29,
   "metadata": {},
   "outputs": [
    {
     "data": {
      "text/plain": [
       "['24/7 concierge',\n",
       " '24/7 doorman',\n",
       " '24hr doorman',\n",
       " 'a full service luxury highrise',\n",
       " 'actual apt. photos',\n",
       " 'air conditioning',\n",
       " 'all utilities included',\n",
       " 'assigned-parking-space',\n",
       " 'attended lobby',\n",
       " 'backyard']"
      ]
     },
     "execution_count": 29,
     "metadata": {},
     "output_type": "execute_result"
    }
   ],
   "source": [
    "n = 5\n",
    "\n",
    "feature_counts = Counter()\n",
    "for feature in features.tolist():\n",
    "    feature_counts.update(feature)\n",
    "feature = sorted([k for (k,v) in feature_counts.items() if v > n])\n",
    "feature[:10]"
   ]
  },
  {
   "cell_type": "markdown",
   "metadata": {},
   "source": [
    "Since we have a lot of duplicates, we can clean things up to eliminate them. We use the first 4 characters of a feature in order to group together different features."
   ]
  },
  {
   "cell_type": "code",
   "execution_count": 30,
   "metadata": {},
   "outputs": [],
   "source": [
    "def clean(s):\n",
    "    x = s.replace(\"-\", \"\")\n",
    "    x = x.replace(\" \", \"\")\n",
    "    x = x.replace(\"twenty four hour\", \"24\")\n",
    "    x = x.replace(\"24/7\", \"24\")\n",
    "    x = x.replace(\"24hr\", \"24\")\n",
    "    x = x.replace(\"24-hour\", \"24\")\n",
    "    x = x.replace(\"24hour\", \"24\")\n",
    "    x = x.replace(\"24 hour\", \"24\")\n",
    "    x = x.replace(\"common\", \"cm\")\n",
    "    x = x.replace(\"concierge\", \"doorman\")\n",
    "    x = x.replace(\"bicycle\", \"bike\")\n",
    "    x = x.replace(\"private\", \"pv\")\n",
    "    x = x.replace(\"deco\", \"dc\")\n",
    "    x = x.replace(\"decorative\", \"dc\")\n",
    "    x = x.replace(\"onsite\", \"os\")\n",
    "    x = x.replace(\"outdoor\", \"od\")\n",
    "    x = x.replace(\"ss appliances\", \"stainless\")\n",
    "    return x\n",
    "\n",
    "def feature_hash(x):\n",
    "    cleaned = clean(x, uniq)\n",
    "    key = cleaned[:4].strip()\n",
    "    return key"
   ]
  },
  {
   "cell_type": "code",
   "execution_count": 31,
   "metadata": {},
   "outputs": [],
   "source": [
    "key2original = defaultdict(list)\n",
    "k = 4\n",
    "for f in feature:\n",
    "    cleaned = clean(f)\n",
    "    key = cleaned[:k].strip()\n",
    "    key2original[key].append(f)"
   ]
  },
  {
   "cell_type": "code",
   "execution_count": 32,
   "metadata": {},
   "outputs": [
    {
     "data": {
      "text/plain": [
       "defaultdict(list,\n",
       "            {'24do': ['24/7 concierge', '24/7 doorman', '24hr doorman'],\n",
       "             'aful': ['a full service luxury highrise'],\n",
       "             'actu': ['actual apt. photos'],\n",
       "             'airc': ['air conditioning'],\n",
       "             'allu': ['all utilities included'],\n",
       "             'assi': ['assigned-parking-space'],\n",
       "             'atte': ['attended lobby'],\n",
       "             'back': ['backyard'],\n",
       "             'balc': ['balcony'],\n",
       "             'base': ['basement storage'],\n",
       "             'bike': ['bike room', 'bike storage'],\n",
       "             'bill': ['billiards room'],\n",
       "             'brea': ['breakfast bar'],\n",
       "             'brow': ['brownstone'],\n",
       "             'buil': ['building-common-outdoor-space'],\n",
       "             'busi': ['business center'],\n",
       "             'cabl': ['cable/satellite tv'],\n",
       "             'cats': ['cats allowed'],\n",
       "             'cent': ['central a/c', 'central ac', 'central air'],\n",
       "             'chef': ['chefs kitchen'],\n",
       "             'chil': [\"children's playroom\", 'childrens playroom'],\n",
       "             'cine': ['cinema room'],\n",
       "             'city': ['city view'],\n",
       "             'clos': ['close to subway', 'closets galore!'],\n",
       "             'cmba': ['common backyard'],\n",
       "             'cmga': ['common garden'],\n",
       "             'cmod': ['common outdoor space'],\n",
       "             'cmpa': ['common parking/garage'],\n",
       "             'cmro': ['common roof deck'],\n",
       "             'cmst': ['common storage'],\n",
       "             'cmte': ['common terrace'],\n",
       "             'comm': ['community recreation facilities'],\n",
       "             'door': ['concierge', 'concierge service', 'doorman'],\n",
       "             'cond': ['condo finishes'],\n",
       "             'cour': ['courtyard'],\n",
       "             'crow': ['crown moldings'],\n",
       "             'deck': ['deck'],\n",
       "             'dcra': ['decorative fireplace'],\n",
       "             'dini': ['dining room'],\n",
       "             'dish': ['dishwasher'],\n",
       "             'dogs': ['dogs allowed'],\n",
       "             'dryc': ['dry cleaning service'],\n",
       "             'drye': ['dryer in unit'],\n",
       "             'dupl': ['duplex'],\n",
       "             'eati': ['eat in kitchen', 'eat-in kitchen'],\n",
       "             'elev': ['elevator'],\n",
       "             'excl': ['exclusive'],\n",
       "             'expo': ['exposed brick'],\n",
       "             'fire': ['fireplace', 'fireplaces'],\n",
       "             'fitn': ['fitness center'],\n",
       "             'flex': ['flex-2', 'flex-3'],\n",
       "             'ftdo': ['ft doorman'],\n",
       "             'full': ['full service garage', 'full-time doorman'],\n",
       "             'furn': ['furnished'],\n",
       "             'gara': ['garage'],\n",
       "             'garb': ['garbage disposal'],\n",
       "             'gard': ['garden', 'garden/patio'],\n",
       "             'gran': ['granite kitchen'],\n",
       "             'gree': ['green building'],\n",
       "             'guar': ['guarantors accepted'],\n",
       "             'gutr': ['gut renovated'],\n",
       "             'gym': ['gym'],\n",
       "             'gymi': ['gym in building'],\n",
       "             'gym/': ['gym/fitness'],\n",
       "             'hard': ['hardwood', 'hardwood floors'],\n",
       "             'heal': ['health club'],\n",
       "             'hiri': ['hi rise'],\n",
       "             'high': ['high ceiling',\n",
       "              'high ceilings',\n",
       "              'high speed internet',\n",
       "              'high-speed internet',\n",
       "              'highrise'],\n",
       "             'inun': ['in-unit washer/dryer'],\n",
       "             'indo': ['indoor pool'],\n",
       "             'jacu': ['jacuzzi'],\n",
       "             'larg': ['large living room'],\n",
       "             'laun': ['laundry',\n",
       "              'laundry & housekeeping',\n",
       "              'laundry in building',\n",
       "              'laundry in unit',\n",
       "              'laundry on floor',\n",
       "              'laundry room'],\n",
       "             'ligh': ['light'],\n",
       "             'live': ['live in super',\n",
       "              'live-in super',\n",
       "              'live-in superintendent',\n",
       "              'live/work'],\n",
       "             'loft': ['loft'],\n",
       "             'loun': ['lounge', 'lounge room'],\n",
       "             'lowr': ['lowrise'],\n",
       "             'luxu': ['luxury building'],\n",
       "             'mail': ['mail room'],\n",
       "             'marb': ['marble bath', 'marble bathroom'],\n",
       "             'medi': ['media room'],\n",
       "             'micr': ['microwave'],\n",
       "             'midr': ['midrise'],\n",
       "             'mult': ['multi-level'],\n",
       "             'newc': ['new construction'],\n",
       "             'newl': ['newly renovated'],\n",
       "             'nofe': ['no fee'],\n",
       "             'nope': ['no pets'],\n",
       "             'osga': ['on-site garage'],\n",
       "             'osla': ['on-site laundry'],\n",
       "             'ospa': ['on-site parking',\n",
       "              'on-site parking available',\n",
       "              'on-site parking lot'],\n",
       "             'ossu': ['on-site super'],\n",
       "             'onem': ['one month free'],\n",
       "             'odar': ['outdoor areas'],\n",
       "             'oden': ['outdoor entertainment space'],\n",
       "             'odpo': ['outdoor pool'],\n",
       "             'odsp': ['outdoor space'],\n",
       "             'pack': ['package room'],\n",
       "             'park': ['parking', 'parking available', 'parking space'],\n",
       "             'part': ['party room'],\n",
       "             'pati': ['patio'],\n",
       "             'petf': ['pet friendly'],\n",
       "             'pets': ['pets', 'pets allowed', 'pets on approval'],\n",
       "             'play': ['playroom', 'playroom/nursery'],\n",
       "             'pool': ['pool'],\n",
       "             'post': ['post war', 'post-war'],\n",
       "             'prew': ['pre-war', 'prewar'],\n",
       "             'pvba': ['private backyard',\n",
       "              'private balcony',\n",
       "              'private-balcony'],\n",
       "             'pvde': ['private deck'],\n",
       "             'pvga': ['private garden'],\n",
       "             'pvla': ['private laundry room on every floor'],\n",
       "             'pvod': ['private outdoor space', 'private-outdoor-space'],\n",
       "             'pvpa': ['private parking'],\n",
       "             'pvte': ['private terrace'],\n",
       "             'publ': ['publicoutdoor'],\n",
       "             'quee': ['queen sized rooms'],\n",
       "             'redu': ['reduced fee'],\n",
       "             'reno': ['renovated'],\n",
       "             'resi': ['residents garden', 'residents lounge'],\n",
       "             'roof': ['roof access',\n",
       "              'roof deck',\n",
       "              'roof-deck',\n",
       "              'roofdeck',\n",
       "              'rooftop deck',\n",
       "              'rooftop terrace'],\n",
       "             's/sa': ['s/s appliances'],\n",
       "             'saun': ['sauna'],\n",
       "             'scre': ['screening room'],\n",
       "             'shar': ['shared backyard', 'shares ok'],\n",
       "             'shor': ['short term allowed'],\n",
       "             'simp': ['simplex'],\n",
       "             'skyl': ['skylight'],\n",
       "             'stai': ['stainless steel', 'stainless steel appliances'],\n",
       "             'stor': ['storage', 'storage available', 'storage room'],\n",
       "             'subl': ['sublet'],\n",
       "             'subw': ['subway'],\n",
       "             'sund': ['sundeck'],\n",
       "             'swim': ['swimming pool'],\n",
       "             'tena': ['tenant lounge'],\n",
       "             'terr': ['terrace', 'terraces / balconies'],\n",
       "             'tons': ['tons of natural light'],\n",
       "             'vale': ['valet',\n",
       "              'valet parking',\n",
       "              'valet services',\n",
       "              'valet services including dry cleaning'],\n",
       "             'vide': ['video intercom'],\n",
       "             'view': ['view'],\n",
       "             'virt': ['virtual doorman'],\n",
       "             'walk': ['walk in closet', 'walk in closet(s)', 'walk-in closet'],\n",
       "             'wash': ['washer & dryer',\n",
       "              'washer in unit',\n",
       "              'washer/dryer',\n",
       "              'washer/dryer hookup',\n",
       "              'washer/dryer in building',\n",
       "              'washer/dryer in unit'],\n",
       "             'whee': ['wheelchair access', 'wheelchair ramp'],\n",
       "             'wifi': ['wifi', 'wifi access'],\n",
       "             'wood': ['wood-burning fireplace']})"
      ]
     },
     "execution_count": 32,
     "metadata": {},
     "output_type": "execute_result"
    }
   ],
   "source": [
    "key2original"
   ]
  },
  {
   "cell_type": "code",
   "execution_count": null,
   "metadata": {},
   "outputs": [],
   "source": []
  }
 ],
 "metadata": {
  "kernelspec": {
   "display_name": "Python 3",
   "language": "python",
   "name": "python3"
  },
  "language_info": {
   "codemirror_mode": {
    "name": "ipython",
    "version": 3
   },
   "file_extension": ".py",
   "mimetype": "text/x-python",
   "name": "python",
   "nbconvert_exporter": "python",
   "pygments_lexer": "ipython3",
   "version": "3.7.3"
  }
 },
 "nbformat": 4,
 "nbformat_minor": 2
}
