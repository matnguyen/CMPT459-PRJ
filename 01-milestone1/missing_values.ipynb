{
 "cells": [
  {
   "cell_type": "code",
   "execution_count": 1,
   "metadata": {},
   "outputs": [],
   "source": [
    "import numpy as np\n",
    "import pandas as pd\n",
    "import os\n",
    "from matplotlib import pyplot as plt"
   ]
  },
  {
   "cell_type": "code",
   "execution_count": 2,
   "metadata": {},
   "outputs": [],
   "source": [
    "BASE_PATH = os.path.join(os.getcwd(), os.pardir)\n",
    "DATA_PATH = os.path.join(BASE_PATH, 'data')"
   ]
  },
  {
   "cell_type": "code",
   "execution_count": 3,
   "metadata": {},
   "outputs": [],
   "source": [
    "train_df = pd.read_json(os.path.join(DATA_PATH, 'train.json.zip'))"
   ]
  },
  {
   "cell_type": "code",
   "execution_count": 5,
   "metadata": {},
   "outputs": [
    {
     "data": {
      "text/html": [
       "<div>\n",
       "<style scoped>\n",
       "    .dataframe tbody tr th:only-of-type {\n",
       "        vertical-align: middle;\n",
       "    }\n",
       "\n",
       "    .dataframe tbody tr th {\n",
       "        vertical-align: top;\n",
       "    }\n",
       "\n",
       "    .dataframe thead th {\n",
       "        text-align: right;\n",
       "    }\n",
       "</style>\n",
       "<table border=\"1\" class=\"dataframe\">\n",
       "  <thead>\n",
       "    <tr style=\"text-align: right;\">\n",
       "      <th></th>\n",
       "      <th>bathrooms</th>\n",
       "      <th>bedrooms</th>\n",
       "      <th>building_id</th>\n",
       "      <th>created</th>\n",
       "      <th>description</th>\n",
       "      <th>display_address</th>\n",
       "      <th>features</th>\n",
       "      <th>latitude</th>\n",
       "      <th>listing_id</th>\n",
       "      <th>longitude</th>\n",
       "      <th>manager_id</th>\n",
       "      <th>photos</th>\n",
       "      <th>price</th>\n",
       "      <th>street_address</th>\n",
       "      <th>interest_level</th>\n",
       "    </tr>\n",
       "  </thead>\n",
       "  <tbody>\n",
       "    <tr>\n",
       "      <td>4</td>\n",
       "      <td>1.0</td>\n",
       "      <td>1</td>\n",
       "      <td>8579a0b0d54db803821a35a4a615e97a</td>\n",
       "      <td>2016-06-16 05:55:27</td>\n",
       "      <td>Spacious 1 Bedroom 1 Bathroom in Williamsburg!...</td>\n",
       "      <td>145 Borinquen Place</td>\n",
       "      <td>[Dining Room, Pre-War, Laundry in Building, Di...</td>\n",
       "      <td>40.7108</td>\n",
       "      <td>7170325</td>\n",
       "      <td>-73.9539</td>\n",
       "      <td>a10db4590843d78c784171a107bdacb4</td>\n",
       "      <td>[https://photos.renthop.com/2/7170325_3bb5ac84...</td>\n",
       "      <td>2400</td>\n",
       "      <td>145 Borinquen Place</td>\n",
       "      <td>medium</td>\n",
       "    </tr>\n",
       "    <tr>\n",
       "      <td>6</td>\n",
       "      <td>1.0</td>\n",
       "      <td>2</td>\n",
       "      <td>b8e75fc949a6cd8225b455648a951712</td>\n",
       "      <td>2016-06-01 05:44:33</td>\n",
       "      <td>BRAND NEW GUT RENOVATED TRUE 2 BEDROOMFind you...</td>\n",
       "      <td>East 44th</td>\n",
       "      <td>[Doorman, Elevator, Laundry in Building, Dishw...</td>\n",
       "      <td>40.7513</td>\n",
       "      <td>7092344</td>\n",
       "      <td>-73.9722</td>\n",
       "      <td>955db33477af4f40004820b4aed804a0</td>\n",
       "      <td>[https://photos.renthop.com/2/7092344_7663c19a...</td>\n",
       "      <td>3800</td>\n",
       "      <td>230 East 44th</td>\n",
       "      <td>low</td>\n",
       "    </tr>\n",
       "    <tr>\n",
       "      <td>9</td>\n",
       "      <td>1.0</td>\n",
       "      <td>2</td>\n",
       "      <td>cd759a988b8f23924b5a2058d5ab2b49</td>\n",
       "      <td>2016-06-14 15:19:59</td>\n",
       "      <td>**FLEX 2 BEDROOM WITH FULL PRESSURIZED WALL**L...</td>\n",
       "      <td>East 56th Street</td>\n",
       "      <td>[Doorman, Elevator, Laundry in Building, Laund...</td>\n",
       "      <td>40.7575</td>\n",
       "      <td>7158677</td>\n",
       "      <td>-73.9625</td>\n",
       "      <td>c8b10a317b766204f08e613cef4ce7a0</td>\n",
       "      <td>[https://photos.renthop.com/2/7158677_c897a134...</td>\n",
       "      <td>3495</td>\n",
       "      <td>405 East 56th Street</td>\n",
       "      <td>medium</td>\n",
       "    </tr>\n",
       "    <tr>\n",
       "      <td>10</td>\n",
       "      <td>1.5</td>\n",
       "      <td>3</td>\n",
       "      <td>53a5b119ba8f7b61d4e010512e0dfc85</td>\n",
       "      <td>2016-06-24 07:54:24</td>\n",
       "      <td>A Brand New 3 Bedroom 1.5 bath ApartmentEnjoy ...</td>\n",
       "      <td>Metropolitan Avenue</td>\n",
       "      <td>[]</td>\n",
       "      <td>40.7145</td>\n",
       "      <td>7211212</td>\n",
       "      <td>-73.9425</td>\n",
       "      <td>5ba989232d0489da1b5f2c45f6688adc</td>\n",
       "      <td>[https://photos.renthop.com/2/7211212_1ed4542e...</td>\n",
       "      <td>3000</td>\n",
       "      <td>792 Metropolitan Avenue</td>\n",
       "      <td>medium</td>\n",
       "    </tr>\n",
       "    <tr>\n",
       "      <td>15</td>\n",
       "      <td>1.0</td>\n",
       "      <td>0</td>\n",
       "      <td>bfb9405149bfff42a92980b594c28234</td>\n",
       "      <td>2016-06-28 03:50:23</td>\n",
       "      <td>Over-sized Studio w abundant closets. Availabl...</td>\n",
       "      <td>East 34th Street</td>\n",
       "      <td>[Doorman, Elevator, Fitness Center, Laundry in...</td>\n",
       "      <td>40.7439</td>\n",
       "      <td>7225292</td>\n",
       "      <td>-73.9743</td>\n",
       "      <td>2c3b41f588fbb5234d8a1e885a436cfa</td>\n",
       "      <td>[https://photos.renthop.com/2/7225292_901f1984...</td>\n",
       "      <td>2795</td>\n",
       "      <td>340 East 34th Street</td>\n",
       "      <td>low</td>\n",
       "    </tr>\n",
       "  </tbody>\n",
       "</table>\n",
       "</div>"
      ],
      "text/plain": [
       "    bathrooms  bedrooms                       building_id  \\\n",
       "4         1.0         1  8579a0b0d54db803821a35a4a615e97a   \n",
       "6         1.0         2  b8e75fc949a6cd8225b455648a951712   \n",
       "9         1.0         2  cd759a988b8f23924b5a2058d5ab2b49   \n",
       "10        1.5         3  53a5b119ba8f7b61d4e010512e0dfc85   \n",
       "15        1.0         0  bfb9405149bfff42a92980b594c28234   \n",
       "\n",
       "                created                                        description  \\\n",
       "4   2016-06-16 05:55:27  Spacious 1 Bedroom 1 Bathroom in Williamsburg!...   \n",
       "6   2016-06-01 05:44:33  BRAND NEW GUT RENOVATED TRUE 2 BEDROOMFind you...   \n",
       "9   2016-06-14 15:19:59  **FLEX 2 BEDROOM WITH FULL PRESSURIZED WALL**L...   \n",
       "10  2016-06-24 07:54:24  A Brand New 3 Bedroom 1.5 bath ApartmentEnjoy ...   \n",
       "15  2016-06-28 03:50:23  Over-sized Studio w abundant closets. Availabl...   \n",
       "\n",
       "        display_address                                           features  \\\n",
       "4   145 Borinquen Place  [Dining Room, Pre-War, Laundry in Building, Di...   \n",
       "6             East 44th  [Doorman, Elevator, Laundry in Building, Dishw...   \n",
       "9      East 56th Street  [Doorman, Elevator, Laundry in Building, Laund...   \n",
       "10  Metropolitan Avenue                                                 []   \n",
       "15     East 34th Street  [Doorman, Elevator, Fitness Center, Laundry in...   \n",
       "\n",
       "    latitude  listing_id  longitude                        manager_id  \\\n",
       "4    40.7108     7170325   -73.9539  a10db4590843d78c784171a107bdacb4   \n",
       "6    40.7513     7092344   -73.9722  955db33477af4f40004820b4aed804a0   \n",
       "9    40.7575     7158677   -73.9625  c8b10a317b766204f08e613cef4ce7a0   \n",
       "10   40.7145     7211212   -73.9425  5ba989232d0489da1b5f2c45f6688adc   \n",
       "15   40.7439     7225292   -73.9743  2c3b41f588fbb5234d8a1e885a436cfa   \n",
       "\n",
       "                                               photos  price  \\\n",
       "4   [https://photos.renthop.com/2/7170325_3bb5ac84...   2400   \n",
       "6   [https://photos.renthop.com/2/7092344_7663c19a...   3800   \n",
       "9   [https://photos.renthop.com/2/7158677_c897a134...   3495   \n",
       "10  [https://photos.renthop.com/2/7211212_1ed4542e...   3000   \n",
       "15  [https://photos.renthop.com/2/7225292_901f1984...   2795   \n",
       "\n",
       "             street_address interest_level  \n",
       "4       145 Borinquen Place         medium  \n",
       "6             230 East 44th            low  \n",
       "9      405 East 56th Street         medium  \n",
       "10  792 Metropolitan Avenue         medium  \n",
       "15     340 East 34th Street            low  "
      ]
     },
     "execution_count": 5,
     "metadata": {},
     "output_type": "execute_result"
    }
   ],
   "source": [
    "train_df.head()"
   ]
  },
  {
   "cell_type": "markdown",
   "metadata": {},
   "source": [
    "# Identifying outliers & missing values\n",
    "## Price"
   ]
  },
  {
   "cell_type": "markdown",
   "metadata": {},
   "source": [
    "We wish to determine how many listings in the training set are missing price data.\n",
    "\n",
    "Note that the listing consists entirely of apartment rentals (i.e. the properties themselves are not for sale, and houses/townhouses are excluded)."
   ]
  },
  {
   "cell_type": "code",
   "execution_count": 4,
   "metadata": {},
   "outputs": [
    {
     "data": {
      "text/plain": [
       "0"
      ]
     },
     "execution_count": 4,
     "metadata": {},
     "output_type": "execute_result"
    }
   ],
   "source": [
    "missing_price = len(train_df[train_df.astype(str)['price'].isnull()])\n",
    "\n",
    "missing_price"
   ]
  },
  {
   "cell_type": "markdown",
   "metadata": {},
   "source": [
    "### Price Boxplot"
   ]
  },
  {
   "cell_type": "code",
   "execution_count": 5,
   "metadata": {},
   "outputs": [],
   "source": [
    "price = train_df[['price']]"
   ]
  },
  {
   "cell_type": "code",
   "execution_count": 6,
   "metadata": {},
   "outputs": [
    {
     "data": {
      "text/plain": [
       "<matplotlib.axes._subplots.AxesSubplot at 0x12c60f390>"
      ]
     },
     "execution_count": 6,
     "metadata": {},
     "output_type": "execute_result"
    },
    {
     "data": {
      "image/png": "[encoded data removed]",
      "text/plain": [
       "<Figure size 432x288 with 1 Axes>"
      ]
     },
     "metadata": {
      "needs_background": "light"
     },
     "output_type": "display_data"
    }
   ],
   "source": [
    "price.plot(kind='box')"
   ]
  },
  {
   "cell_type": "markdown",
   "metadata": {},
   "source": [
    "### Outlier investigation (high values)"
   ]
  },
  {
   "cell_type": "markdown",
   "metadata": {},
   "source": [
    "As seen above, there appear to be a few outliers. Most prices are less than \\\\$500000, which is expected given these are rentals. There are a few outliers, a few around \\\\$1 million, and one well above \\\\$4 million. We decide to investigate these entries in more detail."
   ]
  },
  {
   "cell_type": "code",
   "execution_count": 6,
   "metadata": {},
   "outputs": [
    {
     "data": {
      "text/html": [
       "<div>\n",
       "<style scoped>\n",
       "    .dataframe tbody tr th:only-of-type {\n",
       "        vertical-align: middle;\n",
       "    }\n",
       "\n",
       "    .dataframe tbody tr th {\n",
       "        vertical-align: top;\n",
       "    }\n",
       "\n",
       "    .dataframe thead th {\n",
       "        text-align: right;\n",
       "    }\n",
       "</style>\n",
       "<table border=\"1\" class=\"dataframe\">\n",
       "  <thead>\n",
       "    <tr style=\"text-align: right;\">\n",
       "      <th></th>\n",
       "      <th>bathrooms</th>\n",
       "      <th>bedrooms</th>\n",
       "      <th>building_id</th>\n",
       "      <th>created</th>\n",
       "      <th>description</th>\n",
       "      <th>display_address</th>\n",
       "      <th>features</th>\n",
       "      <th>latitude</th>\n",
       "      <th>listing_id</th>\n",
       "      <th>longitude</th>\n",
       "      <th>manager_id</th>\n",
       "      <th>photos</th>\n",
       "      <th>price</th>\n",
       "      <th>street_address</th>\n",
       "      <th>interest_level</th>\n",
       "    </tr>\n",
       "  </thead>\n",
       "  <tbody>\n",
       "    <tr>\n",
       "      <td>12168</td>\n",
       "      <td>1.0</td>\n",
       "      <td>2</td>\n",
       "      <td>5d3525a5085445e7fcd64a53aac3cb0a</td>\n",
       "      <td>2016-06-24 05:02:58</td>\n",
       "      <td></td>\n",
       "      <td>West 116th Street</td>\n",
       "      <td>[Doorman, Elevator, Cats Allowed, Dogs Allowed...</td>\n",
       "      <td>40.8011</td>\n",
       "      <td>7208794</td>\n",
       "      <td>-73.9480</td>\n",
       "      <td>d1737922fe92ccb0dc37ba85589e6415</td>\n",
       "      <td>[]</td>\n",
       "      <td>1150000</td>\n",
       "      <td>40 West 116th Street</td>\n",
       "      <td>low</td>\n",
       "    </tr>\n",
       "    <tr>\n",
       "      <td>32611</td>\n",
       "      <td>1.0</td>\n",
       "      <td>2</td>\n",
       "      <td>cd25bbea2af848ebe9821da820b725da</td>\n",
       "      <td>2016-06-24 05:02:11</td>\n",
       "      <td></td>\n",
       "      <td>Hudson Street</td>\n",
       "      <td>[Doorman, Elevator, Cats Allowed, Dogs Allowed...</td>\n",
       "      <td>40.7299</td>\n",
       "      <td>7208764</td>\n",
       "      <td>-74.0071</td>\n",
       "      <td>d1737922fe92ccb0dc37ba85589e6415</td>\n",
       "      <td>[]</td>\n",
       "      <td>4490000</td>\n",
       "      <td>421 Hudson Street</td>\n",
       "      <td>low</td>\n",
       "    </tr>\n",
       "    <tr>\n",
       "      <td>55437</td>\n",
       "      <td>1.0</td>\n",
       "      <td>1</td>\n",
       "      <td>37385c8a58176b529964083315c28e32</td>\n",
       "      <td>2016-05-14 05:21:28</td>\n",
       "      <td></td>\n",
       "      <td>West 57th Street</td>\n",
       "      <td>[Doorman, Cats Allowed, Dogs Allowed]</td>\n",
       "      <td>40.7676</td>\n",
       "      <td>7013217</td>\n",
       "      <td>-73.9844</td>\n",
       "      <td>8f5a9c893f6d602f4953fcc0b8e6e9b4</td>\n",
       "      <td>[]</td>\n",
       "      <td>1070000</td>\n",
       "      <td>333 West 57th Street</td>\n",
       "      <td>low</td>\n",
       "    </tr>\n",
       "    <tr>\n",
       "      <td>57803</td>\n",
       "      <td>1.0</td>\n",
       "      <td>1</td>\n",
       "      <td>37385c8a58176b529964083315c28e32</td>\n",
       "      <td>2016-05-19 02:37:06</td>\n",
       "      <td>This 1 Bedroom apartment is located on a prime...</td>\n",
       "      <td>West 57th Street</td>\n",
       "      <td>[Doorman, Elevator, Pre-War, Dogs Allowed, Cat...</td>\n",
       "      <td>40.7676</td>\n",
       "      <td>7036279</td>\n",
       "      <td>-73.9844</td>\n",
       "      <td>18133bc914e6faf6f8cc1bf29d66fc0d</td>\n",
       "      <td>[https://photos.renthop.com/2/7036279_924b52f0...</td>\n",
       "      <td>1070000</td>\n",
       "      <td>333 West 57th Street</td>\n",
       "      <td>low</td>\n",
       "    </tr>\n",
       "  </tbody>\n",
       "</table>\n",
       "</div>"
      ],
      "text/plain": [
       "       bathrooms  bedrooms                       building_id  \\\n",
       "12168        1.0         2  5d3525a5085445e7fcd64a53aac3cb0a   \n",
       "32611        1.0         2  cd25bbea2af848ebe9821da820b725da   \n",
       "55437        1.0         1  37385c8a58176b529964083315c28e32   \n",
       "57803        1.0         1  37385c8a58176b529964083315c28e32   \n",
       "\n",
       "                   created                                        description  \\\n",
       "12168  2016-06-24 05:02:58                                                      \n",
       "32611  2016-06-24 05:02:11                                                      \n",
       "55437  2016-05-14 05:21:28                                                      \n",
       "57803  2016-05-19 02:37:06  This 1 Bedroom apartment is located on a prime...   \n",
       "\n",
       "         display_address                                           features  \\\n",
       "12168  West 116th Street  [Doorman, Elevator, Cats Allowed, Dogs Allowed...   \n",
       "32611      Hudson Street  [Doorman, Elevator, Cats Allowed, Dogs Allowed...   \n",
       "55437   West 57th Street              [Doorman, Cats Allowed, Dogs Allowed]   \n",
       "57803   West 57th Street  [Doorman, Elevator, Pre-War, Dogs Allowed, Cat...   \n",
       "\n",
       "       latitude  listing_id  longitude                        manager_id  \\\n",
       "12168   40.8011     7208794   -73.9480  d1737922fe92ccb0dc37ba85589e6415   \n",
       "32611   40.7299     7208764   -74.0071  d1737922fe92ccb0dc37ba85589e6415   \n",
       "55437   40.7676     7013217   -73.9844  8f5a9c893f6d602f4953fcc0b8e6e9b4   \n",
       "57803   40.7676     7036279   -73.9844  18133bc914e6faf6f8cc1bf29d66fc0d   \n",
       "\n",
       "                                                  photos    price  \\\n",
       "12168                                                 []  1150000   \n",
       "32611                                                 []  4490000   \n",
       "55437                                                 []  1070000   \n",
       "57803  [https://photos.renthop.com/2/7036279_924b52f0...  1070000   \n",
       "\n",
       "             street_address interest_level  \n",
       "12168  40 West 116th Street            low  \n",
       "32611     421 Hudson Street            low  \n",
       "55437  333 West 57th Street            low  \n",
       "57803  333 West 57th Street            low  "
      ]
     },
     "execution_count": 6,
     "metadata": {},
     "output_type": "execute_result"
    }
   ],
   "source": [
    "train_df[(train_df['price'] > 500000)] "
   ]
  },
  {
   "cell_type": "markdown",
   "metadata": {},
   "source": [
    "All four apartments exceed \\\\$1 million. It is unclear why the values are so high. Perhaps they were meant to be listed as 'for sale', or the prices have typos. Alternatively, they are legitimate postings for exceptionally lavish apartments. However, this is unlikely because a renthop search for NYC in January 29, 2020 shows that the highest priced rental is only \\\\$50,000 per month. \n",
    "\n",
    "Thus, we go ahead with removing these four entries from our training set."
   ]
  },
  {
   "cell_type": "markdown",
   "metadata": {},
   "source": [
    "### Outlier investigation (low values)\n",
    "\n",
    "Now let's consider the opposite issue of values being unusually low. Since it is difficult tell from the boxplot, we sort the values in increasing order and display the first few values."
   ]
  },
  {
   "cell_type": "code",
   "execution_count": 9,
   "metadata": {},
   "outputs": [
    {
     "data": {
      "text/plain": [
       "53144          43\n",
       "87511          45\n",
       "117339        401\n",
       "113599        695\n",
       "113552        695\n",
       "           ...   \n",
       "123877     135000\n",
       "55437     1070000\n",
       "57803     1070000\n",
       "12168     1150000\n",
       "32611     4490000\n",
       "Name: price, Length: 49352, dtype: int64"
      ]
     },
     "execution_count": 9,
     "metadata": {},
     "output_type": "execute_result"
    }
   ],
   "source": [
    "train_df['price'].sort_values()"
   ]
  },
  {
   "cell_type": "markdown",
   "metadata": {},
   "source": [
    "There are two unusually low values in the training set: 43 and 45. Let's look at them in more detail."
   ]
  },
  {
   "cell_type": "code",
   "execution_count": 11,
   "metadata": {},
   "outputs": [
    {
     "data": {
      "text/html": [
       "<div>\n",
       "<style scoped>\n",
       "    .dataframe tbody tr th:only-of-type {\n",
       "        vertical-align: middle;\n",
       "    }\n",
       "\n",
       "    .dataframe tbody tr th {\n",
       "        vertical-align: top;\n",
       "    }\n",
       "\n",
       "    .dataframe thead th {\n",
       "        text-align: right;\n",
       "    }\n",
       "</style>\n",
       "<table border=\"1\" class=\"dataframe\">\n",
       "  <thead>\n",
       "    <tr style=\"text-align: right;\">\n",
       "      <th></th>\n",
       "      <th>bathrooms</th>\n",
       "      <th>bedrooms</th>\n",
       "      <th>building_id</th>\n",
       "      <th>created</th>\n",
       "      <th>description</th>\n",
       "      <th>display_address</th>\n",
       "      <th>features</th>\n",
       "      <th>latitude</th>\n",
       "      <th>listing_id</th>\n",
       "      <th>longitude</th>\n",
       "      <th>manager_id</th>\n",
       "      <th>photos</th>\n",
       "      <th>price</th>\n",
       "      <th>street_address</th>\n",
       "      <th>interest_level</th>\n",
       "    </tr>\n",
       "  </thead>\n",
       "  <tbody>\n",
       "    <tr>\n",
       "      <td>53144</td>\n",
       "      <td>1.0</td>\n",
       "      <td>0</td>\n",
       "      <td>64f8e51f01a36ab0cd55fe9de2381306</td>\n",
       "      <td>2016-05-24 05:24:56</td>\n",
       "      <td>&lt;p&gt;&lt;a  website_redacted</td>\n",
       "      <td>Madison</td>\n",
       "      <td>[Doorman, Elevator, High Speed Internet]</td>\n",
       "      <td>40.7120</td>\n",
       "      <td>7060255</td>\n",
       "      <td>-73.9971</td>\n",
       "      <td>29ebd2f6553fbe12706a006a97349dd6</td>\n",
       "      <td>[]</td>\n",
       "      <td>43</td>\n",
       "      <td>60 Madison</td>\n",
       "      <td>low</td>\n",
       "    </tr>\n",
       "    <tr>\n",
       "      <td>87511</td>\n",
       "      <td>1.0</td>\n",
       "      <td>0</td>\n",
       "      <td>d992b617c630de9c7b903a54562682dc</td>\n",
       "      <td>2016-04-02 02:43:15</td>\n",
       "      <td>&lt;p&gt;&lt;a  website_redacted</td>\n",
       "      <td>W 30th St.</td>\n",
       "      <td>[Elevator]</td>\n",
       "      <td>40.7479</td>\n",
       "      <td>6813772</td>\n",
       "      <td>-73.9917</td>\n",
       "      <td>29ebd2f6553fbe12706a006a97349dd6</td>\n",
       "      <td>[https://photos.renthop.com/2/6813772_323b9438...</td>\n",
       "      <td>45</td>\n",
       "      <td>140 W 30th St.</td>\n",
       "      <td>low</td>\n",
       "    </tr>\n",
       "  </tbody>\n",
       "</table>\n",
       "</div>"
      ],
      "text/plain": [
       "       bathrooms  bedrooms                       building_id  \\\n",
       "53144        1.0         0  64f8e51f01a36ab0cd55fe9de2381306   \n",
       "87511        1.0         0  d992b617c630de9c7b903a54562682dc   \n",
       "\n",
       "                   created               description display_address  \\\n",
       "53144  2016-05-24 05:24:56  <p><a  website_redacted          Madison   \n",
       "87511  2016-04-02 02:43:15  <p><a  website_redacted       W 30th St.   \n",
       "\n",
       "                                       features  latitude  listing_id  \\\n",
       "53144  [Doorman, Elevator, High Speed Internet]   40.7120     7060255   \n",
       "87511                                [Elevator]   40.7479     6813772   \n",
       "\n",
       "       longitude                        manager_id  \\\n",
       "53144   -73.9971  29ebd2f6553fbe12706a006a97349dd6   \n",
       "87511   -73.9917  29ebd2f6553fbe12706a006a97349dd6   \n",
       "\n",
       "                                                  photos  price  \\\n",
       "53144                                                 []     43   \n",
       "87511  [https://photos.renthop.com/2/6813772_323b9438...     45   \n",
       "\n",
       "       street_address interest_level  \n",
       "53144      60 Madison            low  \n",
       "87511  140 W 30th St.            low  "
      ]
     },
     "execution_count": 11,
     "metadata": {},
     "output_type": "execute_result"
    }
   ],
   "source": [
    "train_df[train_df['price'] < 100]"
   ]
  },
  {
   "cell_type": "markdown",
   "metadata": {},
   "source": [
    "The two entries look somewhat legitimate, other than the fact that the descriptions contain \"website_redacted\". However, because the rent values are unrealistically low for NYC, we must assume that the prices are erroneous. Because we do not know what the true price is, we remove these data points."
   ]
  },
  {
   "cell_type": "markdown",
   "metadata": {},
   "source": [
    "### Final outlier removal"
   ]
  },
  {
   "cell_type": "markdown",
   "metadata": {},
   "source": [
    "Summarizing our investigation into unusually high and low listing prices, we have decided to retain listings between \\\\$100 and \\\\$1 million."
   ]
  },
  {
   "cell_type": "code",
   "execution_count": 21,
   "metadata": {
    "scrolled": true
   },
   "outputs": [],
   "source": [
    "price_filtered = train_df[(train_df['price'] > 100) & (train_df['price'] < 1000000)]['price']"
   ]
  },
  {
   "cell_type": "markdown",
   "metadata": {},
   "source": [
    "### Price distribution, after outlier removal"
   ]
  },
  {
   "cell_type": "code",
   "execution_count": 24,
   "metadata": {},
   "outputs": [
    {
     "data": {
      "text/plain": [
       "<matplotlib.axes._subplots.AxesSubplot at 0x2fb7e690948>"
      ]
     },
     "execution_count": 24,
     "metadata": {},
     "output_type": "execute_result"
    },
    {
     "data": {
      "image/png": "[encoded data removed]",
      "text/plain": [
       "<Figure size 432x288 with 1 Axes>"
      ]
     },
     "metadata": {
      "needs_background": "light"
     },
     "output_type": "display_data"
    }
   ],
   "source": [
    "price_filtered.plot(kind='box')"
   ]
  },
  {
   "cell_type": "code",
   "execution_count": 26,
   "metadata": {},
   "outputs": [
    {
     "data": {
      "image/png": "[encoded data removed]",
      "text/plain": [
       "<Figure size 432x288 with 1 Axes>"
      ]
     },
     "metadata": {
      "needs_background": "light"
     },
     "output_type": "display_data"
    }
   ],
   "source": [
    "ax = price_filtered.plot.hist(bins=1000, logx=True)\n",
    "ax.set_xlabel('Price')\n",
    "plt.tight_layout()"
   ]
  },
  {
   "cell_type": "markdown",
   "metadata": {},
   "source": [
    "From the histogram, it is evident that the vast majority of listings fall between \\\\$1,000 and \\\\$10,000. This is consistent with what we know about current-day NYE rental prices."
   ]
  },
  {
   "cell_type": "markdown",
   "metadata": {},
   "source": [
    "## Latitude/Longitude"
   ]
  },
  {
   "cell_type": "markdown",
   "metadata": {},
   "source": [
    "We now focus our attention on looking for outliers in latitude and longitude. Like price, these features together may be informative in predicting interest level."
   ]
  },
  {
   "cell_type": "markdown",
   "metadata": {},
   "source": [
    "### Latitude"
   ]
  },
  {
   "cell_type": "code",
   "execution_count": 25,
   "metadata": {},
   "outputs": [
    {
     "data": {
      "image/png": "[encoded data removed]",
      "text/plain": [
       "<Figure size 432x288 with 1 Axes>"
      ]
     },
     "metadata": {
      "needs_background": "light"
     },
     "output_type": "display_data"
    }
   ],
   "source": [
    "lats = train_df[['latitude']]\n",
    "\n",
    "lats.plot.hist(bins=1000)\n",
    "plt.tight_layout()"
   ]
  },
  {
   "cell_type": "markdown",
   "metadata": {},
   "source": [
    "It appears that most of the data is around 41° N. This is consistent with the fact that NYC's actual coordinates are:\n",
    "\n",
    "40.7128° N, 74.0060° W\n",
    "\n",
    "But why does the histogram look so compressed? Notably, the x-axis ranges from 0 to 40. Perhaps there are some latitude values of 0..."
   ]
  },
  {
   "cell_type": "code",
   "execution_count": 34,
   "metadata": {},
   "outputs": [
    {
     "data": {
      "text/html": [
       "<div>\n",
       "<style scoped>\n",
       "    .dataframe tbody tr th:only-of-type {\n",
       "        vertical-align: middle;\n",
       "    }\n",
       "\n",
       "    .dataframe tbody tr th {\n",
       "        vertical-align: top;\n",
       "    }\n",
       "\n",
       "    .dataframe thead th {\n",
       "        text-align: right;\n",
       "    }\n",
       "</style>\n",
       "<table border=\"1\" class=\"dataframe\">\n",
       "  <thead>\n",
       "    <tr style=\"text-align: right;\">\n",
       "      <th></th>\n",
       "      <th>bathrooms</th>\n",
       "      <th>bedrooms</th>\n",
       "      <th>building_id</th>\n",
       "      <th>created</th>\n",
       "      <th>description</th>\n",
       "      <th>display_address</th>\n",
       "      <th>features</th>\n",
       "      <th>latitude</th>\n",
       "      <th>listing_id</th>\n",
       "      <th>longitude</th>\n",
       "      <th>manager_id</th>\n",
       "      <th>photos</th>\n",
       "      <th>price</th>\n",
       "      <th>street_address</th>\n",
       "      <th>interest_level</th>\n",
       "    </tr>\n",
       "  </thead>\n",
       "  <tbody>\n",
       "    <tr>\n",
       "      <td>2028</td>\n",
       "      <td>1.0</td>\n",
       "      <td>1</td>\n",
       "      <td>1490317c3a31185f0c8115f01d1acc5b</td>\n",
       "      <td>2016-05-31 22:26:06</td>\n",
       "      <td>Gorgeous one bedroom in Sunset Park-Private en...</td>\n",
       "      <td>Sunset Park, Brooklyn</td>\n",
       "      <td>[hardwood floors, own entrance, oak cabinets]</td>\n",
       "      <td>0.0</td>\n",
       "      <td>7087715</td>\n",
       "      <td>0.0</td>\n",
       "      <td>2290f91e45472ecaf0983c5af18098ce</td>\n",
       "      <td>[https://photos.renthop.com/2/7087715_mb_3517f...</td>\n",
       "      <td>1750</td>\n",
       "      <td>145 28 Street</td>\n",
       "      <td>low</td>\n",
       "    </tr>\n",
       "    <tr>\n",
       "      <td>37426</td>\n",
       "      <td>1.0</td>\n",
       "      <td>1</td>\n",
       "      <td>0</td>\n",
       "      <td>2016-06-01 19:59:46</td>\n",
       "      <td>Big 2 bedroom in clean and quite multi family ...</td>\n",
       "      <td>88 van Sicklen street</td>\n",
       "      <td>[Reduced Fee, Cats Allowed]</td>\n",
       "      <td>0.0</td>\n",
       "      <td>7094527</td>\n",
       "      <td>0.0</td>\n",
       "      <td>e6472c7237327dd3903b3d6f6a94515a</td>\n",
       "      <td>[https://photos.renthop.com/2/7094527_mb_7f196...</td>\n",
       "      <td>1725</td>\n",
       "      <td>Van Sicklen street</td>\n",
       "      <td>low</td>\n",
       "    </tr>\n",
       "    <tr>\n",
       "      <td>39134</td>\n",
       "      <td>1.0</td>\n",
       "      <td>2</td>\n",
       "      <td>a1b2bd0758c6f14be815e4d9382b8169</td>\n",
       "      <td>2016-06-16 15:38:11</td>\n",
       "      <td>Flatiron Duplex!At the intersection of Flatiro...</td>\n",
       "      <td>Flatiron, Kips Bay, Gramercy</td>\n",
       "      <td>[Views, No Fee, Duplex, Laundry in Unit, Cats ...</td>\n",
       "      <td>0.0</td>\n",
       "      <td>7174094</td>\n",
       "      <td>0.0</td>\n",
       "      <td>42cb18c3898c42b7512065e7d3e1e8bd</td>\n",
       "      <td>[https://photos.renthop.com/2/7174094_mb_e3c7e...</td>\n",
       "      <td>4395</td>\n",
       "      <td>219 E 28th</td>\n",
       "      <td>low</td>\n",
       "    </tr>\n",
       "    <tr>\n",
       "      <td>46941</td>\n",
       "      <td>1.0</td>\n",
       "      <td>2</td>\n",
       "      <td>8f837ada8d7ec5d251a369cd5909af7c</td>\n",
       "      <td>2016-05-07 08:15:32</td>\n",
       "      <td>Spacious and bright 2 bedroom fully renovated ...</td>\n",
       "      <td>Madison Ave</td>\n",
       "      <td>[Laundry in Unit, Roof Deck, &lt;null&gt;]</td>\n",
       "      <td>0.0</td>\n",
       "      <td>6981091</td>\n",
       "      <td>0.0</td>\n",
       "      <td>b93b333035403fc090fb51372fb082f9</td>\n",
       "      <td>[https://photos.renthop.com/2/6981091_mb_efd73...</td>\n",
       "      <td>2950</td>\n",
       "      <td>1632 Madison Ave</td>\n",
       "      <td>medium</td>\n",
       "    </tr>\n",
       "    <tr>\n",
       "      <td>49884</td>\n",
       "      <td>1.0</td>\n",
       "      <td>2</td>\n",
       "      <td>ebb1fe8e32b8565f057a20abc495a2b5</td>\n",
       "      <td>2016-05-10 10:25:19</td>\n",
       "      <td>New construction, luxury highrise, The two bed...</td>\n",
       "      <td>24th St LIC</td>\n",
       "      <td>[Doorman, Fitness Center, Laundry in Unit, Cat...</td>\n",
       "      <td>0.0</td>\n",
       "      <td>6991620</td>\n",
       "      <td>0.0</td>\n",
       "      <td>dd85ae9242e4012be8a386d37c1d9453</td>\n",
       "      <td>[https://photos.renthop.com/2/6991620_mb_e7c05...</td>\n",
       "      <td>3619</td>\n",
       "      <td>41-42 24th St</td>\n",
       "      <td>low</td>\n",
       "    </tr>\n",
       "    <tr>\n",
       "      <td>63688</td>\n",
       "      <td>4.0</td>\n",
       "      <td>3</td>\n",
       "      <td>f389c8eb16e5d0c771615fb30f3cc9d6</td>\n",
       "      <td>2016-05-11 18:07:15</td>\n",
       "      <td>This high floor, mint condition, corner unit b...</td>\n",
       "      <td>450 East 83rd Street apt 21D (Furnished)</td>\n",
       "      <td>[Furnished, Laundry In Unit, Cats Allowed, Dog...</td>\n",
       "      <td>0.0</td>\n",
       "      <td>6997950</td>\n",
       "      <td>0.0</td>\n",
       "      <td>355ccd9223a7481c5d223d39b4e65e90</td>\n",
       "      <td>[https://photos.renthop.com/2/6997950_4ef02f8c...</td>\n",
       "      <td>16500</td>\n",
       "      <td>450 East 83rd Street</td>\n",
       "      <td>low</td>\n",
       "    </tr>\n",
       "    <tr>\n",
       "      <td>66197</td>\n",
       "      <td>1.0</td>\n",
       "      <td>1</td>\n",
       "      <td>4d7c804afea366c666731bee9c56919e</td>\n",
       "      <td>2016-05-10 14:30:12</td>\n",
       "      <td>NO FEE!  Spacious one bedroom apartment in a F...</td>\n",
       "      <td>west 87</td>\n",
       "      <td>[Doorman, Fitness Center, No Fee, Cats Allowed...</td>\n",
       "      <td>0.0</td>\n",
       "      <td>6991901</td>\n",
       "      <td>0.0</td>\n",
       "      <td>7d4f285c15b11c61bacfbf8e7a49252d</td>\n",
       "      <td>[https://photos.renthop.com/2/6991901_mb_e3232...</td>\n",
       "      <td>3600</td>\n",
       "      <td>247 west 87</td>\n",
       "      <td>low</td>\n",
       "    </tr>\n",
       "    <tr>\n",
       "      <td>69423</td>\n",
       "      <td>1.0</td>\n",
       "      <td>2</td>\n",
       "      <td>55ab81a4ccd5ea862fba344dc29f1463</td>\n",
       "      <td>2016-05-24 17:43:39</td>\n",
       "      <td>Fantastic 2 bed with the works! It has 2 queen...</td>\n",
       "      <td>118 W 109th</td>\n",
       "      <td>[Cats Allowed, Dogs Allowed, No Fee, Laundry i...</td>\n",
       "      <td>0.0</td>\n",
       "      <td>7062134</td>\n",
       "      <td>0.0</td>\n",
       "      <td>91c09ae8bfdc7e5ba7d6385e33a6064d</td>\n",
       "      <td>[https://photos.renthop.com/2/7062134_mb_9f18c...</td>\n",
       "      <td>3200</td>\n",
       "      <td>118 W 109th</td>\n",
       "      <td>low</td>\n",
       "    </tr>\n",
       "    <tr>\n",
       "      <td>70841</td>\n",
       "      <td>1.0</td>\n",
       "      <td>1</td>\n",
       "      <td>09e6efa1a58a3cd753aeee80bdf5ec36</td>\n",
       "      <td>2016-05-10 10:11:20</td>\n",
       "      <td>No fee! Prime NOLITA neighborhood with amazing...</td>\n",
       "      <td>Mott St</td>\n",
       "      <td>[No Fee, &lt;null&gt;]</td>\n",
       "      <td>0.0</td>\n",
       "      <td>6991613</td>\n",
       "      <td>0.0</td>\n",
       "      <td>dd85ae9242e4012be8a386d37c1d9453</td>\n",
       "      <td>[https://photos.renthop.com/2/6991613_mb_b7cec...</td>\n",
       "      <td>3495</td>\n",
       "      <td>246 Mott St</td>\n",
       "      <td>low</td>\n",
       "    </tr>\n",
       "    <tr>\n",
       "      <td>76934</td>\n",
       "      <td>1.0</td>\n",
       "      <td>2</td>\n",
       "      <td>cf6bfdca7e8ffdb3fa5f7d8d85005e4a</td>\n",
       "      <td>2016-05-26 14:19:38</td>\n",
       "      <td>*Mgmt is accepting June 1st, 15th, July 1st, o...</td>\n",
       "      <td>106th/Central Park</td>\n",
       "      <td>[Cats Allowed, Dogs Allowed, No Fee, Laundry i...</td>\n",
       "      <td>0.0</td>\n",
       "      <td>7072634</td>\n",
       "      <td>0.0</td>\n",
       "      <td>91c09ae8bfdc7e5ba7d6385e33a6064d</td>\n",
       "      <td>[https://photos.renthop.com/2/7072634_mb_90dba...</td>\n",
       "      <td>3200</td>\n",
       "      <td>21 W 106th</td>\n",
       "      <td>low</td>\n",
       "    </tr>\n",
       "    <tr>\n",
       "      <td>85521</td>\n",
       "      <td>1.0</td>\n",
       "      <td>0</td>\n",
       "      <td>a742bc8b82eedb42a3d5111d62dd843b</td>\n",
       "      <td>2016-04-19 12:16:43</td>\n",
       "      <td>Gorgeous sunny studio in Midtown East with an ...</td>\n",
       "      <td>e. 53 St</td>\n",
       "      <td>[]</td>\n",
       "      <td>0.0</td>\n",
       "      <td>6896885</td>\n",
       "      <td>0.0</td>\n",
       "      <td>b93b333035403fc090fb51372fb082f9</td>\n",
       "      <td>[https://photos.renthop.com/2/6896885_mb_48518...</td>\n",
       "      <td>1850</td>\n",
       "      <td>338 e. 53</td>\n",
       "      <td>low</td>\n",
       "    </tr>\n",
       "    <tr>\n",
       "      <td>106350</td>\n",
       "      <td>5.0</td>\n",
       "      <td>6</td>\n",
       "      <td>0</td>\n",
       "      <td>2016-04-18 02:14:51</td>\n",
       "      <td>***NO BROKER FEE***&lt;BR&gt;&lt;BR&gt;Situated on a gorge...</td>\n",
       "      <td>Decatur Street</td>\n",
       "      <td>[Garden/Patio, Terrace, No Fee, Outdoor Space,...</td>\n",
       "      <td>0.0</td>\n",
       "      <td>6888639</td>\n",
       "      <td>0.0</td>\n",
       "      <td>c639a76f31c41923cd91d23875a72264</td>\n",
       "      <td>[https://photos.renthop.com/2/6888639_87eb648f...</td>\n",
       "      <td>9995</td>\n",
       "      <td>259 Decatur Street</td>\n",
       "      <td>low</td>\n",
       "    </tr>\n",
       "  </tbody>\n",
       "</table>\n",
       "</div>"
      ],
      "text/plain": [
       "        bathrooms  bedrooms                       building_id  \\\n",
       "2028          1.0         1  1490317c3a31185f0c8115f01d1acc5b   \n",
       "37426         1.0         1                                 0   \n",
       "39134         1.0         2  a1b2bd0758c6f14be815e4d9382b8169   \n",
       "46941         1.0         2  8f837ada8d7ec5d251a369cd5909af7c   \n",
       "49884         1.0         2  ebb1fe8e32b8565f057a20abc495a2b5   \n",
       "63688         4.0         3  f389c8eb16e5d0c771615fb30f3cc9d6   \n",
       "66197         1.0         1  4d7c804afea366c666731bee9c56919e   \n",
       "69423         1.0         2  55ab81a4ccd5ea862fba344dc29f1463   \n",
       "70841         1.0         1  09e6efa1a58a3cd753aeee80bdf5ec36   \n",
       "76934         1.0         2  cf6bfdca7e8ffdb3fa5f7d8d85005e4a   \n",
       "85521         1.0         0  a742bc8b82eedb42a3d5111d62dd843b   \n",
       "106350        5.0         6                                 0   \n",
       "\n",
       "                    created  \\\n",
       "2028    2016-05-31 22:26:06   \n",
       "37426   2016-06-01 19:59:46   \n",
       "39134   2016-06-16 15:38:11   \n",
       "46941   2016-05-07 08:15:32   \n",
       "49884   2016-05-10 10:25:19   \n",
       "63688   2016-05-11 18:07:15   \n",
       "66197   2016-05-10 14:30:12   \n",
       "69423   2016-05-24 17:43:39   \n",
       "70841   2016-05-10 10:11:20   \n",
       "76934   2016-05-26 14:19:38   \n",
       "85521   2016-04-19 12:16:43   \n",
       "106350  2016-04-18 02:14:51   \n",
       "\n",
       "                                              description  \\\n",
       "2028    Gorgeous one bedroom in Sunset Park-Private en...   \n",
       "37426   Big 2 bedroom in clean and quite multi family ...   \n",
       "39134   Flatiron Duplex!At the intersection of Flatiro...   \n",
       "46941   Spacious and bright 2 bedroom fully renovated ...   \n",
       "49884   New construction, luxury highrise, The two bed...   \n",
       "63688   This high floor, mint condition, corner unit b...   \n",
       "66197   NO FEE!  Spacious one bedroom apartment in a F...   \n",
       "69423   Fantastic 2 bed with the works! It has 2 queen...   \n",
       "70841   No fee! Prime NOLITA neighborhood with amazing...   \n",
       "76934   *Mgmt is accepting June 1st, 15th, July 1st, o...   \n",
       "85521   Gorgeous sunny studio in Midtown East with an ...   \n",
       "106350  ***NO BROKER FEE***<BR><BR>Situated on a gorge...   \n",
       "\n",
       "                                 display_address  \\\n",
       "2028                       Sunset Park, Brooklyn   \n",
       "37426                      88 van Sicklen street   \n",
       "39134               Flatiron, Kips Bay, Gramercy   \n",
       "46941                                Madison Ave   \n",
       "49884                                24th St LIC   \n",
       "63688   450 East 83rd Street apt 21D (Furnished)   \n",
       "66197                                    west 87   \n",
       "69423                                118 W 109th   \n",
       "70841                                    Mott St   \n",
       "76934                         106th/Central Park   \n",
       "85521                                   e. 53 St   \n",
       "106350                            Decatur Street   \n",
       "\n",
       "                                                 features  latitude  \\\n",
       "2028        [hardwood floors, own entrance, oak cabinets]       0.0   \n",
       "37426                         [Reduced Fee, Cats Allowed]       0.0   \n",
       "39134   [Views, No Fee, Duplex, Laundry in Unit, Cats ...       0.0   \n",
       "46941                [Laundry in Unit, Roof Deck, <null>]       0.0   \n",
       "49884   [Doorman, Fitness Center, Laundry in Unit, Cat...       0.0   \n",
       "63688   [Furnished, Laundry In Unit, Cats Allowed, Dog...       0.0   \n",
       "66197   [Doorman, Fitness Center, No Fee, Cats Allowed...       0.0   \n",
       "69423   [Cats Allowed, Dogs Allowed, No Fee, Laundry i...       0.0   \n",
       "70841                                    [No Fee, <null>]       0.0   \n",
       "76934   [Cats Allowed, Dogs Allowed, No Fee, Laundry i...       0.0   \n",
       "85521                                                  []       0.0   \n",
       "106350  [Garden/Patio, Terrace, No Fee, Outdoor Space,...       0.0   \n",
       "\n",
       "        listing_id  longitude                        manager_id  \\\n",
       "2028       7087715        0.0  2290f91e45472ecaf0983c5af18098ce   \n",
       "37426      7094527        0.0  e6472c7237327dd3903b3d6f6a94515a   \n",
       "39134      7174094        0.0  42cb18c3898c42b7512065e7d3e1e8bd   \n",
       "46941      6981091        0.0  b93b333035403fc090fb51372fb082f9   \n",
       "49884      6991620        0.0  dd85ae9242e4012be8a386d37c1d9453   \n",
       "63688      6997950        0.0  355ccd9223a7481c5d223d39b4e65e90   \n",
       "66197      6991901        0.0  7d4f285c15b11c61bacfbf8e7a49252d   \n",
       "69423      7062134        0.0  91c09ae8bfdc7e5ba7d6385e33a6064d   \n",
       "70841      6991613        0.0  dd85ae9242e4012be8a386d37c1d9453   \n",
       "76934      7072634        0.0  91c09ae8bfdc7e5ba7d6385e33a6064d   \n",
       "85521      6896885        0.0  b93b333035403fc090fb51372fb082f9   \n",
       "106350     6888639        0.0  c639a76f31c41923cd91d23875a72264   \n",
       "\n",
       "                                                   photos  price  \\\n",
       "2028    [https://photos.renthop.com/2/7087715_mb_3517f...   1750   \n",
       "37426   [https://photos.renthop.com/2/7094527_mb_7f196...   1725   \n",
       "39134   [https://photos.renthop.com/2/7174094_mb_e3c7e...   4395   \n",
       "46941   [https://photos.renthop.com/2/6981091_mb_efd73...   2950   \n",
       "49884   [https://photos.renthop.com/2/6991620_mb_e7c05...   3619   \n",
       "63688   [https://photos.renthop.com/2/6997950_4ef02f8c...  16500   \n",
       "66197   [https://photos.renthop.com/2/6991901_mb_e3232...   3600   \n",
       "69423   [https://photos.renthop.com/2/7062134_mb_9f18c...   3200   \n",
       "70841   [https://photos.renthop.com/2/6991613_mb_b7cec...   3495   \n",
       "76934   [https://photos.renthop.com/2/7072634_mb_90dba...   3200   \n",
       "85521   [https://photos.renthop.com/2/6896885_mb_48518...   1850   \n",
       "106350  [https://photos.renthop.com/2/6888639_87eb648f...   9995   \n",
       "\n",
       "              street_address interest_level  \n",
       "2028           145 28 Street            low  \n",
       "37426     Van Sicklen street            low  \n",
       "39134             219 E 28th            low  \n",
       "46941       1632 Madison Ave         medium  \n",
       "49884         41-42 24th St             low  \n",
       "63688   450 East 83rd Street            low  \n",
       "66197            247 west 87            low  \n",
       "69423            118 W 109th            low  \n",
       "70841           246 Mott St             low  \n",
       "76934             21 W 106th            low  \n",
       "85521              338 e. 53            low  \n",
       "106350    259 Decatur Street            low  "
      ]
     },
     "execution_count": 34,
     "metadata": {},
     "output_type": "execute_result"
    }
   ],
   "source": [
    "missing_latitude = train_df[train_df['latitude'] == 0]\n",
    "\n",
    "missing_latitude"
   ]
  },
  {
   "cell_type": "code",
   "execution_count": 30,
   "metadata": {},
   "outputs": [
    {
     "data": {
      "text/plain": [
       "12"
      ]
     },
     "execution_count": 30,
     "metadata": {},
     "output_type": "execute_result"
    }
   ],
   "source": [
    "missing_latitude.shape[0]"
   ]
  },
  {
   "cell_type": "markdown",
   "metadata": {},
   "source": [
    "There are 12 rentals with latitude 0. A latitude of 0 degrees may make sense if the city is directly above the Equator, but since we are talking about New York City, this is impossible. Therefore, a latitude of 0 implies missing latitude information.\n",
    "\n",
    "Interestingly enough, all 12 rentals have longitude values of 0 as well. But let's look into longitude separately..."
   ]
  },
  {
   "cell_type": "markdown",
   "metadata": {},
   "source": [
    "### Longitude"
   ]
  },
  {
   "cell_type": "markdown",
   "metadata": {},
   "source": [
    "Since a latitude of 0 can exist in the data, we also search for longitude values of 0."
   ]
  },
  {
   "cell_type": "code",
   "execution_count": 35,
   "metadata": {},
   "outputs": [
    {
     "data": {
      "text/html": [
       "<div>\n",
       "<style scoped>\n",
       "    .dataframe tbody tr th:only-of-type {\n",
       "        vertical-align: middle;\n",
       "    }\n",
       "\n",
       "    .dataframe tbody tr th {\n",
       "        vertical-align: top;\n",
       "    }\n",
       "\n",
       "    .dataframe thead th {\n",
       "        text-align: right;\n",
       "    }\n",
       "</style>\n",
       "<table border=\"1\" class=\"dataframe\">\n",
       "  <thead>\n",
       "    <tr style=\"text-align: right;\">\n",
       "      <th></th>\n",
       "      <th>bathrooms</th>\n",
       "      <th>bedrooms</th>\n",
       "      <th>building_id</th>\n",
       "      <th>created</th>\n",
       "      <th>description</th>\n",
       "      <th>display_address</th>\n",
       "      <th>features</th>\n",
       "      <th>latitude</th>\n",
       "      <th>listing_id</th>\n",
       "      <th>longitude</th>\n",
       "      <th>manager_id</th>\n",
       "      <th>photos</th>\n",
       "      <th>price</th>\n",
       "      <th>street_address</th>\n",
       "      <th>interest_level</th>\n",
       "    </tr>\n",
       "  </thead>\n",
       "  <tbody>\n",
       "    <tr>\n",
       "      <td>2028</td>\n",
       "      <td>1.0</td>\n",
       "      <td>1</td>\n",
       "      <td>1490317c3a31185f0c8115f01d1acc5b</td>\n",
       "      <td>2016-05-31 22:26:06</td>\n",
       "      <td>Gorgeous one bedroom in Sunset Park-Private en...</td>\n",
       "      <td>Sunset Park, Brooklyn</td>\n",
       "      <td>[hardwood floors, own entrance, oak cabinets]</td>\n",
       "      <td>0.0</td>\n",
       "      <td>7087715</td>\n",
       "      <td>0.0</td>\n",
       "      <td>2290f91e45472ecaf0983c5af18098ce</td>\n",
       "      <td>[https://photos.renthop.com/2/7087715_mb_3517f...</td>\n",
       "      <td>1750</td>\n",
       "      <td>145 28 Street</td>\n",
       "      <td>low</td>\n",
       "    </tr>\n",
       "    <tr>\n",
       "      <td>37426</td>\n",
       "      <td>1.0</td>\n",
       "      <td>1</td>\n",
       "      <td>0</td>\n",
       "      <td>2016-06-01 19:59:46</td>\n",
       "      <td>Big 2 bedroom in clean and quite multi family ...</td>\n",
       "      <td>88 van Sicklen street</td>\n",
       "      <td>[Reduced Fee, Cats Allowed]</td>\n",
       "      <td>0.0</td>\n",
       "      <td>7094527</td>\n",
       "      <td>0.0</td>\n",
       "      <td>e6472c7237327dd3903b3d6f6a94515a</td>\n",
       "      <td>[https://photos.renthop.com/2/7094527_mb_7f196...</td>\n",
       "      <td>1725</td>\n",
       "      <td>Van Sicklen street</td>\n",
       "      <td>low</td>\n",
       "    </tr>\n",
       "    <tr>\n",
       "      <td>39134</td>\n",
       "      <td>1.0</td>\n",
       "      <td>2</td>\n",
       "      <td>a1b2bd0758c6f14be815e4d9382b8169</td>\n",
       "      <td>2016-06-16 15:38:11</td>\n",
       "      <td>Flatiron Duplex!At the intersection of Flatiro...</td>\n",
       "      <td>Flatiron, Kips Bay, Gramercy</td>\n",
       "      <td>[Views, No Fee, Duplex, Laundry in Unit, Cats ...</td>\n",
       "      <td>0.0</td>\n",
       "      <td>7174094</td>\n",
       "      <td>0.0</td>\n",
       "      <td>42cb18c3898c42b7512065e7d3e1e8bd</td>\n",
       "      <td>[https://photos.renthop.com/2/7174094_mb_e3c7e...</td>\n",
       "      <td>4395</td>\n",
       "      <td>219 E 28th</td>\n",
       "      <td>low</td>\n",
       "    </tr>\n",
       "    <tr>\n",
       "      <td>46941</td>\n",
       "      <td>1.0</td>\n",
       "      <td>2</td>\n",
       "      <td>8f837ada8d7ec5d251a369cd5909af7c</td>\n",
       "      <td>2016-05-07 08:15:32</td>\n",
       "      <td>Spacious and bright 2 bedroom fully renovated ...</td>\n",
       "      <td>Madison Ave</td>\n",
       "      <td>[Laundry in Unit, Roof Deck, &lt;null&gt;]</td>\n",
       "      <td>0.0</td>\n",
       "      <td>6981091</td>\n",
       "      <td>0.0</td>\n",
       "      <td>b93b333035403fc090fb51372fb082f9</td>\n",
       "      <td>[https://photos.renthop.com/2/6981091_mb_efd73...</td>\n",
       "      <td>2950</td>\n",
       "      <td>1632 Madison Ave</td>\n",
       "      <td>medium</td>\n",
       "    </tr>\n",
       "    <tr>\n",
       "      <td>49884</td>\n",
       "      <td>1.0</td>\n",
       "      <td>2</td>\n",
       "      <td>ebb1fe8e32b8565f057a20abc495a2b5</td>\n",
       "      <td>2016-05-10 10:25:19</td>\n",
       "      <td>New construction, luxury highrise, The two bed...</td>\n",
       "      <td>24th St LIC</td>\n",
       "      <td>[Doorman, Fitness Center, Laundry in Unit, Cat...</td>\n",
       "      <td>0.0</td>\n",
       "      <td>6991620</td>\n",
       "      <td>0.0</td>\n",
       "      <td>dd85ae9242e4012be8a386d37c1d9453</td>\n",
       "      <td>[https://photos.renthop.com/2/6991620_mb_e7c05...</td>\n",
       "      <td>3619</td>\n",
       "      <td>41-42 24th St</td>\n",
       "      <td>low</td>\n",
       "    </tr>\n",
       "    <tr>\n",
       "      <td>63688</td>\n",
       "      <td>4.0</td>\n",
       "      <td>3</td>\n",
       "      <td>f389c8eb16e5d0c771615fb30f3cc9d6</td>\n",
       "      <td>2016-05-11 18:07:15</td>\n",
       "      <td>This high floor, mint condition, corner unit b...</td>\n",
       "      <td>450 East 83rd Street apt 21D (Furnished)</td>\n",
       "      <td>[Furnished, Laundry In Unit, Cats Allowed, Dog...</td>\n",
       "      <td>0.0</td>\n",
       "      <td>6997950</td>\n",
       "      <td>0.0</td>\n",
       "      <td>355ccd9223a7481c5d223d39b4e65e90</td>\n",
       "      <td>[https://photos.renthop.com/2/6997950_4ef02f8c...</td>\n",
       "      <td>16500</td>\n",
       "      <td>450 East 83rd Street</td>\n",
       "      <td>low</td>\n",
       "    </tr>\n",
       "    <tr>\n",
       "      <td>66197</td>\n",
       "      <td>1.0</td>\n",
       "      <td>1</td>\n",
       "      <td>4d7c804afea366c666731bee9c56919e</td>\n",
       "      <td>2016-05-10 14:30:12</td>\n",
       "      <td>NO FEE!  Spacious one bedroom apartment in a F...</td>\n",
       "      <td>west 87</td>\n",
       "      <td>[Doorman, Fitness Center, No Fee, Cats Allowed...</td>\n",
       "      <td>0.0</td>\n",
       "      <td>6991901</td>\n",
       "      <td>0.0</td>\n",
       "      <td>7d4f285c15b11c61bacfbf8e7a49252d</td>\n",
       "      <td>[https://photos.renthop.com/2/6991901_mb_e3232...</td>\n",
       "      <td>3600</td>\n",
       "      <td>247 west 87</td>\n",
       "      <td>low</td>\n",
       "    </tr>\n",
       "    <tr>\n",
       "      <td>69423</td>\n",
       "      <td>1.0</td>\n",
       "      <td>2</td>\n",
       "      <td>55ab81a4ccd5ea862fba344dc29f1463</td>\n",
       "      <td>2016-05-24 17:43:39</td>\n",
       "      <td>Fantastic 2 bed with the works! It has 2 queen...</td>\n",
       "      <td>118 W 109th</td>\n",
       "      <td>[Cats Allowed, Dogs Allowed, No Fee, Laundry i...</td>\n",
       "      <td>0.0</td>\n",
       "      <td>7062134</td>\n",
       "      <td>0.0</td>\n",
       "      <td>91c09ae8bfdc7e5ba7d6385e33a6064d</td>\n",
       "      <td>[https://photos.renthop.com/2/7062134_mb_9f18c...</td>\n",
       "      <td>3200</td>\n",
       "      <td>118 W 109th</td>\n",
       "      <td>low</td>\n",
       "    </tr>\n",
       "    <tr>\n",
       "      <td>70841</td>\n",
       "      <td>1.0</td>\n",
       "      <td>1</td>\n",
       "      <td>09e6efa1a58a3cd753aeee80bdf5ec36</td>\n",
       "      <td>2016-05-10 10:11:20</td>\n",
       "      <td>No fee! Prime NOLITA neighborhood with amazing...</td>\n",
       "      <td>Mott St</td>\n",
       "      <td>[No Fee, &lt;null&gt;]</td>\n",
       "      <td>0.0</td>\n",
       "      <td>6991613</td>\n",
       "      <td>0.0</td>\n",
       "      <td>dd85ae9242e4012be8a386d37c1d9453</td>\n",
       "      <td>[https://photos.renthop.com/2/6991613_mb_b7cec...</td>\n",
       "      <td>3495</td>\n",
       "      <td>246 Mott St</td>\n",
       "      <td>low</td>\n",
       "    </tr>\n",
       "    <tr>\n",
       "      <td>76934</td>\n",
       "      <td>1.0</td>\n",
       "      <td>2</td>\n",
       "      <td>cf6bfdca7e8ffdb3fa5f7d8d85005e4a</td>\n",
       "      <td>2016-05-26 14:19:38</td>\n",
       "      <td>*Mgmt is accepting June 1st, 15th, July 1st, o...</td>\n",
       "      <td>106th/Central Park</td>\n",
       "      <td>[Cats Allowed, Dogs Allowed, No Fee, Laundry i...</td>\n",
       "      <td>0.0</td>\n",
       "      <td>7072634</td>\n",
       "      <td>0.0</td>\n",
       "      <td>91c09ae8bfdc7e5ba7d6385e33a6064d</td>\n",
       "      <td>[https://photos.renthop.com/2/7072634_mb_90dba...</td>\n",
       "      <td>3200</td>\n",
       "      <td>21 W 106th</td>\n",
       "      <td>low</td>\n",
       "    </tr>\n",
       "    <tr>\n",
       "      <td>85521</td>\n",
       "      <td>1.0</td>\n",
       "      <td>0</td>\n",
       "      <td>a742bc8b82eedb42a3d5111d62dd843b</td>\n",
       "      <td>2016-04-19 12:16:43</td>\n",
       "      <td>Gorgeous sunny studio in Midtown East with an ...</td>\n",
       "      <td>e. 53 St</td>\n",
       "      <td>[]</td>\n",
       "      <td>0.0</td>\n",
       "      <td>6896885</td>\n",
       "      <td>0.0</td>\n",
       "      <td>b93b333035403fc090fb51372fb082f9</td>\n",
       "      <td>[https://photos.renthop.com/2/6896885_mb_48518...</td>\n",
       "      <td>1850</td>\n",
       "      <td>338 e. 53</td>\n",
       "      <td>low</td>\n",
       "    </tr>\n",
       "    <tr>\n",
       "      <td>106350</td>\n",
       "      <td>5.0</td>\n",
       "      <td>6</td>\n",
       "      <td>0</td>\n",
       "      <td>2016-04-18 02:14:51</td>\n",
       "      <td>***NO BROKER FEE***&lt;BR&gt;&lt;BR&gt;Situated on a gorge...</td>\n",
       "      <td>Decatur Street</td>\n",
       "      <td>[Garden/Patio, Terrace, No Fee, Outdoor Space,...</td>\n",
       "      <td>0.0</td>\n",
       "      <td>6888639</td>\n",
       "      <td>0.0</td>\n",
       "      <td>c639a76f31c41923cd91d23875a72264</td>\n",
       "      <td>[https://photos.renthop.com/2/6888639_87eb648f...</td>\n",
       "      <td>9995</td>\n",
       "      <td>259 Decatur Street</td>\n",
       "      <td>low</td>\n",
       "    </tr>\n",
       "  </tbody>\n",
       "</table>\n",
       "</div>"
      ],
      "text/plain": [
       "        bathrooms  bedrooms                       building_id  \\\n",
       "2028          1.0         1  1490317c3a31185f0c8115f01d1acc5b   \n",
       "37426         1.0         1                                 0   \n",
       "39134         1.0         2  a1b2bd0758c6f14be815e4d9382b8169   \n",
       "46941         1.0         2  8f837ada8d7ec5d251a369cd5909af7c   \n",
       "49884         1.0         2  ebb1fe8e32b8565f057a20abc495a2b5   \n",
       "63688         4.0         3  f389c8eb16e5d0c771615fb30f3cc9d6   \n",
       "66197         1.0         1  4d7c804afea366c666731bee9c56919e   \n",
       "69423         1.0         2  55ab81a4ccd5ea862fba344dc29f1463   \n",
       "70841         1.0         1  09e6efa1a58a3cd753aeee80bdf5ec36   \n",
       "76934         1.0         2  cf6bfdca7e8ffdb3fa5f7d8d85005e4a   \n",
       "85521         1.0         0  a742bc8b82eedb42a3d5111d62dd843b   \n",
       "106350        5.0         6                                 0   \n",
       "\n",
       "                    created  \\\n",
       "2028    2016-05-31 22:26:06   \n",
       "37426   2016-06-01 19:59:46   \n",
       "39134   2016-06-16 15:38:11   \n",
       "46941   2016-05-07 08:15:32   \n",
       "49884   2016-05-10 10:25:19   \n",
       "63688   2016-05-11 18:07:15   \n",
       "66197   2016-05-10 14:30:12   \n",
       "69423   2016-05-24 17:43:39   \n",
       "70841   2016-05-10 10:11:20   \n",
       "76934   2016-05-26 14:19:38   \n",
       "85521   2016-04-19 12:16:43   \n",
       "106350  2016-04-18 02:14:51   \n",
       "\n",
       "                                              description  \\\n",
       "2028    Gorgeous one bedroom in Sunset Park-Private en...   \n",
       "37426   Big 2 bedroom in clean and quite multi family ...   \n",
       "39134   Flatiron Duplex!At the intersection of Flatiro...   \n",
       "46941   Spacious and bright 2 bedroom fully renovated ...   \n",
       "49884   New construction, luxury highrise, The two bed...   \n",
       "63688   This high floor, mint condition, corner unit b...   \n",
       "66197   NO FEE!  Spacious one bedroom apartment in a F...   \n",
       "69423   Fantastic 2 bed with the works! It has 2 queen...   \n",
       "70841   No fee! Prime NOLITA neighborhood with amazing...   \n",
       "76934   *Mgmt is accepting June 1st, 15th, July 1st, o...   \n",
       "85521   Gorgeous sunny studio in Midtown East with an ...   \n",
       "106350  ***NO BROKER FEE***<BR><BR>Situated on a gorge...   \n",
       "\n",
       "                                 display_address  \\\n",
       "2028                       Sunset Park, Brooklyn   \n",
       "37426                      88 van Sicklen street   \n",
       "39134               Flatiron, Kips Bay, Gramercy   \n",
       "46941                                Madison Ave   \n",
       "49884                                24th St LIC   \n",
       "63688   450 East 83rd Street apt 21D (Furnished)   \n",
       "66197                                    west 87   \n",
       "69423                                118 W 109th   \n",
       "70841                                    Mott St   \n",
       "76934                         106th/Central Park   \n",
       "85521                                   e. 53 St   \n",
       "106350                            Decatur Street   \n",
       "\n",
       "                                                 features  latitude  \\\n",
       "2028        [hardwood floors, own entrance, oak cabinets]       0.0   \n",
       "37426                         [Reduced Fee, Cats Allowed]       0.0   \n",
       "39134   [Views, No Fee, Duplex, Laundry in Unit, Cats ...       0.0   \n",
       "46941                [Laundry in Unit, Roof Deck, <null>]       0.0   \n",
       "49884   [Doorman, Fitness Center, Laundry in Unit, Cat...       0.0   \n",
       "63688   [Furnished, Laundry In Unit, Cats Allowed, Dog...       0.0   \n",
       "66197   [Doorman, Fitness Center, No Fee, Cats Allowed...       0.0   \n",
       "69423   [Cats Allowed, Dogs Allowed, No Fee, Laundry i...       0.0   \n",
       "70841                                    [No Fee, <null>]       0.0   \n",
       "76934   [Cats Allowed, Dogs Allowed, No Fee, Laundry i...       0.0   \n",
       "85521                                                  []       0.0   \n",
       "106350  [Garden/Patio, Terrace, No Fee, Outdoor Space,...       0.0   \n",
       "\n",
       "        listing_id  longitude                        manager_id  \\\n",
       "2028       7087715        0.0  2290f91e45472ecaf0983c5af18098ce   \n",
       "37426      7094527        0.0  e6472c7237327dd3903b3d6f6a94515a   \n",
       "39134      7174094        0.0  42cb18c3898c42b7512065e7d3e1e8bd   \n",
       "46941      6981091        0.0  b93b333035403fc090fb51372fb082f9   \n",
       "49884      6991620        0.0  dd85ae9242e4012be8a386d37c1d9453   \n",
       "63688      6997950        0.0  355ccd9223a7481c5d223d39b4e65e90   \n",
       "66197      6991901        0.0  7d4f285c15b11c61bacfbf8e7a49252d   \n",
       "69423      7062134        0.0  91c09ae8bfdc7e5ba7d6385e33a6064d   \n",
       "70841      6991613        0.0  dd85ae9242e4012be8a386d37c1d9453   \n",
       "76934      7072634        0.0  91c09ae8bfdc7e5ba7d6385e33a6064d   \n",
       "85521      6896885        0.0  b93b333035403fc090fb51372fb082f9   \n",
       "106350     6888639        0.0  c639a76f31c41923cd91d23875a72264   \n",
       "\n",
       "                                                   photos  price  \\\n",
       "2028    [https://photos.renthop.com/2/7087715_mb_3517f...   1750   \n",
       "37426   [https://photos.renthop.com/2/7094527_mb_7f196...   1725   \n",
       "39134   [https://photos.renthop.com/2/7174094_mb_e3c7e...   4395   \n",
       "46941   [https://photos.renthop.com/2/6981091_mb_efd73...   2950   \n",
       "49884   [https://photos.renthop.com/2/6991620_mb_e7c05...   3619   \n",
       "63688   [https://photos.renthop.com/2/6997950_4ef02f8c...  16500   \n",
       "66197   [https://photos.renthop.com/2/6991901_mb_e3232...   3600   \n",
       "69423   [https://photos.renthop.com/2/7062134_mb_9f18c...   3200   \n",
       "70841   [https://photos.renthop.com/2/6991613_mb_b7cec...   3495   \n",
       "76934   [https://photos.renthop.com/2/7072634_mb_90dba...   3200   \n",
       "85521   [https://photos.renthop.com/2/6896885_mb_48518...   1850   \n",
       "106350  [https://photos.renthop.com/2/6888639_87eb648f...   9995   \n",
       "\n",
       "              street_address interest_level  \n",
       "2028           145 28 Street            low  \n",
       "37426     Van Sicklen street            low  \n",
       "39134             219 E 28th            low  \n",
       "46941       1632 Madison Ave         medium  \n",
       "49884         41-42 24th St             low  \n",
       "63688   450 East 83rd Street            low  \n",
       "66197            247 west 87            low  \n",
       "69423            118 W 109th            low  \n",
       "70841           246 Mott St             low  \n",
       "76934             21 W 106th            low  \n",
       "85521              338 e. 53            low  \n",
       "106350    259 Decatur Street            low  "
      ]
     },
     "execution_count": 35,
     "metadata": {},
     "output_type": "execute_result"
    }
   ],
   "source": [
    "missing_longitude = train_df[train_df['longitude']==0]\n",
    "missing_longitude"
   ]
  },
  {
   "cell_type": "code",
   "execution_count": 33,
   "metadata": {},
   "outputs": [
    {
     "data": {
      "text/plain": [
       "12"
      ]
     },
     "execution_count": 33,
     "metadata": {},
     "output_type": "execute_result"
    }
   ],
   "source": [
    "missing_longitude.shape[0]"
   ]
  },
  {
   "cell_type": "markdown",
   "metadata": {},
   "source": [
    "The above 12 rows with missing longitude are idential to the 12 rows with missing latitude."
   ]
  },
  {
   "cell_type": "markdown",
   "metadata": {},
   "source": [
    "### Handling missing lat/lon data"
   ]
  },
  {
   "cell_type": "markdown",
   "metadata": {},
   "source": [
    "Unlike price outliers (which all had target value of 'low'), rows with missing lat/lon data actually vary in the label. There is one listing that has interest level 'medium'. Thus, it may not be prudent to remove these rows from the training set. Instead, we will substitute/impute these values with coordinates based on the address.\n",
    "\n",
    "Since there are only 12 addresses, this step can be performed manually by looking up the coordinate of each address (street_address)."
   ]
  },
  {
   "cell_type": "code",
   "execution_count": 36,
   "metadata": {},
   "outputs": [],
   "source": [
    "train_df.loc[train_df['listing_id'] == 7087715, 'latitude'] = 40.65876\n",
    "train_df.loc[train_df['listing_id'] == 7087715, 'longitude'] = -73.99971\n",
    "\n",
    "train_df.loc[train_df['listing_id'] == 7094527, 'latitude'] = 40.597351\n",
    "train_df.loc[train_df['listing_id'] == 7094527, 'longitude'] = -73.974953\n",
    "\n",
    "train_df.loc[train_df['listing_id'] == 7174094, 'latitude'] = 40.741722\n",
    "train_df.loc[train_df['listing_id'] == 7174094, 'longitude'] = -73.980286\n",
    "\n",
    "train_df.loc[train_df['listing_id'] == 6981091, 'latitude'] = 40.793788\n",
    "train_df.loc[train_df['listing_id'] == 6981091, 'longitude'] = -73.949379\n",
    "\n",
    "train_df.loc[train_df['listing_id'] == 6991620, 'latitude'] = 40.754372\n",
    "train_df.loc[train_df['listing_id'] == 6991620, 'longitude'] = -73.938271\n",
    "\n",
    "train_df.loc[train_df['listing_id'] == 6997950, 'latitude'] = 40.773941\n",
    "train_df.loc[train_df['listing_id'] == 6997950, 'longitude'] = -73.948471\n",
    "\n",
    "train_df.loc[train_df['listing_id'] == 6997950, 'latitude'] = 40.773941\n",
    "train_df.loc[train_df['listing_id'] == 6997950, 'longitude'] = -73.948471\n",
    "\n",
    "train_df.loc[train_df['listing_id'] == 6991901, 'latitude'] = 40.78775\n",
    "train_df.loc[train_df['listing_id'] == 6991901, 'longitude'] = -73.973091\n",
    "\n",
    "train_df.loc[train_df['listing_id'] == 6991901, 'latitude'] = 40.78775\n",
    "train_df.loc[train_df['listing_id'] == 6991901, 'longitude'] = -73.973091\n",
    "\n",
    "train_df.loc[train_df['listing_id'] == 7062134, 'latitude'] = 40.801037\n",
    "train_df.loc[train_df['listing_id'] == 7062134, 'longitude'] = -73.961136\n",
    "\n",
    "train_df.loc[train_df['listing_id'] == 6991613, 'latitude'] = 40.723129\n",
    "train_df.loc[train_df['listing_id'] == 6991613, 'longitude'] = -73.994857\n",
    "\n",
    "train_df.loc[train_df['listing_id'] == 7072634, 'latitude'] = 40.798981\n",
    "train_df.loc[train_df['listing_id'] == 7072634, 'longitude'] = -73.96228\n",
    "\n",
    "train_df.loc[train_df['listing_id'] == 6896885, 'latitude'] = 40.756149\n",
    "train_df.loc[train_df['listing_id'] == 6896885, 'longitude'] = -73.965714\n",
    "\n",
    "train_df.loc[train_df['listing_id'] == 6888639, 'latitude'] = 40.681404\n",
    "train_df.loc[train_df['listing_id'] == 6888639, 'longitude'] = -73.9338"
   ]
  },
  {
   "cell_type": "markdown",
   "metadata": {},
   "source": [
    "Let's verify that the coordinate values have been updated."
   ]
  },
  {
   "cell_type": "code",
   "execution_count": 37,
   "metadata": {},
   "outputs": [
    {
     "data": {
      "text/html": [
       "<div>\n",
       "<style scoped>\n",
       "    .dataframe tbody tr th:only-of-type {\n",
       "        vertical-align: middle;\n",
       "    }\n",
       "\n",
       "    .dataframe tbody tr th {\n",
       "        vertical-align: top;\n",
       "    }\n",
       "\n",
       "    .dataframe thead th {\n",
       "        text-align: right;\n",
       "    }\n",
       "</style>\n",
       "<table border=\"1\" class=\"dataframe\">\n",
       "  <thead>\n",
       "    <tr style=\"text-align: right;\">\n",
       "      <th></th>\n",
       "      <th>latitude</th>\n",
       "      <th>longitude</th>\n",
       "    </tr>\n",
       "  </thead>\n",
       "  <tbody>\n",
       "    <tr>\n",
       "      <td>106350</td>\n",
       "      <td>40.681404</td>\n",
       "      <td>-73.9338</td>\n",
       "    </tr>\n",
       "  </tbody>\n",
       "</table>\n",
       "</div>"
      ],
      "text/plain": [
       "         latitude  longitude\n",
       "106350  40.681404   -73.9338"
      ]
     },
     "execution_count": 37,
     "metadata": {},
     "output_type": "execute_result"
    }
   ],
   "source": [
    "train_df[train_df['listing_id'] == 6888639][['latitude', 'longitude']]"
   ]
  },
  {
   "cell_type": "markdown",
   "metadata": {},
   "source": [
    "### Non-empty, unusual values"
   ]
  },
  {
   "cell_type": "markdown",
   "metadata": {},
   "source": [
    "By now we have accounted for missing values, but we still have not completely accounted for unusual values. To reiterate, the coordinate of New York City is (40.7128° N, 74.0060° W). Anything that deviates significantly from this coordinate should be caught, and if possible, find the true coordinate based on the address, as with missing coordinate data.\n",
    "\n",
    "First, we look at the sorted latitude data and see if any values pop out as unusual."
   ]
  },
  {
   "cell_type": "code",
   "execution_count": 42,
   "metadata": {},
   "outputs": [],
   "source": [
    "lats = train_df['latitude'].sort_values()\n",
    "lons = train_df['longitude'].sort_values()"
   ]
  },
  {
   "cell_type": "code",
   "execution_count": 49,
   "metadata": {},
   "outputs": [
    {
     "data": {
      "text/plain": [
       "<matplotlib.axes._subplots.AxesSubplot at 0x2fb7db44948>"
      ]
     },
     "execution_count": 49,
     "metadata": {},
     "output_type": "execute_result"
    },
    {
     "data": {
      "image/png": "[encoded data removed]",
      "text/plain": [
       "<Figure size 432x288 with 1 Axes>"
      ]
     },
     "metadata": {
      "needs_background": "light"
     },
     "output_type": "display_data"
    }
   ],
   "source": [
    "lats.plot(kind='box')"
   ]
  },
  {
   "cell_type": "code",
   "execution_count": 50,
   "metadata": {},
   "outputs": [
    {
     "data": {
      "text/plain": [
       "<matplotlib.axes._subplots.AxesSubplot at 0x2fb7db21708>"
      ]
     },
     "execution_count": 50,
     "metadata": {},
     "output_type": "execute_result"
    },
    {
     "data": {
      "image/png": "[encoded data removed]",
      "text/plain": [
       "<Figure size 432x288 with 1 Axes>"
      ]
     },
     "metadata": {
      "needs_background": "light"
     },
     "output_type": "display_data"
    }
   ],
   "source": [
    "lons.plot(kind='box')"
   ]
  },
  {
   "cell_type": "markdown",
   "metadata": {},
   "source": [
    "From the boxplots, the median latitude is ~41 degrees N, and the median latitude is ~74 degrees W. This is consistent with the real coordinates. However, there are many outliers that fall completely outside of the State of New York. Consider the coordinate corresponding to latitude 34 degrees N:"
   ]
  },
  {
   "cell_type": "code",
   "execution_count": 63,
   "metadata": {},
   "outputs": [
    {
     "data": {
      "text/plain": [
       "34.0126"
      ]
     },
     "execution_count": 63,
     "metadata": {},
     "output_type": "execute_result"
    }
   ],
   "source": [
    "# Find the smallest latitude value\n",
    "lats.sort_values().iloc[0]"
   ]
  },
  {
   "cell_type": "code",
   "execution_count": 64,
   "metadata": {},
   "outputs": [
    {
     "name": "stdout",
     "output_type": "stream",
     "text": [
      "34.0126 -118.271\n"
     ]
    }
   ],
   "source": [
    "# Print coordinates (negative value for longtitude implies West)\n",
    "print(train_df[train_df.latitude == 34.0126]['latitude'].values[0], \n",
    "      train_df[train_df.latitude == 34.0126]['longitude'].values[0])"
   ]
  },
  {
   "cell_type": "markdown",
   "metadata": {},
   "source": [
    "When this coordinate is searched on Google Maps, the result is a location in the city of Los Angeles, California. We decide to remove this value, because a single datapoint for Los Angeles will not help us make predictions for New York."
   ]
  },
  {
   "cell_type": "code",
   "execution_count": 71,
   "metadata": {},
   "outputs": [
    {
     "data": {
      "text/plain": [
       "39798"
      ]
     },
     "execution_count": 71,
     "metadata": {},
     "output_type": "execute_result"
    }
   ],
   "source": [
    "# Get the index of the LA data point\n",
    "train_df[train_df.latitude == 34.0126].index.values[0]"
   ]
  },
  {
   "cell_type": "code",
   "execution_count": 74,
   "metadata": {},
   "outputs": [],
   "source": [
    "# delete row\n",
    "train_df = train_df.drop([39798])"
   ]
  },
  {
   "cell_type": "code",
   "execution_count": 75,
   "metadata": {},
   "outputs": [
    {
     "data": {
      "text/plain": [
       "0"
      ]
     },
     "execution_count": 75,
     "metadata": {},
     "output_type": "execute_result"
    }
   ],
   "source": [
    "# Confirm the row was deleted\n",
    "train_df[train_df.latitude == 34.0126].shape[0]"
   ]
  },
  {
   "cell_type": "markdown",
   "metadata": {},
   "source": [
    "We could remove other outliers as well, but for the purposes of time we choose not to do so."
   ]
  },
  {
   "cell_type": "markdown",
   "metadata": {},
   "source": [
    "## Bathrooms"
   ]
  },
  {
   "cell_type": "code",
   "execution_count": 29,
   "metadata": {
    "scrolled": true
   },
   "outputs": [
    {
     "data": {
      "text/html": [
       "<div>\n",
       "<style scoped>\n",
       "    .dataframe tbody tr th:only-of-type {\n",
       "        vertical-align: middle;\n",
       "    }\n",
       "\n",
       "    .dataframe tbody tr th {\n",
       "        vertical-align: top;\n",
       "    }\n",
       "\n",
       "    .dataframe thead th {\n",
       "        text-align: right;\n",
       "    }\n",
       "</style>\n",
       "<table border=\"1\" class=\"dataframe\">\n",
       "  <thead>\n",
       "    <tr style=\"text-align: right;\">\n",
       "      <th></th>\n",
       "      <th>bathrooms</th>\n",
       "    </tr>\n",
       "  </thead>\n",
       "  <tbody>\n",
       "    <tr>\n",
       "      <th>115414</th>\n",
       "      <td>0.0</td>\n",
       "    </tr>\n",
       "    <tr>\n",
       "      <th>39813</th>\n",
       "      <td>0.0</td>\n",
       "    </tr>\n",
       "    <tr>\n",
       "      <th>53671</th>\n",
       "      <td>0.0</td>\n",
       "    </tr>\n",
       "    <tr>\n",
       "      <th>8973</th>\n",
       "      <td>0.0</td>\n",
       "    </tr>\n",
       "    <tr>\n",
       "      <th>82931</th>\n",
       "      <td>0.0</td>\n",
       "    </tr>\n",
       "    <tr>\n",
       "      <th>...</th>\n",
       "      <td>...</td>\n",
       "    </tr>\n",
       "    <tr>\n",
       "      <th>91709</th>\n",
       "      <td>6.0</td>\n",
       "    </tr>\n",
       "    <tr>\n",
       "      <th>79611</th>\n",
       "      <td>6.0</td>\n",
       "    </tr>\n",
       "    <tr>\n",
       "      <th>26937</th>\n",
       "      <td>6.5</td>\n",
       "    </tr>\n",
       "    <tr>\n",
       "      <th>84566</th>\n",
       "      <td>7.0</td>\n",
       "    </tr>\n",
       "    <tr>\n",
       "      <th>104459</th>\n",
       "      <td>10.0</td>\n",
       "    </tr>\n",
       "  </tbody>\n",
       "</table>\n",
       "<p>49352 rows × 1 columns</p>\n",
       "</div>"
      ],
      "text/plain": [
       "        bathrooms\n",
       "115414        0.0\n",
       "39813         0.0\n",
       "53671         0.0\n",
       "8973          0.0\n",
       "82931         0.0\n",
       "...           ...\n",
       "91709         6.0\n",
       "79611         6.0\n",
       "26937         6.5\n",
       "84566         7.0\n",
       "104459       10.0\n",
       "\n",
       "[49352 rows x 1 columns]"
      ]
     },
     "execution_count": 29,
     "metadata": {},
     "output_type": "execute_result"
    }
   ],
   "source": [
    "baths = train_df[['bathrooms']]\n",
    "\n",
    "baths.sort_values('bathrooms')"
   ]
  },
  {
   "cell_type": "code",
   "execution_count": 30,
   "metadata": {},
   "outputs": [
    {
     "data": {
      "text/plain": [
       "<matplotlib.axes._subplots.AxesSubplot at 0x12c946588>"
      ]
     },
     "execution_count": 30,
     "metadata": {},
     "output_type": "execute_result"
    },
    {
     "data": {
      "image/png": "[encoded data removed]",
      "text/plain": [
       "<Figure size 432x288 with 1 Axes>"
      ]
     },
     "metadata": {
      "needs_background": "light"
     },
     "output_type": "display_data"
    }
   ],
   "source": [
    "baths.plot(kind='box')"
   ]
  },
  {
   "cell_type": "code",
   "execution_count": 31,
   "metadata": {},
   "outputs": [
    {
     "data": {
      "text/plain": [
       "313"
      ]
     },
     "execution_count": 31,
     "metadata": {},
     "output_type": "execute_result"
    }
   ],
   "source": [
    "missing_baths = len(train_df[(train_df['bathrooms'].isnull()) | (train_df['bathrooms']==0)])\n",
    "\n",
    "missing_baths"
   ]
  },
  {
   "cell_type": "markdown",
   "metadata": {},
   "source": [
    "Imputing bathroom values of 0 to mode of bathrooms"
   ]
  },
  {
   "cell_type": "code",
   "execution_count": 46,
   "metadata": {},
   "outputs": [],
   "source": [
    "bath_mode = baths.mode().values[0][0]"
   ]
  },
  {
   "cell_type": "code",
   "execution_count": 42,
   "metadata": {},
   "outputs": [],
   "source": [
    "train_df.loc[train_df['bathrooms'] == 0, 'bathrooms'] = bath_mode"
   ]
  },
  {
   "cell_type": "code",
   "execution_count": 45,
   "metadata": {},
   "outputs": [
    {
     "data": {
      "text/html": [
       "<div>\n",
       "<style scoped>\n",
       "    .dataframe tbody tr th:only-of-type {\n",
       "        vertical-align: middle;\n",
       "    }\n",
       "\n",
       "    .dataframe tbody tr th {\n",
       "        vertical-align: top;\n",
       "    }\n",
       "\n",
       "    .dataframe thead th {\n",
       "        text-align: right;\n",
       "    }\n",
       "</style>\n",
       "<table border=\"1\" class=\"dataframe\">\n",
       "  <thead>\n",
       "    <tr style=\"text-align: right;\">\n",
       "      <th></th>\n",
       "      <th>bathrooms</th>\n",
       "      <th>bedrooms</th>\n",
       "      <th>building_id</th>\n",
       "      <th>created</th>\n",
       "      <th>description</th>\n",
       "      <th>display_address</th>\n",
       "      <th>features</th>\n",
       "      <th>latitude</th>\n",
       "      <th>listing_id</th>\n",
       "      <th>longitude</th>\n",
       "      <th>manager_id</th>\n",
       "      <th>photos</th>\n",
       "      <th>price</th>\n",
       "      <th>street_address</th>\n",
       "      <th>interest_level</th>\n",
       "    </tr>\n",
       "  </thead>\n",
       "  <tbody>\n",
       "    <tr>\n",
       "      <th>4</th>\n",
       "      <td>1.0</td>\n",
       "      <td>1</td>\n",
       "      <td>8579a0b0d54db803821a35a4a615e97a</td>\n",
       "      <td>2016-06-16 05:55:27</td>\n",
       "      <td>Spacious 1 Bedroom 1 Bathroom in Williamsburg!...</td>\n",
       "      <td>145 Borinquen Place</td>\n",
       "      <td>[Dining Room, Pre-War, Laundry in Building, Di...</td>\n",
       "      <td>40.7108</td>\n",
       "      <td>7170325</td>\n",
       "      <td>-73.9539</td>\n",
       "      <td>a10db4590843d78c784171a107bdacb4</td>\n",
       "      <td>[https://photos.renthop.com/2/7170325_3bb5ac84...</td>\n",
       "      <td>2400</td>\n",
       "      <td>145 Borinquen Place</td>\n",
       "      <td>medium</td>\n",
       "    </tr>\n",
       "    <tr>\n",
       "      <th>78286</th>\n",
       "      <td>1.0</td>\n",
       "      <td>3</td>\n",
       "      <td>abb2b16b6783b5cbfd63894f26581576</td>\n",
       "      <td>2016-05-07 04:59:16</td>\n",
       "      <td>This is a great newly renovated 3 bedroom. Apa...</td>\n",
       "      <td>East 106th Street</td>\n",
       "      <td>[Washer in Unit, Dryer in Unit, Dishwasher, No...</td>\n",
       "      <td>40.7900</td>\n",
       "      <td>6980134</td>\n",
       "      <td>-73.9416</td>\n",
       "      <td>cab9c9344919c3c5e7694f0d8c0ac7e8</td>\n",
       "      <td>[https://photos.renthop.com/2/6980134_41ea3289...</td>\n",
       "      <td>2895</td>\n",
       "      <td>314 East 106th Street</td>\n",
       "      <td>medium</td>\n",
       "    </tr>\n",
       "    <tr>\n",
       "      <th>78288</th>\n",
       "      <td>1.0</td>\n",
       "      <td>2</td>\n",
       "      <td>6b3fbd289f786a2fdac1bf8aed04060e</td>\n",
       "      <td>2016-05-04 02:47:21</td>\n",
       "      <td>Description: Great Deal! Large and Sunny Two b...</td>\n",
       "      <td>E 52 Street</td>\n",
       "      <td>[Elevator, Laundry in Building, Dishwasher, Ha...</td>\n",
       "      <td>40.7555</td>\n",
       "      <td>6962856</td>\n",
       "      <td>-73.9666</td>\n",
       "      <td>2637547481b1d0b116843dcd4cf94211</td>\n",
       "      <td>[https://photos.renthop.com/2/6962856_267305e7...</td>\n",
       "      <td>3600</td>\n",
       "      <td>324 E 52 Street</td>\n",
       "      <td>low</td>\n",
       "    </tr>\n",
       "    <tr>\n",
       "      <th>78300</th>\n",
       "      <td>1.0</td>\n",
       "      <td>3</td>\n",
       "      <td>7d0a8a49b80d9329a3098b15ac8fd1bc</td>\n",
       "      <td>2016-05-12 02:28:38</td>\n",
       "      <td>Gorgeous 3 bedroom apartment! High end custom ...</td>\n",
       "      <td>W 50 St.</td>\n",
       "      <td>[Pre-War, Laundry in Unit, Dishwasher, Hardwoo...</td>\n",
       "      <td>40.7644</td>\n",
       "      <td>6999565</td>\n",
       "      <td>-73.9905</td>\n",
       "      <td>e6472c7237327dd3903b3d6f6a94515a</td>\n",
       "      <td>[https://photos.renthop.com/2/6999565_63f5b2d6...</td>\n",
       "      <td>4495</td>\n",
       "      <td>439 W 50 St.</td>\n",
       "      <td>low</td>\n",
       "    </tr>\n",
       "    <tr>\n",
       "      <th>78308</th>\n",
       "      <td>1.0</td>\n",
       "      <td>1</td>\n",
       "      <td>125741f94ec302e52b6adf6f051ade9b</td>\n",
       "      <td>2016-05-05 01:22:05</td>\n",
       "      <td>Apartment for rent in Elmhurst 11373  SUBJECT ...</td>\n",
       "      <td>4035 Hampton Street</td>\n",
       "      <td>[elevator, pets]</td>\n",
       "      <td>40.7467</td>\n",
       "      <td>6965851</td>\n",
       "      <td>-73.8815</td>\n",
       "      <td>e6472c7237327dd3903b3d6f6a94515a</td>\n",
       "      <td>[https://photos.renthop.com/2/6965851_56c74e65...</td>\n",
       "      <td>1900</td>\n",
       "      <td>4035 Hampton Street</td>\n",
       "      <td>low</td>\n",
       "    </tr>\n",
       "    <tr>\n",
       "      <th>...</th>\n",
       "      <td>...</td>\n",
       "      <td>...</td>\n",
       "      <td>...</td>\n",
       "      <td>...</td>\n",
       "      <td>...</td>\n",
       "      <td>...</td>\n",
       "      <td>...</td>\n",
       "      <td>...</td>\n",
       "      <td>...</td>\n",
       "      <td>...</td>\n",
       "      <td>...</td>\n",
       "      <td>...</td>\n",
       "      <td>...</td>\n",
       "      <td>...</td>\n",
       "      <td>...</td>\n",
       "    </tr>\n",
       "    <tr>\n",
       "      <th>91709</th>\n",
       "      <td>6.0</td>\n",
       "      <td>6</td>\n",
       "      <td>d20bce0bc08b2731f726067a1e501162</td>\n",
       "      <td>2016-04-16 02:22:15</td>\n",
       "      <td>MANSION IN THE SKY!!! This six-bedroom full-fl...</td>\n",
       "      <td>230 West 56th Street</td>\n",
       "      <td>[Doorman, Elevator, Furnished, Laundry in Unit...</td>\n",
       "      <td>40.7654</td>\n",
       "      <td>6881666</td>\n",
       "      <td>-73.9822</td>\n",
       "      <td>37ffeac28297e956deecd7b31940c6e7</td>\n",
       "      <td>[https://photos.renthop.com/2/6881666_bedcd181...</td>\n",
       "      <td>100000</td>\n",
       "      <td>230 West 56th Street</td>\n",
       "      <td>low</td>\n",
       "    </tr>\n",
       "    <tr>\n",
       "      <th>13701</th>\n",
       "      <td>6.0</td>\n",
       "      <td>5</td>\n",
       "      <td>27531221dd5b7a63504847f7aafe45bb</td>\n",
       "      <td>2016-06-03 02:10:23</td>\n",
       "      <td>Stately 5-story townhouse residence on East 67...</td>\n",
       "      <td>East 67th Street</td>\n",
       "      <td>[Fireplace, Doorman, Elevator, Dogs Allowed, C...</td>\n",
       "      <td>40.7657</td>\n",
       "      <td>7101290</td>\n",
       "      <td>-73.9614</td>\n",
       "      <td>df7d8f04e475b5f1a34b45509b14bd70</td>\n",
       "      <td>[https://photos.renthop.com/2/7101290_ea1c58ff...</td>\n",
       "      <td>45000</td>\n",
       "      <td>240 East 67th Street</td>\n",
       "      <td>low</td>\n",
       "    </tr>\n",
       "    <tr>\n",
       "      <th>26937</th>\n",
       "      <td>6.5</td>\n",
       "      <td>7</td>\n",
       "      <td>3be1175591e290053aa6997ac8f4e3bb</td>\n",
       "      <td>2016-06-22 03:15:54</td>\n",
       "      <td>This landmark English stone manor sits majesti...</td>\n",
       "      <td>206 Upper Mountain Avenu</td>\n",
       "      <td>[Garage, Garden, Doorman]</td>\n",
       "      <td>40.8336</td>\n",
       "      <td>7198431</td>\n",
       "      <td>-74.2160</td>\n",
       "      <td>1d019cccf631394cd7f2aba471a54ca4</td>\n",
       "      <td>[https://photos.renthop.com/2/7198431_70d9d8ff...</td>\n",
       "      <td>14500</td>\n",
       "      <td>206 Upper Mountain Avenu</td>\n",
       "      <td>low</td>\n",
       "    </tr>\n",
       "    <tr>\n",
       "      <th>84566</th>\n",
       "      <td>7.0</td>\n",
       "      <td>5</td>\n",
       "      <td>0</td>\n",
       "      <td>2016-04-07 17:06:29</td>\n",
       "      <td>Extraordinary in every way. This single family...</td>\n",
       "      <td>West 9th St- High Class Townhome</td>\n",
       "      <td>[]</td>\n",
       "      <td>40.7335</td>\n",
       "      <td>6840943</td>\n",
       "      <td>-73.9974</td>\n",
       "      <td>e6472c7237327dd3903b3d6f6a94515a</td>\n",
       "      <td>[https://photos.renthop.com/2/6840943_7f4b82cf...</td>\n",
       "      <td>60000</td>\n",
       "      <td>47th West 9th St</td>\n",
       "      <td>low</td>\n",
       "    </tr>\n",
       "    <tr>\n",
       "      <th>104459</th>\n",
       "      <td>10.0</td>\n",
       "      <td>2</td>\n",
       "      <td>424f8014bddc288d26da5fe81d0bea02</td>\n",
       "      <td>2016-04-09 04:34:31</td>\n",
       "      <td>***The building?s well-attended lobby welcomes...</td>\n",
       "      <td>W 52 St.</td>\n",
       "      <td>[Doorman, Elevator, Fitness Center, Laundry in...</td>\n",
       "      <td>40.7633</td>\n",
       "      <td>6849204</td>\n",
       "      <td>-73.9849</td>\n",
       "      <td>0c71a59cb70215fbf49c9dd93efaa172</td>\n",
       "      <td>[https://photos.renthop.com/2/6849204_1f92b58a...</td>\n",
       "      <td>3600</td>\n",
       "      <td>260 W 52 St.</td>\n",
       "      <td>low</td>\n",
       "    </tr>\n",
       "  </tbody>\n",
       "</table>\n",
       "<p>49352 rows × 15 columns</p>\n",
       "</div>"
      ],
      "text/plain": [
       "        bathrooms  bedrooms                       building_id  \\\n",
       "4             1.0         1  8579a0b0d54db803821a35a4a615e97a   \n",
       "78286         1.0         3  abb2b16b6783b5cbfd63894f26581576   \n",
       "78288         1.0         2  6b3fbd289f786a2fdac1bf8aed04060e   \n",
       "78300         1.0         3  7d0a8a49b80d9329a3098b15ac8fd1bc   \n",
       "78308         1.0         1  125741f94ec302e52b6adf6f051ade9b   \n",
       "...           ...       ...                               ...   \n",
       "91709         6.0         6  d20bce0bc08b2731f726067a1e501162   \n",
       "13701         6.0         5  27531221dd5b7a63504847f7aafe45bb   \n",
       "26937         6.5         7  3be1175591e290053aa6997ac8f4e3bb   \n",
       "84566         7.0         5                                 0   \n",
       "104459       10.0         2  424f8014bddc288d26da5fe81d0bea02   \n",
       "\n",
       "                    created  \\\n",
       "4       2016-06-16 05:55:27   \n",
       "78286   2016-05-07 04:59:16   \n",
       "78288   2016-05-04 02:47:21   \n",
       "78300   2016-05-12 02:28:38   \n",
       "78308   2016-05-05 01:22:05   \n",
       "...                     ...   \n",
       "91709   2016-04-16 02:22:15   \n",
       "13701   2016-06-03 02:10:23   \n",
       "26937   2016-06-22 03:15:54   \n",
       "84566   2016-04-07 17:06:29   \n",
       "104459  2016-04-09 04:34:31   \n",
       "\n",
       "                                              description  \\\n",
       "4       Spacious 1 Bedroom 1 Bathroom in Williamsburg!...   \n",
       "78286   This is a great newly renovated 3 bedroom. Apa...   \n",
       "78288   Description: Great Deal! Large and Sunny Two b...   \n",
       "78300   Gorgeous 3 bedroom apartment! High end custom ...   \n",
       "78308   Apartment for rent in Elmhurst 11373  SUBJECT ...   \n",
       "...                                                   ...   \n",
       "91709   MANSION IN THE SKY!!! This six-bedroom full-fl...   \n",
       "13701   Stately 5-story townhouse residence on East 67...   \n",
       "26937   This landmark English stone manor sits majesti...   \n",
       "84566   Extraordinary in every way. This single family...   \n",
       "104459  ***The building?s well-attended lobby welcomes...   \n",
       "\n",
       "                         display_address  \\\n",
       "4                    145 Borinquen Place   \n",
       "78286                  East 106th Street   \n",
       "78288                        E 52 Street   \n",
       "78300                           W 50 St.   \n",
       "78308                4035 Hampton Street   \n",
       "...                                  ...   \n",
       "91709               230 West 56th Street   \n",
       "13701                   East 67th Street   \n",
       "26937           206 Upper Mountain Avenu   \n",
       "84566   West 9th St- High Class Townhome   \n",
       "104459                          W 52 St.   \n",
       "\n",
       "                                                 features  latitude  \\\n",
       "4       [Dining Room, Pre-War, Laundry in Building, Di...   40.7108   \n",
       "78286   [Washer in Unit, Dryer in Unit, Dishwasher, No...   40.7900   \n",
       "78288   [Elevator, Laundry in Building, Dishwasher, Ha...   40.7555   \n",
       "78300   [Pre-War, Laundry in Unit, Dishwasher, Hardwoo...   40.7644   \n",
       "78308                                    [elevator, pets]   40.7467   \n",
       "...                                                   ...       ...   \n",
       "91709   [Doorman, Elevator, Furnished, Laundry in Unit...   40.7654   \n",
       "13701   [Fireplace, Doorman, Elevator, Dogs Allowed, C...   40.7657   \n",
       "26937                           [Garage, Garden, Doorman]   40.8336   \n",
       "84566                                                  []   40.7335   \n",
       "104459  [Doorman, Elevator, Fitness Center, Laundry in...   40.7633   \n",
       "\n",
       "        listing_id  longitude                        manager_id  \\\n",
       "4          7170325   -73.9539  a10db4590843d78c784171a107bdacb4   \n",
       "78286      6980134   -73.9416  cab9c9344919c3c5e7694f0d8c0ac7e8   \n",
       "78288      6962856   -73.9666  2637547481b1d0b116843dcd4cf94211   \n",
       "78300      6999565   -73.9905  e6472c7237327dd3903b3d6f6a94515a   \n",
       "78308      6965851   -73.8815  e6472c7237327dd3903b3d6f6a94515a   \n",
       "...            ...        ...                               ...   \n",
       "91709      6881666   -73.9822  37ffeac28297e956deecd7b31940c6e7   \n",
       "13701      7101290   -73.9614  df7d8f04e475b5f1a34b45509b14bd70   \n",
       "26937      7198431   -74.2160  1d019cccf631394cd7f2aba471a54ca4   \n",
       "84566      6840943   -73.9974  e6472c7237327dd3903b3d6f6a94515a   \n",
       "104459     6849204   -73.9849  0c71a59cb70215fbf49c9dd93efaa172   \n",
       "\n",
       "                                                   photos   price  \\\n",
       "4       [https://photos.renthop.com/2/7170325_3bb5ac84...    2400   \n",
       "78286   [https://photos.renthop.com/2/6980134_41ea3289...    2895   \n",
       "78288   [https://photos.renthop.com/2/6962856_267305e7...    3600   \n",
       "78300   [https://photos.renthop.com/2/6999565_63f5b2d6...    4495   \n",
       "78308   [https://photos.renthop.com/2/6965851_56c74e65...    1900   \n",
       "...                                                   ...     ...   \n",
       "91709   [https://photos.renthop.com/2/6881666_bedcd181...  100000   \n",
       "13701   [https://photos.renthop.com/2/7101290_ea1c58ff...   45000   \n",
       "26937   [https://photos.renthop.com/2/7198431_70d9d8ff...   14500   \n",
       "84566   [https://photos.renthop.com/2/6840943_7f4b82cf...   60000   \n",
       "104459  [https://photos.renthop.com/2/6849204_1f92b58a...    3600   \n",
       "\n",
       "                  street_address interest_level  \n",
       "4            145 Borinquen Place         medium  \n",
       "78286      314 East 106th Street         medium  \n",
       "78288            324 E 52 Street            low  \n",
       "78300               439 W 50 St.            low  \n",
       "78308        4035 Hampton Street            low  \n",
       "...                          ...            ...  \n",
       "91709       230 West 56th Street            low  \n",
       "13701       240 East 67th Street            low  \n",
       "26937   206 Upper Mountain Avenu            low  \n",
       "84566           47th West 9th St            low  \n",
       "104459              260 W 52 St.            low  \n",
       "\n",
       "[49352 rows x 15 columns]"
      ]
     },
     "execution_count": 45,
     "metadata": {},
     "output_type": "execute_result"
    }
   ],
   "source": [
    "train_df.sort_values(by='bathrooms')"
   ]
  },
  {
   "cell_type": "markdown",
   "metadata": {},
   "source": [
    "## Bedrooms"
   ]
  },
  {
   "cell_type": "code",
   "execution_count": null,
   "metadata": {},
   "outputs": [],
   "source": [
    "missing_beds = len(train_df[(train_df['bedrooms'].isnull())])\n",
    "\n",
    "missing_beds"
   ]
  },
  {
   "cell_type": "code",
   "execution_count": null,
   "metadata": {
    "scrolled": true
   },
   "outputs": [],
   "source": [
    "beds = train_df[['bedrooms']]\n",
    "\n",
    "beds.sort_values('bedrooms')"
   ]
  },
  {
   "cell_type": "code",
   "execution_count": null,
   "metadata": {},
   "outputs": [],
   "source": [
    "beds.plot(kind='box')"
   ]
  },
  {
   "cell_type": "markdown",
   "metadata": {},
   "source": [
    "## Features"
   ]
  },
  {
   "cell_type": "code",
   "execution_count": null,
   "metadata": {},
   "outputs": [],
   "source": [
    "missing_features = len(train_df[train_df['features'].map(lambda d: len(d)) == 0])\n",
    "\n",
    "missing_features"
   ]
  },
  {
   "cell_type": "markdown",
   "metadata": {},
   "source": [
    "## Description"
   ]
  },
  {
   "cell_type": "code",
   "execution_count": null,
   "metadata": {},
   "outputs": [],
   "source": [
    "missing_description = len(train_df[train_df['description'].map(lambda d: len(d)) == 0])\n",
    "\n",
    "missing_description"
   ]
  },
  {
   "cell_type": "markdown",
   "metadata": {},
   "source": [
    "## Display Address"
   ]
  },
  {
   "cell_type": "code",
   "execution_count": null,
   "metadata": {},
   "outputs": [],
   "source": [
    "missing_address = len(train_df[train_df['display_address'].map(lambda d: len(d)) == 0])\n",
    "\n",
    "missing_address"
   ]
  },
  {
   "cell_type": "markdown",
   "metadata": {},
   "source": [
    "## Street address"
   ]
  },
  {
   "cell_type": "code",
   "execution_count": null,
   "metadata": {},
   "outputs": [],
   "source": [
    "missing_stAddress = len(train_df[train_df['street_address'].map(lambda d: len(d)) == 0])\n",
    "\n",
    "missing_stAddress"
   ]
  },
  {
   "cell_type": "markdown",
   "metadata": {},
   "source": [
    "## Photos"
   ]
  },
  {
   "cell_type": "code",
   "execution_count": null,
   "metadata": {},
   "outputs": [],
   "source": [
    "missing_photos= len(train_df[train_df['photos'].map(lambda d: len(d)) == 0])\n",
    "\n",
    "missing_photos"
   ]
  },
  {
   "cell_type": "markdown",
   "metadata": {},
   "source": [
    "## Building Id"
   ]
  },
  {
   "cell_type": "code",
   "execution_count": 20,
   "metadata": {},
   "outputs": [
    {
     "data": {
      "text/plain": [
       "8286"
      ]
     },
     "execution_count": 20,
     "metadata": {},
     "output_type": "execute_result"
    }
   ],
   "source": [
    "missing_buildid= len(train_df[train_df['building_id']=='0'])\n",
    "\n",
    "missing_buildid"
   ]
  }
 ],
 "metadata": {
  "kernelspec": {
   "display_name": "Python 3",
   "language": "python",
   "name": "python3"
  },
  "language_info": {
   "codemirror_mode": {
    "name": "ipython",
    "version": 3
   },
   "file_extension": ".py",
   "mimetype": "text/x-python",
   "name": "python",
   "nbconvert_exporter": "python",
   "pygments_lexer": "ipython3",
   "version": "3.7.4"
  }
 },
 "nbformat": 4,
 "nbformat_minor": 2
}
